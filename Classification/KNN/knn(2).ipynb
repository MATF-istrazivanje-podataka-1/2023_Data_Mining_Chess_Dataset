{
  "nbformat": 4,
  "nbformat_minor": 0,
  "metadata": {
    "colab": {
      "provenance": []
    },
    "kernelspec": {
      "name": "python3",
      "display_name": "Python 3"
    },
    "language_info": {
      "name": "python"
    }
  },
  "cells": [
    {
      "cell_type": "code",
      "execution_count": 2,
      "metadata": {
        "id": "Dg0GXq22c3l8"
      },
      "outputs": [],
      "source": [
        "import pandas as pd\n",
        "from sklearn.model_selection import train_test_split\n",
        "from sklearn.metrics import confusion_matrix\n",
        "import numpy as np\n",
        "import matplotlib.pyplot as plt\n",
        "import pandas as pd\n",
        "import seaborn as sns\n",
        "from joblib import load\n",
        "\n",
        "data = pd.read_csv('https://raw.githubusercontent.com/MATF-istrazivanje-podataka-1/2023_Data_Mining_Chess_Dataset/main/Preprocessing/preprocessed_set(1).csv')\n",
        "data.head()\n",
        "data.drop(columns='Unnamed: 0',inplace=True)"
      ]
    },
    {
      "cell_type": "code",
      "source": [
        "Y = data['winner']\n",
        "X = data.drop('winner', axis=1)\n",
        "kolone = X.columns\n",
        "X.head()"
      ],
      "metadata": {
        "id": "GmXAlSgEeYat",
        "colab": {
          "base_uri": "https://localhost:8080/",
          "height": 320
        },
        "outputId": "1ed6c8dd-89de-4477-a5fd-74e20273962a"
      },
      "execution_count": 3,
      "outputs": [
        {
          "output_type": "execute_result",
          "data": {
            "text/plain": [
              "   rated  turns  victory_status  white_rating  black_rating  \\\n",
              "0      1     16               1          1322          1261   \n",
              "1      1     61               2          1439          1454   \n",
              "2      1     95               2          1523          1469   \n",
              "3      1     33               1          1520          1423   \n",
              "4      0      9               1          1413          2108   \n",
              "\n",
              "                                               moves opening_eco  opening_ply  \\\n",
              "0  d4 Nc6 e4 e5 f4 f6 dxe5 fxe5 fxe5 Nxe5 Qd4 Nc6...         B00            4   \n",
              "1  d4 d5 Nf3 Bf5 Nc3 Nf6 Bf4 Ng4 e3 Nc6 Be2 Qd7 O...         D02            3   \n",
              "2  e4 e5 Nf3 d6 d4 Nc6 d5 Nb4 a3 Na6 Nc3 Be7 b4 N...         C41            5   \n",
              "3  d4 d5 e4 dxe4 Nc3 Nf6 f3 exf3 Nxf3 Nc6 Bb5 a6 ...         D00           10   \n",
              "4                     e4 Nc6 d4 e5 d5 Nce7 c3 Ng6 b4         B00            5   \n",
              "\n",
              "   increment_code  \n",
              "0               2  \n",
              "1               2  \n",
              "2               3  \n",
              "3               2  \n",
              "4               3  "
            ],
            "text/html": [
              "\n",
              "  <div id=\"df-b060a50a-a79b-497d-a7c3-d097ad69e4e0\">\n",
              "    <div class=\"colab-df-container\">\n",
              "      <div>\n",
              "<style scoped>\n",
              "    .dataframe tbody tr th:only-of-type {\n",
              "        vertical-align: middle;\n",
              "    }\n",
              "\n",
              "    .dataframe tbody tr th {\n",
              "        vertical-align: top;\n",
              "    }\n",
              "\n",
              "    .dataframe thead th {\n",
              "        text-align: right;\n",
              "    }\n",
              "</style>\n",
              "<table border=\"1\" class=\"dataframe\">\n",
              "  <thead>\n",
              "    <tr style=\"text-align: right;\">\n",
              "      <th></th>\n",
              "      <th>rated</th>\n",
              "      <th>turns</th>\n",
              "      <th>victory_status</th>\n",
              "      <th>white_rating</th>\n",
              "      <th>black_rating</th>\n",
              "      <th>moves</th>\n",
              "      <th>opening_eco</th>\n",
              "      <th>opening_ply</th>\n",
              "      <th>increment_code</th>\n",
              "    </tr>\n",
              "  </thead>\n",
              "  <tbody>\n",
              "    <tr>\n",
              "      <th>0</th>\n",
              "      <td>1</td>\n",
              "      <td>16</td>\n",
              "      <td>1</td>\n",
              "      <td>1322</td>\n",
              "      <td>1261</td>\n",
              "      <td>d4 Nc6 e4 e5 f4 f6 dxe5 fxe5 fxe5 Nxe5 Qd4 Nc6...</td>\n",
              "      <td>B00</td>\n",
              "      <td>4</td>\n",
              "      <td>2</td>\n",
              "    </tr>\n",
              "    <tr>\n",
              "      <th>1</th>\n",
              "      <td>1</td>\n",
              "      <td>61</td>\n",
              "      <td>2</td>\n",
              "      <td>1439</td>\n",
              "      <td>1454</td>\n",
              "      <td>d4 d5 Nf3 Bf5 Nc3 Nf6 Bf4 Ng4 e3 Nc6 Be2 Qd7 O...</td>\n",
              "      <td>D02</td>\n",
              "      <td>3</td>\n",
              "      <td>2</td>\n",
              "    </tr>\n",
              "    <tr>\n",
              "      <th>2</th>\n",
              "      <td>1</td>\n",
              "      <td>95</td>\n",
              "      <td>2</td>\n",
              "      <td>1523</td>\n",
              "      <td>1469</td>\n",
              "      <td>e4 e5 Nf3 d6 d4 Nc6 d5 Nb4 a3 Na6 Nc3 Be7 b4 N...</td>\n",
              "      <td>C41</td>\n",
              "      <td>5</td>\n",
              "      <td>3</td>\n",
              "    </tr>\n",
              "    <tr>\n",
              "      <th>3</th>\n",
              "      <td>1</td>\n",
              "      <td>33</td>\n",
              "      <td>1</td>\n",
              "      <td>1520</td>\n",
              "      <td>1423</td>\n",
              "      <td>d4 d5 e4 dxe4 Nc3 Nf6 f3 exf3 Nxf3 Nc6 Bb5 a6 ...</td>\n",
              "      <td>D00</td>\n",
              "      <td>10</td>\n",
              "      <td>2</td>\n",
              "    </tr>\n",
              "    <tr>\n",
              "      <th>4</th>\n",
              "      <td>0</td>\n",
              "      <td>9</td>\n",
              "      <td>1</td>\n",
              "      <td>1413</td>\n",
              "      <td>2108</td>\n",
              "      <td>e4 Nc6 d4 e5 d5 Nce7 c3 Ng6 b4</td>\n",
              "      <td>B00</td>\n",
              "      <td>5</td>\n",
              "      <td>3</td>\n",
              "    </tr>\n",
              "  </tbody>\n",
              "</table>\n",
              "</div>\n",
              "      <button class=\"colab-df-convert\" onclick=\"convertToInteractive('df-b060a50a-a79b-497d-a7c3-d097ad69e4e0')\"\n",
              "              title=\"Convert this dataframe to an interactive table.\"\n",
              "              style=\"display:none;\">\n",
              "        \n",
              "  <svg xmlns=\"http://www.w3.org/2000/svg\" height=\"24px\"viewBox=\"0 0 24 24\"\n",
              "       width=\"24px\">\n",
              "    <path d=\"M0 0h24v24H0V0z\" fill=\"none\"/>\n",
              "    <path d=\"M18.56 5.44l.94 2.06.94-2.06 2.06-.94-2.06-.94-.94-2.06-.94 2.06-2.06.94zm-11 1L8.5 8.5l.94-2.06 2.06-.94-2.06-.94L8.5 2.5l-.94 2.06-2.06.94zm10 10l.94 2.06.94-2.06 2.06-.94-2.06-.94-.94-2.06-.94 2.06-2.06.94z\"/><path d=\"M17.41 7.96l-1.37-1.37c-.4-.4-.92-.59-1.43-.59-.52 0-1.04.2-1.43.59L10.3 9.45l-7.72 7.72c-.78.78-.78 2.05 0 2.83L4 21.41c.39.39.9.59 1.41.59.51 0 1.02-.2 1.41-.59l7.78-7.78 2.81-2.81c.8-.78.8-2.07 0-2.86zM5.41 20L4 18.59l7.72-7.72 1.47 1.35L5.41 20z\"/>\n",
              "  </svg>\n",
              "      </button>\n",
              "      \n",
              "  <style>\n",
              "    .colab-df-container {\n",
              "      display:flex;\n",
              "      flex-wrap:wrap;\n",
              "      gap: 12px;\n",
              "    }\n",
              "\n",
              "    .colab-df-convert {\n",
              "      background-color: #E8F0FE;\n",
              "      border: none;\n",
              "      border-radius: 50%;\n",
              "      cursor: pointer;\n",
              "      display: none;\n",
              "      fill: #1967D2;\n",
              "      height: 32px;\n",
              "      padding: 0 0 0 0;\n",
              "      width: 32px;\n",
              "    }\n",
              "\n",
              "    .colab-df-convert:hover {\n",
              "      background-color: #E2EBFA;\n",
              "      box-shadow: 0px 1px 2px rgba(60, 64, 67, 0.3), 0px 1px 3px 1px rgba(60, 64, 67, 0.15);\n",
              "      fill: #174EA6;\n",
              "    }\n",
              "\n",
              "    [theme=dark] .colab-df-convert {\n",
              "      background-color: #3B4455;\n",
              "      fill: #D2E3FC;\n",
              "    }\n",
              "\n",
              "    [theme=dark] .colab-df-convert:hover {\n",
              "      background-color: #434B5C;\n",
              "      box-shadow: 0px 1px 3px 1px rgba(0, 0, 0, 0.15);\n",
              "      filter: drop-shadow(0px 1px 2px rgba(0, 0, 0, 0.3));\n",
              "      fill: #FFFFFF;\n",
              "    }\n",
              "  </style>\n",
              "\n",
              "      <script>\n",
              "        const buttonEl =\n",
              "          document.querySelector('#df-b060a50a-a79b-497d-a7c3-d097ad69e4e0 button.colab-df-convert');\n",
              "        buttonEl.style.display =\n",
              "          google.colab.kernel.accessAllowed ? 'block' : 'none';\n",
              "\n",
              "        async function convertToInteractive(key) {\n",
              "          const element = document.querySelector('#df-b060a50a-a79b-497d-a7c3-d097ad69e4e0');\n",
              "          const dataTable =\n",
              "            await google.colab.kernel.invokeFunction('convertToInteractive',\n",
              "                                                     [key], {});\n",
              "          if (!dataTable) return;\n",
              "\n",
              "          const docLinkHtml = 'Like what you see? Visit the ' +\n",
              "            '<a target=\"_blank\" href=https://colab.research.google.com/notebooks/data_table.ipynb>data table notebook</a>'\n",
              "            + ' to learn more about interactive tables.';\n",
              "          element.innerHTML = '';\n",
              "          dataTable['output_type'] = 'display_data';\n",
              "          await google.colab.output.renderOutput(dataTable, element);\n",
              "          const docLink = document.createElement('div');\n",
              "          docLink.innerHTML = docLinkHtml;\n",
              "          element.appendChild(docLink);\n",
              "        }\n",
              "      </script>\n",
              "    </div>\n",
              "  </div>\n",
              "  "
            ]
          },
          "metadata": {},
          "execution_count": 3
        }
      ]
    },
    {
      "cell_type": "code",
      "source": [
        "X.drop(columns=['moves'],inplace=True)\n",
        "X_train, X_test, Y_train, Y_test = train_test_split(X, Y, test_size=0.25)"
      ],
      "metadata": {
        "id": "rq19-Za7ogNQ"
      },
      "execution_count": 6,
      "outputs": []
    },
    {
      "cell_type": "code",
      "source": [
        "X_train.iloc[0]"
      ],
      "metadata": {
        "colab": {
          "base_uri": "https://localhost:8080/"
        },
        "id": "JaO3nfxQrI4O",
        "outputId": "6df2ae5a-176b-43d3-bb21-fa375b8c4def"
      },
      "execution_count": 7,
      "outputs": [
        {
          "output_type": "execute_result",
          "data": {
            "text/plain": [
              "rated                1\n",
              "turns               16\n",
              "victory_status       1\n",
              "white_rating      1276\n",
              "black_rating      1132\n",
              "opening_eco        C00\n",
              "opening_ply          5\n",
              "increment_code       3\n",
              "Name: 6060, dtype: object"
            ]
          },
          "metadata": {},
          "execution_count": 7
        }
      ]
    },
    {
      "cell_type": "markdown",
      "source": [
        "Vec smo videli da nemamo autlajere. Svi rejtinzi su nam u normalnom okviru kao i broj poteza, a ostali podaci su nam imenski.Sada cemo svesti rejtinge i poteze na skalu [0,1] "
      ],
      "metadata": {
        "id": "9CRX9dhUk14K"
      }
    },
    {
      "cell_type": "code",
      "source": [
        "from sklearn.metrics import confusion_matrix, accuracy_score, precision_score, recall_score, f1_score\n",
        "from sklearn.neighbors import KNeighborsClassifier\n",
        "\n",
        "def report(y_real, y_pred):\n",
        "    print('Confusion matrix: \\n', confusion_matrix(y_real, y_pred))\n",
        "    print('Accuracy score: ', accuracy_score(y_real, y_pred))\n",
        "    print('Precision score: ', precision_score(y_real, y_pred))\n",
        "    print('Recall score: ', recall_score(y_real, y_pred))\n",
        "    print('F1 score: ', f1_score(y_real, y_pred))\n",
        "\n",
        "def build_model(model, X_train, X_test, y_train, y_test):\n",
        "    model.fit(X_train, y_train)\n",
        "\n",
        "    print('Train data:\\n')\n",
        "    y_train_pred = model.predict(X_train)\n",
        "    report(y_train, y_train_pred)\n",
        "    \n",
        "    print('\\n--------------------------------------\\n')\n",
        "\n",
        "    print('Test data:\\n')\n",
        "    y_pred = model.predict(X_test)\n",
        "    report(y_test, y_pred)\n",
        "\n",
        "    return model"
      ],
      "metadata": {
        "id": "CgZ28t0Z-H0Y"
      },
      "execution_count": 8,
      "outputs": []
    },
    {
      "cell_type": "code",
      "source": [
        "# iako su otvaranja imenski atributi, moramo da ih encode-ujemo u numericke\n",
        "\n",
        "from sklearn.preprocessing import LabelEncoder\n",
        "enc=LabelEncoder()\n",
        "X_train['opening_eco']=enc.fit_transform(X_train['opening_eco'])\n",
        "X_test['opening_eco']=enc.fit_transform(X_test['opening_eco'])\n",
        "\n",
        "\n",
        "knn = KNeighborsClassifier()\n",
        "knn = build_model(knn, X_train, X_test, Y_train, Y_test)\n"
      ],
      "metadata": {
        "colab": {
          "base_uri": "https://localhost:8080/"
        },
        "id": "_L8OPKs0_unw",
        "outputId": "60153deb-e131-41fd-ef19-9836fa115f70"
      },
      "execution_count": 9,
      "outputs": [
        {
          "output_type": "stream",
          "name": "stdout",
          "text": [
            "Train data:\n",
            "\n",
            "Confusion matrix: \n",
            " [[4389 1660]\n",
            " [1521 5078]]\n",
            "Accuracy score:  0.7484977862112587\n",
            "Precision score:  0.7536360937963787\n",
            "Recall score:  0.7695105318987725\n",
            "F1 score:  0.7614905900877258\n",
            "\n",
            "--------------------------------------\n",
            "\n",
            "Test data:\n",
            "\n",
            "Confusion matrix: \n",
            " [[1193  811]\n",
            " [ 788 1425]]\n",
            "Accuracy score:  0.6208204884989329\n",
            "Precision score:  0.6372987477638641\n",
            "Recall score:  0.6439222774514234\n",
            "F1 score:  0.6405933917734322\n"
          ]
        }
      ]
    },
    {
      "cell_type": "markdown",
      "source": [
        "Zelimo da vidimo kakve rezultate cemo dobiti ako normalizujemo neke kolone"
      ],
      "metadata": {
        "id": "WZHVenAgH3NB"
      }
    },
    {
      "cell_type": "code",
      "source": [
        "# def minmax(X):\n",
        "#       return (X - min(X))/(max(X) - min(X))\n",
        "\n",
        "# n='white_rating'\n",
        "# m ='black_rating'\n",
        "# l='turns'\n",
        "\n",
        "# x=minmax(data.white_rating)\n",
        "# X_train.drop(n,axis=1,inplace=True)\n",
        "# X_train[n]=x\n",
        "\n",
        "# x = minmax(data.black_rating)\n",
        "# X_train.drop(m,axis=1,inplace=True)\n",
        "# X_train[m]=x\n",
        "\n",
        "# x=minmax(data.turns)\n",
        "# X_train.drop(l, axis=1, inplace=True)\n",
        "# X_train[l]=x\n",
        "# X_train.head()\n",
        "\n",
        "\n",
        "# x=minmax(data.white_rating)\n",
        "# X_test.drop(n,axis=1,inplace=True)\n",
        "# X_test[n]=x\n",
        "\n",
        "# x = minmax(data.black_rating)\n",
        "# X_test.drop(m,axis=1,inplace=True)\n",
        "# X_test[m]=x\n",
        "\n",
        "# x=minmax(data.turns)\n",
        "# X_test.drop(l, axis=1, inplace=True)\n",
        "# X_test[l]=x\n",
        "# X_test.head()"
      ],
      "metadata": {
        "colab": {
          "base_uri": "https://localhost:8080/",
          "height": 206
        },
        "id": "ImQjb486HfPZ",
        "outputId": "8bf277e5-d8f1-4427-d493-0c4d5aa89837"
      },
      "execution_count": null,
      "outputs": [
        {
          "output_type": "execute_result",
          "data": {
            "text/plain": [
              "       rated  victory_status  opening_eco  opening_ply  increment_code  \\\n",
              "1988       1               0            4            2               2   \n",
              "10039      0               1           37            2               2   \n",
              "802        1               2          160            7               2   \n",
              "15837      1               2           99            4               2   \n",
              "3394       1               1           37            2               2   \n",
              "\n",
              "       white_rating  black_rating     turns  \n",
              "1988       0.647182      0.624454  0.281609  \n",
              "10039      0.406054      0.774017  0.117816  \n",
              "802        0.395094      0.491812  0.114943  \n",
              "15837      0.477557      0.454148  0.275862  \n",
              "3394       0.541754      0.421943  0.339080  "
            ],
            "text/html": [
              "\n",
              "  <div id=\"df-b5045bc7-19cc-4706-a208-f604cf28b3ec\">\n",
              "    <div class=\"colab-df-container\">\n",
              "      <div>\n",
              "<style scoped>\n",
              "    .dataframe tbody tr th:only-of-type {\n",
              "        vertical-align: middle;\n",
              "    }\n",
              "\n",
              "    .dataframe tbody tr th {\n",
              "        vertical-align: top;\n",
              "    }\n",
              "\n",
              "    .dataframe thead th {\n",
              "        text-align: right;\n",
              "    }\n",
              "</style>\n",
              "<table border=\"1\" class=\"dataframe\">\n",
              "  <thead>\n",
              "    <tr style=\"text-align: right;\">\n",
              "      <th></th>\n",
              "      <th>rated</th>\n",
              "      <th>victory_status</th>\n",
              "      <th>opening_eco</th>\n",
              "      <th>opening_ply</th>\n",
              "      <th>increment_code</th>\n",
              "      <th>white_rating</th>\n",
              "      <th>black_rating</th>\n",
              "      <th>turns</th>\n",
              "    </tr>\n",
              "  </thead>\n",
              "  <tbody>\n",
              "    <tr>\n",
              "      <th>1988</th>\n",
              "      <td>1</td>\n",
              "      <td>0</td>\n",
              "      <td>4</td>\n",
              "      <td>2</td>\n",
              "      <td>2</td>\n",
              "      <td>0.647182</td>\n",
              "      <td>0.624454</td>\n",
              "      <td>0.281609</td>\n",
              "    </tr>\n",
              "    <tr>\n",
              "      <th>10039</th>\n",
              "      <td>0</td>\n",
              "      <td>1</td>\n",
              "      <td>37</td>\n",
              "      <td>2</td>\n",
              "      <td>2</td>\n",
              "      <td>0.406054</td>\n",
              "      <td>0.774017</td>\n",
              "      <td>0.117816</td>\n",
              "    </tr>\n",
              "    <tr>\n",
              "      <th>802</th>\n",
              "      <td>1</td>\n",
              "      <td>2</td>\n",
              "      <td>160</td>\n",
              "      <td>7</td>\n",
              "      <td>2</td>\n",
              "      <td>0.395094</td>\n",
              "      <td>0.491812</td>\n",
              "      <td>0.114943</td>\n",
              "    </tr>\n",
              "    <tr>\n",
              "      <th>15837</th>\n",
              "      <td>1</td>\n",
              "      <td>2</td>\n",
              "      <td>99</td>\n",
              "      <td>4</td>\n",
              "      <td>2</td>\n",
              "      <td>0.477557</td>\n",
              "      <td>0.454148</td>\n",
              "      <td>0.275862</td>\n",
              "    </tr>\n",
              "    <tr>\n",
              "      <th>3394</th>\n",
              "      <td>1</td>\n",
              "      <td>1</td>\n",
              "      <td>37</td>\n",
              "      <td>2</td>\n",
              "      <td>2</td>\n",
              "      <td>0.541754</td>\n",
              "      <td>0.421943</td>\n",
              "      <td>0.339080</td>\n",
              "    </tr>\n",
              "  </tbody>\n",
              "</table>\n",
              "</div>\n",
              "      <button class=\"colab-df-convert\" onclick=\"convertToInteractive('df-b5045bc7-19cc-4706-a208-f604cf28b3ec')\"\n",
              "              title=\"Convert this dataframe to an interactive table.\"\n",
              "              style=\"display:none;\">\n",
              "        \n",
              "  <svg xmlns=\"http://www.w3.org/2000/svg\" height=\"24px\"viewBox=\"0 0 24 24\"\n",
              "       width=\"24px\">\n",
              "    <path d=\"M0 0h24v24H0V0z\" fill=\"none\"/>\n",
              "    <path d=\"M18.56 5.44l.94 2.06.94-2.06 2.06-.94-2.06-.94-.94-2.06-.94 2.06-2.06.94zm-11 1L8.5 8.5l.94-2.06 2.06-.94-2.06-.94L8.5 2.5l-.94 2.06-2.06.94zm10 10l.94 2.06.94-2.06 2.06-.94-2.06-.94-.94-2.06-.94 2.06-2.06.94z\"/><path d=\"M17.41 7.96l-1.37-1.37c-.4-.4-.92-.59-1.43-.59-.52 0-1.04.2-1.43.59L10.3 9.45l-7.72 7.72c-.78.78-.78 2.05 0 2.83L4 21.41c.39.39.9.59 1.41.59.51 0 1.02-.2 1.41-.59l7.78-7.78 2.81-2.81c.8-.78.8-2.07 0-2.86zM5.41 20L4 18.59l7.72-7.72 1.47 1.35L5.41 20z\"/>\n",
              "  </svg>\n",
              "      </button>\n",
              "      \n",
              "  <style>\n",
              "    .colab-df-container {\n",
              "      display:flex;\n",
              "      flex-wrap:wrap;\n",
              "      gap: 12px;\n",
              "    }\n",
              "\n",
              "    .colab-df-convert {\n",
              "      background-color: #E8F0FE;\n",
              "      border: none;\n",
              "      border-radius: 50%;\n",
              "      cursor: pointer;\n",
              "      display: none;\n",
              "      fill: #1967D2;\n",
              "      height: 32px;\n",
              "      padding: 0 0 0 0;\n",
              "      width: 32px;\n",
              "    }\n",
              "\n",
              "    .colab-df-convert:hover {\n",
              "      background-color: #E2EBFA;\n",
              "      box-shadow: 0px 1px 2px rgba(60, 64, 67, 0.3), 0px 1px 3px 1px rgba(60, 64, 67, 0.15);\n",
              "      fill: #174EA6;\n",
              "    }\n",
              "\n",
              "    [theme=dark] .colab-df-convert {\n",
              "      background-color: #3B4455;\n",
              "      fill: #D2E3FC;\n",
              "    }\n",
              "\n",
              "    [theme=dark] .colab-df-convert:hover {\n",
              "      background-color: #434B5C;\n",
              "      box-shadow: 0px 1px 3px 1px rgba(0, 0, 0, 0.15);\n",
              "      filter: drop-shadow(0px 1px 2px rgba(0, 0, 0, 0.3));\n",
              "      fill: #FFFFFF;\n",
              "    }\n",
              "  </style>\n",
              "\n",
              "      <script>\n",
              "        const buttonEl =\n",
              "          document.querySelector('#df-b5045bc7-19cc-4706-a208-f604cf28b3ec button.colab-df-convert');\n",
              "        buttonEl.style.display =\n",
              "          google.colab.kernel.accessAllowed ? 'block' : 'none';\n",
              "\n",
              "        async function convertToInteractive(key) {\n",
              "          const element = document.querySelector('#df-b5045bc7-19cc-4706-a208-f604cf28b3ec');\n",
              "          const dataTable =\n",
              "            await google.colab.kernel.invokeFunction('convertToInteractive',\n",
              "                                                     [key], {});\n",
              "          if (!dataTable) return;\n",
              "\n",
              "          const docLinkHtml = 'Like what you see? Visit the ' +\n",
              "            '<a target=\"_blank\" href=https://colab.research.google.com/notebooks/data_table.ipynb>data table notebook</a>'\n",
              "            + ' to learn more about interactive tables.';\n",
              "          element.innerHTML = '';\n",
              "          dataTable['output_type'] = 'display_data';\n",
              "          await google.colab.output.renderOutput(dataTable, element);\n",
              "          const docLink = document.createElement('div');\n",
              "          docLink.innerHTML = docLinkHtml;\n",
              "          element.appendChild(docLink);\n",
              "        }\n",
              "      </script>\n",
              "    </div>\n",
              "  </div>\n",
              "  "
            ]
          },
          "metadata": {},
          "execution_count": 49
        }
      ]
    },
    {
      "cell_type": "code",
      "source": [
        "# enc=LabelEncoder()\n",
        "# X_train['opening_eco']=enc.fit_transform(X_train['opening_eco'])\n",
        "# X_test['opening_eco']=enc.fit_transform(X_test['opening_eco'])\n",
        "\n",
        "\n",
        "# knn = KNeighborsClassifier()\n",
        "# knn = build_model(knn, X_train, X_test, Y_train, Y_test)"
      ],
      "metadata": {
        "colab": {
          "base_uri": "https://localhost:8080/"
        },
        "id": "PrBB9ugxHvoY",
        "outputId": "d3e22fe7-c1e1-425a-878c-43f886762251"
      },
      "execution_count": null,
      "outputs": [
        {
          "output_type": "stream",
          "name": "stdout",
          "text": [
            "Train data:\n",
            "\n",
            "Confusion matrix: \n",
            " [[4194 1811]\n",
            " [1667 4976]]\n",
            "Accuracy score:  0.7250158127767236\n",
            "Precision score:  0.7331663474289082\n",
            "Recall score:  0.7490591600180642\n",
            "F1 score:  0.7410275502606106\n",
            "\n",
            "--------------------------------------\n",
            "\n",
            "Test data:\n",
            "\n",
            "Gde zape?\n",
            "\n",
            "Confusion matrix: \n",
            " [[1049  999]\n",
            " [ 971 1198]]\n",
            "Accuracy score:  0.5328432534977472\n",
            "Precision score:  0.5452890304961311\n",
            "Recall score:  0.5523282618718304\n",
            "F1 score:  0.5487860742098031\n"
          ]
        }
      ]
    },
    {
      "cell_type": "markdown",
      "source": [
        "##Ovde proveri rezultat kada se cele tabele X_test i X_train normalizuju"
      ],
      "metadata": {
        "id": "qYpIDZaqIDyN"
      }
    },
    {
      "cell_type": "code",
      "source": [
        "X_train= (X_train-X_train.min())/(X_train.max()-X_train.min())\n",
        "X_test= (X_test-X_test.min())/(X_test.max()-X_test.min())\n",
        "\n",
        "knn = KNeighborsClassifier()\n",
        "knn = build_model(knn, X_train, X_test, Y_train, Y_test)\n"
      ],
      "metadata": {
        "colab": {
          "base_uri": "https://localhost:8080/"
        },
        "id": "_EoHiw47KHxP",
        "outputId": "ebadd68b-0986-4d0f-ed0d-4a8b53d9fb3c"
      },
      "execution_count": null,
      "outputs": [
        {
          "output_type": "stream",
          "name": "stdout",
          "text": [
            "Train data:\n",
            "\n",
            "Confusion matrix: \n",
            " [[4295 1696]\n",
            " [1559 5098]]\n",
            "Accuracy score:  0.7426470588235294\n",
            "Precision score:  0.7503679717397704\n",
            "Recall score:  0.7658104251164188\n",
            "F1 score:  0.758010556835923\n",
            "\n",
            "--------------------------------------\n",
            "\n",
            "Test data:\n",
            "\n",
            "Confusion matrix: \n",
            " [[1133  929]\n",
            " [ 777 1378]]\n",
            "Accuracy score:  0.5954470002371354\n",
            "Precision score:  0.5973125270914608\n",
            "Recall score:  0.6394431554524362\n",
            "F1 score:  0.6176602420439266\n"
          ]
        }
      ]
    },
    {
      "cell_type": "markdown",
      "source": [
        "# GridSearchCV"
      ],
      "metadata": {
        "id": "nN6EH6jgLUrJ"
      }
    },
    {
      "cell_type": "code",
      "source": [
        "from sklearn.model_selection import GridSearchCV\n",
        "\n",
        "params = {'criterion': ['gini', 'entropy'],\n",
        "          'max_depth': [2,4,6, 8]\n",
        "         }\n",
        "params_grid = {'n_neighbors': range(10, 50, 5),\n",
        "               'weights': ['uniform', 'distance'],\n",
        "                'p': [1, 2]}\n",
        "estimator = GridSearchCV(KNeighborsClassifier(), params_grid)"
      ],
      "metadata": {
        "id": "L_4jpg3BMOH_"
      },
      "execution_count": 10,
      "outputs": []
    },
    {
      "cell_type": "code",
      "source": [
        "estimator.fit(X_train,Y_train)"
      ],
      "metadata": {
        "colab": {
          "base_uri": "https://localhost:8080/",
          "height": 118
        },
        "id": "AjFdUBDnMYlw",
        "outputId": "3ceefc69-6f6b-4007-ec88-87dff0c5566b"
      },
      "execution_count": 14,
      "outputs": [
        {
          "output_type": "execute_result",
          "data": {
            "text/plain": [
              "GridSearchCV(estimator=KNeighborsClassifier(),\n",
              "             param_grid={'n_neighbors': range(10, 50, 5), 'p': [1, 2],\n",
              "                         'weights': ['uniform', 'distance']})"
            ],
            "text/html": [
              "<style>#sk-container-id-1 {color: black;background-color: white;}#sk-container-id-1 pre{padding: 0;}#sk-container-id-1 div.sk-toggleable {background-color: white;}#sk-container-id-1 label.sk-toggleable__label {cursor: pointer;display: block;width: 100%;margin-bottom: 0;padding: 0.3em;box-sizing: border-box;text-align: center;}#sk-container-id-1 label.sk-toggleable__label-arrow:before {content: \"▸\";float: left;margin-right: 0.25em;color: #696969;}#sk-container-id-1 label.sk-toggleable__label-arrow:hover:before {color: black;}#sk-container-id-1 div.sk-estimator:hover label.sk-toggleable__label-arrow:before {color: black;}#sk-container-id-1 div.sk-toggleable__content {max-height: 0;max-width: 0;overflow: hidden;text-align: left;background-color: #f0f8ff;}#sk-container-id-1 div.sk-toggleable__content pre {margin: 0.2em;color: black;border-radius: 0.25em;background-color: #f0f8ff;}#sk-container-id-1 input.sk-toggleable__control:checked~div.sk-toggleable__content {max-height: 200px;max-width: 100%;overflow: auto;}#sk-container-id-1 input.sk-toggleable__control:checked~label.sk-toggleable__label-arrow:before {content: \"▾\";}#sk-container-id-1 div.sk-estimator input.sk-toggleable__control:checked~label.sk-toggleable__label {background-color: #d4ebff;}#sk-container-id-1 div.sk-label input.sk-toggleable__control:checked~label.sk-toggleable__label {background-color: #d4ebff;}#sk-container-id-1 input.sk-hidden--visually {border: 0;clip: rect(1px 1px 1px 1px);clip: rect(1px, 1px, 1px, 1px);height: 1px;margin: -1px;overflow: hidden;padding: 0;position: absolute;width: 1px;}#sk-container-id-1 div.sk-estimator {font-family: monospace;background-color: #f0f8ff;border: 1px dotted black;border-radius: 0.25em;box-sizing: border-box;margin-bottom: 0.5em;}#sk-container-id-1 div.sk-estimator:hover {background-color: #d4ebff;}#sk-container-id-1 div.sk-parallel-item::after {content: \"\";width: 100%;border-bottom: 1px solid gray;flex-grow: 1;}#sk-container-id-1 div.sk-label:hover label.sk-toggleable__label {background-color: #d4ebff;}#sk-container-id-1 div.sk-serial::before {content: \"\";position: absolute;border-left: 1px solid gray;box-sizing: border-box;top: 0;bottom: 0;left: 50%;z-index: 0;}#sk-container-id-1 div.sk-serial {display: flex;flex-direction: column;align-items: center;background-color: white;padding-right: 0.2em;padding-left: 0.2em;position: relative;}#sk-container-id-1 div.sk-item {position: relative;z-index: 1;}#sk-container-id-1 div.sk-parallel {display: flex;align-items: stretch;justify-content: center;background-color: white;position: relative;}#sk-container-id-1 div.sk-item::before, #sk-container-id-1 div.sk-parallel-item::before {content: \"\";position: absolute;border-left: 1px solid gray;box-sizing: border-box;top: 0;bottom: 0;left: 50%;z-index: -1;}#sk-container-id-1 div.sk-parallel-item {display: flex;flex-direction: column;z-index: 1;position: relative;background-color: white;}#sk-container-id-1 div.sk-parallel-item:first-child::after {align-self: flex-end;width: 50%;}#sk-container-id-1 div.sk-parallel-item:last-child::after {align-self: flex-start;width: 50%;}#sk-container-id-1 div.sk-parallel-item:only-child::after {width: 0;}#sk-container-id-1 div.sk-dashed-wrapped {border: 1px dashed gray;margin: 0 0.4em 0.5em 0.4em;box-sizing: border-box;padding-bottom: 0.4em;background-color: white;}#sk-container-id-1 div.sk-label label {font-family: monospace;font-weight: bold;display: inline-block;line-height: 1.2em;}#sk-container-id-1 div.sk-label-container {text-align: center;}#sk-container-id-1 div.sk-container {/* jupyter's `normalize.less` sets `[hidden] { display: none; }` but bootstrap.min.css set `[hidden] { display: none !important; }` so we also need the `!important` here to be able to override the default hidden behavior on the sphinx rendered scikit-learn.org. See: https://github.com/scikit-learn/scikit-learn/issues/21755 */display: inline-block !important;position: relative;}#sk-container-id-1 div.sk-text-repr-fallback {display: none;}</style><div id=\"sk-container-id-1\" class=\"sk-top-container\"><div class=\"sk-text-repr-fallback\"><pre>GridSearchCV(estimator=KNeighborsClassifier(),\n",
              "             param_grid={&#x27;n_neighbors&#x27;: range(10, 50, 5), &#x27;p&#x27;: [1, 2],\n",
              "                         &#x27;weights&#x27;: [&#x27;uniform&#x27;, &#x27;distance&#x27;]})</pre><b>In a Jupyter environment, please rerun this cell to show the HTML representation or trust the notebook. <br />On GitHub, the HTML representation is unable to render, please try loading this page with nbviewer.org.</b></div><div class=\"sk-container\" hidden><div class=\"sk-item sk-dashed-wrapped\"><div class=\"sk-label-container\"><div class=\"sk-label sk-toggleable\"><input class=\"sk-toggleable__control sk-hidden--visually\" id=\"sk-estimator-id-1\" type=\"checkbox\" ><label for=\"sk-estimator-id-1\" class=\"sk-toggleable__label sk-toggleable__label-arrow\">GridSearchCV</label><div class=\"sk-toggleable__content\"><pre>GridSearchCV(estimator=KNeighborsClassifier(),\n",
              "             param_grid={&#x27;n_neighbors&#x27;: range(10, 50, 5), &#x27;p&#x27;: [1, 2],\n",
              "                         &#x27;weights&#x27;: [&#x27;uniform&#x27;, &#x27;distance&#x27;]})</pre></div></div></div><div class=\"sk-parallel\"><div class=\"sk-parallel-item\"><div class=\"sk-item\"><div class=\"sk-label-container\"><div class=\"sk-label sk-toggleable\"><input class=\"sk-toggleable__control sk-hidden--visually\" id=\"sk-estimator-id-2\" type=\"checkbox\" ><label for=\"sk-estimator-id-2\" class=\"sk-toggleable__label sk-toggleable__label-arrow\">estimator: KNeighborsClassifier</label><div class=\"sk-toggleable__content\"><pre>KNeighborsClassifier()</pre></div></div></div><div class=\"sk-serial\"><div class=\"sk-item\"><div class=\"sk-estimator sk-toggleable\"><input class=\"sk-toggleable__control sk-hidden--visually\" id=\"sk-estimator-id-3\" type=\"checkbox\" ><label for=\"sk-estimator-id-3\" class=\"sk-toggleable__label sk-toggleable__label-arrow\">KNeighborsClassifier</label><div class=\"sk-toggleable__content\"><pre>KNeighborsClassifier()</pre></div></div></div></div></div></div></div></div></div></div>"
            ]
          },
          "metadata": {},
          "execution_count": 14
        }
      ]
    },
    {
      "cell_type": "code",
      "source": [
        "estimator.best_params_"
      ],
      "metadata": {
        "colab": {
          "base_uri": "https://localhost:8080/"
        },
        "id": "kAPnmHvoM9Yn",
        "outputId": "1b848695-1d61-49b5-8002-92e22ea68f6e"
      },
      "execution_count": 15,
      "outputs": [
        {
          "output_type": "execute_result",
          "data": {
            "text/plain": [
              "{'n_neighbors': 40, 'p': 2, 'weights': 'uniform'}"
            ]
          },
          "metadata": {},
          "execution_count": 15
        }
      ]
    },
    {
      "cell_type": "code",
      "source": [
        "estimator.best_score_"
      ],
      "metadata": {
        "colab": {
          "base_uri": "https://localhost:8080/"
        },
        "id": "1QJERKyhNEBC",
        "outputId": "3a204c45-9902-480d-9c15-d32aa781e78e"
      },
      "execution_count": 16,
      "outputs": [
        {
          "output_type": "execute_result",
          "data": {
            "text/plain": [
              "0.6476126263407711"
            ]
          },
          "metadata": {},
          "execution_count": 16
        }
      ]
    },
    {
      "cell_type": "code",
      "source": [
        "estimator = build_model(estimator, X_train, X_test, Y_train, Y_test)"
      ],
      "metadata": {
        "colab": {
          "base_uri": "https://localhost:8080/"
        },
        "id": "M1VHG7HQNJTr",
        "outputId": "68870e00-aaff-4636-aeb5-47d26e74fa92"
      },
      "execution_count": 17,
      "outputs": [
        {
          "output_type": "stream",
          "name": "stdout",
          "text": [
            "Train data:\n",
            "\n",
            "Confusion matrix: \n",
            " [[4037 2012]\n",
            " [2126 4473]]\n",
            "Accuracy score:  0.6728336495888678\n",
            "Precision score:  0.689745566692367\n",
            "Recall score:  0.677829974238521\n",
            "F1 score:  0.6837358605930907\n",
            "\n",
            "--------------------------------------\n",
            "\n",
            "Test data:\n",
            "\n",
            "Confusion matrix: \n",
            " [[1297  707]\n",
            " [ 763 1450]]\n",
            "Accuracy score:  0.6514109556556794\n",
            "Precision score:  0.6722299490032453\n",
            "Recall score:  0.6552191595119747\n",
            "F1 score:  0.6636155606407323\n"
          ]
        }
      ]
    },
    {
      "cell_type": "code",
      "source": [
        "from sklearn.metrics import roc_curve, roc_auc_score\n",
        "models = [knn, estimator.best_estimator_]\n",
        "model_names = ['KNearestNeighbors', 'GridSearchCV']\n",
        "for model, model_name in zip(models, model_names):\n",
        "    y_pred = model.predict(X_test)\n",
        "    fpr,tpr, _ = roc_curve(Y_test, y_pred)\n",
        "    auc = roc_auc_score(Y_test, y_pred)\n",
        "    lab = model_name + \"(auc: \" + str(round(auc, 2)) + \")\"\n",
        "    plt.plot(fpr, tpr, label=lab)\n",
        "\n",
        "plt.plot([0, 1], [0, 1], label='Random (auc: 0.5)', color='red')\n",
        "plt.title(\"Model comparison\")\n",
        "plt.legend()\n",
        "plt.show()\n"
      ],
      "metadata": {
        "colab": {
          "base_uri": "https://localhost:8080/",
          "height": 452
        },
        "id": "924aFI_SN-Cu",
        "outputId": "47a5a970-5d07-4348-d594-d6c6bc28ecaf"
      },
      "execution_count": 18,
      "outputs": [
        {
          "output_type": "display_data",
          "data": {
            "text/plain": [
              "<Figure size 640x480 with 1 Axes>"
            ],
            "image/png": "[encoded data removed]"
          },
          "metadata": {}
        }
      ]
    },
    {
      "cell_type": "code",
      "source": [
        "modeli=[knn, estimator.best_estimator_]\n",
        "from joblib import dump\n",
        "dump(modeli, 'knn_modeli.joblib')"
      ],
      "metadata": {
        "colab": {
          "base_uri": "https://localhost:8080/"
        },
        "id": "VmVXaWSgBxip",
        "outputId": "9d3a6903-050c-43a2-f58d-718dceec0c66"
      },
      "execution_count": 19,
      "outputs": [
        {
          "output_type": "execute_result",
          "data": {
            "text/plain": [
              "['knn_modeli.joblib']"
            ]
          },
          "metadata": {},
          "execution_count": 19
        }
      ]
    }
  ]
}