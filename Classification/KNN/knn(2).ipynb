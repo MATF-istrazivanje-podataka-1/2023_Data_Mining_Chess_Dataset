{
  "nbformat": 4,
  "nbformat_minor": 0,
  "metadata": {
    "colab": {
      "provenance": []
    },
    "kernelspec": {
      "name": "python3",
      "display_name": "Python 3"
    },
    "language_info": {
      "name": "python"
    }
  },
  "cells": [
    {
      "cell_type": "code",
      "execution_count": 52,
      "metadata": {
        "id": "Dg0GXq22c3l8"
      },
      "outputs": [],
      "source": [
        "import pandas as pd\n",
        "from sklearn.model_selection import train_test_split\n",
        "from sklearn.metrics import confusion_matrix\n",
        "import numpy as np\n",
        "import matplotlib.pyplot as plt\n",
        "import pandas as pd\n",
        "import seaborn as sns\n",
        "from joblib import load\n",
        "\n",
        "data = pd.read_csv('https://raw.githubusercontent.com/MATF-istrazivanje-podataka-1/2023_Data_Mining_Chess_Dataset/main/Preprocessing/preprocessed_set(1).csv')\n",
        "data.head()\n",
        "data.drop(columns='Unnamed: 0',inplace=True)"
      ]
    },
    {
      "cell_type": "code",
      "source": [
        "Y = data['winner']\n",
        "X = data.drop('winner', axis=1)\n",
        "kolone = X.columns\n",
        "X.head()"
      ],
      "metadata": {
        "id": "GmXAlSgEeYat"
      },
      "execution_count": null,
      "outputs": []
    },
    {
      "cell_type": "code",
      "source": [
        "X_train, X_test, Y_train, Y_test = train_test_split(X, Y, test_size=0.25)"
      ],
      "metadata": {
        "colab": {
          "base_uri": "https://localhost:8080/",
          "height": 206
        },
        "id": "rq19-Za7ogNQ",
        "outputId": "5d8720a8-d9c3-4a92-b4d6-47264921e3ba"
      },
      "execution_count": 54,
      "outputs": [
        {
          "output_type": "execute_result",
          "data": {
            "text/plain": [
              "       rated  turns  victory_status  white_rating  black_rating opening_eco  \\\n",
              "12716      1     77               2          1669          1487         B00   \n",
              "11962      1    106               2          1573          1680         A02   \n",
              "12660      1     26               1          1761          1675         C54   \n",
              "14120      0     96               2          1176          1615         D20   \n",
              "13911      1     29               1          1788          1645         C41   \n",
              "\n",
              "       opening_ply  increment_code  \n",
              "12716            2               3  \n",
              "11962            1               2  \n",
              "12660           19               2  \n",
              "14120            5               2  \n",
              "13911            8               2  "
            ],
            "text/html": [
              "\n",
              "  <div id=\"df-d9dc8a79-d7af-47d9-acd5-2ab589ebaed7\">\n",
              "    <div class=\"colab-df-container\">\n",
              "      <div>\n",
              "<style scoped>\n",
              "    .dataframe tbody tr th:only-of-type {\n",
              "        vertical-align: middle;\n",
              "    }\n",
              "\n",
              "    .dataframe tbody tr th {\n",
              "        vertical-align: top;\n",
              "    }\n",
              "\n",
              "    .dataframe thead th {\n",
              "        text-align: right;\n",
              "    }\n",
              "</style>\n",
              "<table border=\"1\" class=\"dataframe\">\n",
              "  <thead>\n",
              "    <tr style=\"text-align: right;\">\n",
              "      <th></th>\n",
              "      <th>rated</th>\n",
              "      <th>turns</th>\n",
              "      <th>victory_status</th>\n",
              "      <th>white_rating</th>\n",
              "      <th>black_rating</th>\n",
              "      <th>opening_eco</th>\n",
              "      <th>opening_ply</th>\n",
              "      <th>increment_code</th>\n",
              "    </tr>\n",
              "  </thead>\n",
              "  <tbody>\n",
              "    <tr>\n",
              "      <th>12716</th>\n",
              "      <td>1</td>\n",
              "      <td>77</td>\n",
              "      <td>2</td>\n",
              "      <td>1669</td>\n",
              "      <td>1487</td>\n",
              "      <td>B00</td>\n",
              "      <td>2</td>\n",
              "      <td>3</td>\n",
              "    </tr>\n",
              "    <tr>\n",
              "      <th>11962</th>\n",
              "      <td>1</td>\n",
              "      <td>106</td>\n",
              "      <td>2</td>\n",
              "      <td>1573</td>\n",
              "      <td>1680</td>\n",
              "      <td>A02</td>\n",
              "      <td>1</td>\n",
              "      <td>2</td>\n",
              "    </tr>\n",
              "    <tr>\n",
              "      <th>12660</th>\n",
              "      <td>1</td>\n",
              "      <td>26</td>\n",
              "      <td>1</td>\n",
              "      <td>1761</td>\n",
              "      <td>1675</td>\n",
              "      <td>C54</td>\n",
              "      <td>19</td>\n",
              "      <td>2</td>\n",
              "    </tr>\n",
              "    <tr>\n",
              "      <th>14120</th>\n",
              "      <td>0</td>\n",
              "      <td>96</td>\n",
              "      <td>2</td>\n",
              "      <td>1176</td>\n",
              "      <td>1615</td>\n",
              "      <td>D20</td>\n",
              "      <td>5</td>\n",
              "      <td>2</td>\n",
              "    </tr>\n",
              "    <tr>\n",
              "      <th>13911</th>\n",
              "      <td>1</td>\n",
              "      <td>29</td>\n",
              "      <td>1</td>\n",
              "      <td>1788</td>\n",
              "      <td>1645</td>\n",
              "      <td>C41</td>\n",
              "      <td>8</td>\n",
              "      <td>2</td>\n",
              "    </tr>\n",
              "  </tbody>\n",
              "</table>\n",
              "</div>\n",
              "      <button class=\"colab-df-convert\" onclick=\"convertToInteractive('df-d9dc8a79-d7af-47d9-acd5-2ab589ebaed7')\"\n",
              "              title=\"Convert this dataframe to an interactive table.\"\n",
              "              style=\"display:none;\">\n",
              "        \n",
              "  <svg xmlns=\"http://www.w3.org/2000/svg\" height=\"24px\"viewBox=\"0 0 24 24\"\n",
              "       width=\"24px\">\n",
              "    <path d=\"M0 0h24v24H0V0z\" fill=\"none\"/>\n",
              "    <path d=\"M18.56 5.44l.94 2.06.94-2.06 2.06-.94-2.06-.94-.94-2.06-.94 2.06-2.06.94zm-11 1L8.5 8.5l.94-2.06 2.06-.94-2.06-.94L8.5 2.5l-.94 2.06-2.06.94zm10 10l.94 2.06.94-2.06 2.06-.94-2.06-.94-.94-2.06-.94 2.06-2.06.94z\"/><path d=\"M17.41 7.96l-1.37-1.37c-.4-.4-.92-.59-1.43-.59-.52 0-1.04.2-1.43.59L10.3 9.45l-7.72 7.72c-.78.78-.78 2.05 0 2.83L4 21.41c.39.39.9.59 1.41.59.51 0 1.02-.2 1.41-.59l7.78-7.78 2.81-2.81c.8-.78.8-2.07 0-2.86zM5.41 20L4 18.59l7.72-7.72 1.47 1.35L5.41 20z\"/>\n",
              "  </svg>\n",
              "      </button>\n",
              "      \n",
              "  <style>\n",
              "    .colab-df-container {\n",
              "      display:flex;\n",
              "      flex-wrap:wrap;\n",
              "      gap: 12px;\n",
              "    }\n",
              "\n",
              "    .colab-df-convert {\n",
              "      background-color: #E8F0FE;\n",
              "      border: none;\n",
              "      border-radius: 50%;\n",
              "      cursor: pointer;\n",
              "      display: none;\n",
              "      fill: #1967D2;\n",
              "      height: 32px;\n",
              "      padding: 0 0 0 0;\n",
              "      width: 32px;\n",
              "    }\n",
              "\n",
              "    .colab-df-convert:hover {\n",
              "      background-color: #E2EBFA;\n",
              "      box-shadow: 0px 1px 2px rgba(60, 64, 67, 0.3), 0px 1px 3px 1px rgba(60, 64, 67, 0.15);\n",
              "      fill: #174EA6;\n",
              "    }\n",
              "\n",
              "    [theme=dark] .colab-df-convert {\n",
              "      background-color: #3B4455;\n",
              "      fill: #D2E3FC;\n",
              "    }\n",
              "\n",
              "    [theme=dark] .colab-df-convert:hover {\n",
              "      background-color: #434B5C;\n",
              "      box-shadow: 0px 1px 3px 1px rgba(0, 0, 0, 0.15);\n",
              "      filter: drop-shadow(0px 1px 2px rgba(0, 0, 0, 0.3));\n",
              "      fill: #FFFFFF;\n",
              "    }\n",
              "  </style>\n",
              "\n",
              "      <script>\n",
              "        const buttonEl =\n",
              "          document.querySelector('#df-d9dc8a79-d7af-47d9-acd5-2ab589ebaed7 button.colab-df-convert');\n",
              "        buttonEl.style.display =\n",
              "          google.colab.kernel.accessAllowed ? 'block' : 'none';\n",
              "\n",
              "        async function convertToInteractive(key) {\n",
              "          const element = document.querySelector('#df-d9dc8a79-d7af-47d9-acd5-2ab589ebaed7');\n",
              "          const dataTable =\n",
              "            await google.colab.kernel.invokeFunction('convertToInteractive',\n",
              "                                                     [key], {});\n",
              "          if (!dataTable) return;\n",
              "\n",
              "          const docLinkHtml = 'Like what you see? Visit the ' +\n",
              "            '<a target=\"_blank\" href=https://colab.research.google.com/notebooks/data_table.ipynb>data table notebook</a>'\n",
              "            + ' to learn more about interactive tables.';\n",
              "          element.innerHTML = '';\n",
              "          dataTable['output_type'] = 'display_data';\n",
              "          await google.colab.output.renderOutput(dataTable, element);\n",
              "          const docLink = document.createElement('div');\n",
              "          docLink.innerHTML = docLinkHtml;\n",
              "          element.appendChild(docLink);\n",
              "        }\n",
              "      </script>\n",
              "    </div>\n",
              "  </div>\n",
              "  "
            ]
          },
          "metadata": {},
          "execution_count": 54
        }
      ]
    },
    {
      "cell_type": "code",
      "source": [
        "X_train.iloc[0]"
      ],
      "metadata": {
        "colab": {
          "base_uri": "https://localhost:8080/"
        },
        "id": "JaO3nfxQrI4O",
        "outputId": "aca1dfb9-d6ba-45d6-9eea-d2a087899c53"
      },
      "execution_count": 33,
      "outputs": [
        {
          "output_type": "execute_result",
          "data": {
            "text/plain": [
              "rated                0\n",
              "turns               61\n",
              "victory_status       1\n",
              "white_rating      1225\n",
              "black_rating      1552\n",
              "opening_eco        D02\n",
              "opening_ply          4\n",
              "increment_code       2\n",
              "Name: 9088, dtype: object"
            ]
          },
          "metadata": {},
          "execution_count": 33
        }
      ]
    },
    {
      "cell_type": "markdown",
      "source": [
        "Vec smo videli da nemamo autlajere. Svi rejtinzi su nam u normalnom okviru kao i broj poteza, a ostali podaci su nam imenski.Sada cemo svesti rejtinge i poteze na skalu [0,1] "
      ],
      "metadata": {
        "id": "9CRX9dhUk14K"
      }
    },
    {
      "cell_type": "code",
      "source": [
        "from sklearn.metrics import confusion_matrix, accuracy_score, precision_score, recall_score, f1_score\n",
        "from sklearn.neighbors import KNeighborsClassifier\n",
        "\n",
        "def report(y_real, y_pred):\n",
        "    print('Confusion matrix: \\n', confusion_matrix(y_real, y_pred))\n",
        "    print('Accuracy score: ', accuracy_score(y_real, y_pred))\n",
        "    print('Precision score: ', precision_score(y_real, y_pred))\n",
        "    print('Recall score: ', recall_score(y_real, y_pred))\n",
        "    print('F1 score: ', f1_score(y_real, y_pred))\n",
        "\n",
        "def build_model(model, X_train, X_test, y_train, y_test):\n",
        "    model.fit(X_train, y_train)\n",
        "\n",
        "    print('Train data:\\n')\n",
        "    y_train_pred = model.predict(X_train)\n",
        "    report(y_train, y_train_pred)\n",
        "    \n",
        "    print('\\n--------------------------------------\\n')\n",
        "\n",
        "    print('Test data:\\n')\n",
        "    y_pred = model.predict(X_test)\n",
        "    report(y_test, y_pred)\n",
        "\n",
        "    return model"
      ],
      "metadata": {
        "id": "CgZ28t0Z-H0Y"
      },
      "execution_count": 55,
      "outputs": []
    },
    {
      "cell_type": "code",
      "source": [
        "# iako su otvaranja imenski atributi, moramo da ih encode-ujemo u numericke\n",
        "\n",
        "from sklearn.preprocessing import LabelEncoder\n",
        "enc=LabelEncoder()\n",
        "X_train['opening_eco']=enc.fit_transform(X_train['opening_eco'])\n",
        "X_test['opening_eco']=enc.fit_transform(X_test['opening_eco'])\n",
        "\n",
        "\n",
        "knn = KNeighborsClassifier()\n",
        "knn = build_model(knn, X_train, X_test, Y_train, Y_test)\n"
      ],
      "metadata": {
        "colab": {
          "base_uri": "https://localhost:8080/"
        },
        "id": "_L8OPKs0_unw",
        "outputId": "d522b062-cc39-46ae-dd40-edd77cc0f598"
      },
      "execution_count": 56,
      "outputs": [
        {
          "output_type": "stream",
          "name": "stdout",
          "text": [
            "Train data:\n",
            "\n",
            "Confusion matrix: \n",
            " [[4315 1676]\n",
            " [1549 5108]]\n",
            "Accuracy score:  0.7450189753320683\n",
            "Precision score:  0.7529481132075472\n",
            "Recall score:  0.7673126032747484\n",
            "F1 score:  0.7600624953500483\n",
            "\n",
            "--------------------------------------\n",
            "\n",
            "Test data:\n",
            "\n",
            "Confusion matrix: \n",
            " [[1209  853]\n",
            " [ 753 1402]]\n",
            "Accuracy score:  0.6191605406687218\n",
            "Precision score:  0.6217294900221729\n",
            "Recall score:  0.6505800464037123\n",
            "F1 score:  0.6358276643990929\n"
          ]
        }
      ]
    },
    {
      "cell_type": "markdown",
      "source": [
        "Zelimo da vidimo kakve rezultate cemo dobiti ako normalizujemo neke kolone"
      ],
      "metadata": {
        "id": "WZHVenAgH3NB"
      }
    },
    {
      "cell_type": "code",
      "source": [
        "# def minmax(X):\n",
        "#       return (X - min(X))/(max(X) - min(X))\n",
        "\n",
        "# n='white_rating'\n",
        "# m ='black_rating'\n",
        "# l='turns'\n",
        "\n",
        "# x=minmax(data.white_rating)\n",
        "# X_train.drop(n,axis=1,inplace=True)\n",
        "# X_train[n]=x\n",
        "\n",
        "# x = minmax(data.black_rating)\n",
        "# X_train.drop(m,axis=1,inplace=True)\n",
        "# X_train[m]=x\n",
        "\n",
        "# x=minmax(data.turns)\n",
        "# X_train.drop(l, axis=1, inplace=True)\n",
        "# X_train[l]=x\n",
        "# X_train.head()\n",
        "\n",
        "\n",
        "# x=minmax(data.white_rating)\n",
        "# X_test.drop(n,axis=1,inplace=True)\n",
        "# X_test[n]=x\n",
        "\n",
        "# x = minmax(data.black_rating)\n",
        "# X_test.drop(m,axis=1,inplace=True)\n",
        "# X_test[m]=x\n",
        "\n",
        "# x=minmax(data.turns)\n",
        "# X_test.drop(l, axis=1, inplace=True)\n",
        "# X_test[l]=x\n",
        "# X_test.head()"
      ],
      "metadata": {
        "colab": {
          "base_uri": "https://localhost:8080/",
          "height": 206
        },
        "id": "ImQjb486HfPZ",
        "outputId": "8bf277e5-d8f1-4427-d493-0c4d5aa89837"
      },
      "execution_count": 49,
      "outputs": [
        {
          "output_type": "execute_result",
          "data": {
            "text/plain": [
              "       rated  victory_status  opening_eco  opening_ply  increment_code  \\\n",
              "1988       1               0            4            2               2   \n",
              "10039      0               1           37            2               2   \n",
              "802        1               2          160            7               2   \n",
              "15837      1               2           99            4               2   \n",
              "3394       1               1           37            2               2   \n",
              "\n",
              "       white_rating  black_rating     turns  \n",
              "1988       0.647182      0.624454  0.281609  \n",
              "10039      0.406054      0.774017  0.117816  \n",
              "802        0.395094      0.491812  0.114943  \n",
              "15837      0.477557      0.454148  0.275862  \n",
              "3394       0.541754      0.421943  0.339080  "
            ],
            "text/html": [
              "\n",
              "  <div id=\"df-b5045bc7-19cc-4706-a208-f604cf28b3ec\">\n",
              "    <div class=\"colab-df-container\">\n",
              "      <div>\n",
              "<style scoped>\n",
              "    .dataframe tbody tr th:only-of-type {\n",
              "        vertical-align: middle;\n",
              "    }\n",
              "\n",
              "    .dataframe tbody tr th {\n",
              "        vertical-align: top;\n",
              "    }\n",
              "\n",
              "    .dataframe thead th {\n",
              "        text-align: right;\n",
              "    }\n",
              "</style>\n",
              "<table border=\"1\" class=\"dataframe\">\n",
              "  <thead>\n",
              "    <tr style=\"text-align: right;\">\n",
              "      <th></th>\n",
              "      <th>rated</th>\n",
              "      <th>victory_status</th>\n",
              "      <th>opening_eco</th>\n",
              "      <th>opening_ply</th>\n",
              "      <th>increment_code</th>\n",
              "      <th>white_rating</th>\n",
              "      <th>black_rating</th>\n",
              "      <th>turns</th>\n",
              "    </tr>\n",
              "  </thead>\n",
              "  <tbody>\n",
              "    <tr>\n",
              "      <th>1988</th>\n",
              "      <td>1</td>\n",
              "      <td>0</td>\n",
              "      <td>4</td>\n",
              "      <td>2</td>\n",
              "      <td>2</td>\n",
              "      <td>0.647182</td>\n",
              "      <td>0.624454</td>\n",
              "      <td>0.281609</td>\n",
              "    </tr>\n",
              "    <tr>\n",
              "      <th>10039</th>\n",
              "      <td>0</td>\n",
              "      <td>1</td>\n",
              "      <td>37</td>\n",
              "      <td>2</td>\n",
              "      <td>2</td>\n",
              "      <td>0.406054</td>\n",
              "      <td>0.774017</td>\n",
              "      <td>0.117816</td>\n",
              "    </tr>\n",
              "    <tr>\n",
              "      <th>802</th>\n",
              "      <td>1</td>\n",
              "      <td>2</td>\n",
              "      <td>160</td>\n",
              "      <td>7</td>\n",
              "      <td>2</td>\n",
              "      <td>0.395094</td>\n",
              "      <td>0.491812</td>\n",
              "      <td>0.114943</td>\n",
              "    </tr>\n",
              "    <tr>\n",
              "      <th>15837</th>\n",
              "      <td>1</td>\n",
              "      <td>2</td>\n",
              "      <td>99</td>\n",
              "      <td>4</td>\n",
              "      <td>2</td>\n",
              "      <td>0.477557</td>\n",
              "      <td>0.454148</td>\n",
              "      <td>0.275862</td>\n",
              "    </tr>\n",
              "    <tr>\n",
              "      <th>3394</th>\n",
              "      <td>1</td>\n",
              "      <td>1</td>\n",
              "      <td>37</td>\n",
              "      <td>2</td>\n",
              "      <td>2</td>\n",
              "      <td>0.541754</td>\n",
              "      <td>0.421943</td>\n",
              "      <td>0.339080</td>\n",
              "    </tr>\n",
              "  </tbody>\n",
              "</table>\n",
              "</div>\n",
              "      <button class=\"colab-df-convert\" onclick=\"convertToInteractive('df-b5045bc7-19cc-4706-a208-f604cf28b3ec')\"\n",
              "              title=\"Convert this dataframe to an interactive table.\"\n",
              "              style=\"display:none;\">\n",
              "        \n",
              "  <svg xmlns=\"http://www.w3.org/2000/svg\" height=\"24px\"viewBox=\"0 0 24 24\"\n",
              "       width=\"24px\">\n",
              "    <path d=\"M0 0h24v24H0V0z\" fill=\"none\"/>\n",
              "    <path d=\"M18.56 5.44l.94 2.06.94-2.06 2.06-.94-2.06-.94-.94-2.06-.94 2.06-2.06.94zm-11 1L8.5 8.5l.94-2.06 2.06-.94-2.06-.94L8.5 2.5l-.94 2.06-2.06.94zm10 10l.94 2.06.94-2.06 2.06-.94-2.06-.94-.94-2.06-.94 2.06-2.06.94z\"/><path d=\"M17.41 7.96l-1.37-1.37c-.4-.4-.92-.59-1.43-.59-.52 0-1.04.2-1.43.59L10.3 9.45l-7.72 7.72c-.78.78-.78 2.05 0 2.83L4 21.41c.39.39.9.59 1.41.59.51 0 1.02-.2 1.41-.59l7.78-7.78 2.81-2.81c.8-.78.8-2.07 0-2.86zM5.41 20L4 18.59l7.72-7.72 1.47 1.35L5.41 20z\"/>\n",
              "  </svg>\n",
              "      </button>\n",
              "      \n",
              "  <style>\n",
              "    .colab-df-container {\n",
              "      display:flex;\n",
              "      flex-wrap:wrap;\n",
              "      gap: 12px;\n",
              "    }\n",
              "\n",
              "    .colab-df-convert {\n",
              "      background-color: #E8F0FE;\n",
              "      border: none;\n",
              "      border-radius: 50%;\n",
              "      cursor: pointer;\n",
              "      display: none;\n",
              "      fill: #1967D2;\n",
              "      height: 32px;\n",
              "      padding: 0 0 0 0;\n",
              "      width: 32px;\n",
              "    }\n",
              "\n",
              "    .colab-df-convert:hover {\n",
              "      background-color: #E2EBFA;\n",
              "      box-shadow: 0px 1px 2px rgba(60, 64, 67, 0.3), 0px 1px 3px 1px rgba(60, 64, 67, 0.15);\n",
              "      fill: #174EA6;\n",
              "    }\n",
              "\n",
              "    [theme=dark] .colab-df-convert {\n",
              "      background-color: #3B4455;\n",
              "      fill: #D2E3FC;\n",
              "    }\n",
              "\n",
              "    [theme=dark] .colab-df-convert:hover {\n",
              "      background-color: #434B5C;\n",
              "      box-shadow: 0px 1px 3px 1px rgba(0, 0, 0, 0.15);\n",
              "      filter: drop-shadow(0px 1px 2px rgba(0, 0, 0, 0.3));\n",
              "      fill: #FFFFFF;\n",
              "    }\n",
              "  </style>\n",
              "\n",
              "      <script>\n",
              "        const buttonEl =\n",
              "          document.querySelector('#df-b5045bc7-19cc-4706-a208-f604cf28b3ec button.colab-df-convert');\n",
              "        buttonEl.style.display =\n",
              "          google.colab.kernel.accessAllowed ? 'block' : 'none';\n",
              "\n",
              "        async function convertToInteractive(key) {\n",
              "          const element = document.querySelector('#df-b5045bc7-19cc-4706-a208-f604cf28b3ec');\n",
              "          const dataTable =\n",
              "            await google.colab.kernel.invokeFunction('convertToInteractive',\n",
              "                                                     [key], {});\n",
              "          if (!dataTable) return;\n",
              "\n",
              "          const docLinkHtml = 'Like what you see? Visit the ' +\n",
              "            '<a target=\"_blank\" href=https://colab.research.google.com/notebooks/data_table.ipynb>data table notebook</a>'\n",
              "            + ' to learn more about interactive tables.';\n",
              "          element.innerHTML = '';\n",
              "          dataTable['output_type'] = 'display_data';\n",
              "          await google.colab.output.renderOutput(dataTable, element);\n",
              "          const docLink = document.createElement('div');\n",
              "          docLink.innerHTML = docLinkHtml;\n",
              "          element.appendChild(docLink);\n",
              "        }\n",
              "      </script>\n",
              "    </div>\n",
              "  </div>\n",
              "  "
            ]
          },
          "metadata": {},
          "execution_count": 49
        }
      ]
    },
    {
      "cell_type": "code",
      "source": [
        "# enc=LabelEncoder()\n",
        "# X_train['opening_eco']=enc.fit_transform(X_train['opening_eco'])\n",
        "# X_test['opening_eco']=enc.fit_transform(X_test['opening_eco'])\n",
        "\n",
        "\n",
        "# knn = KNeighborsClassifier()\n",
        "# knn = build_model(knn, X_train, X_test, Y_train, Y_test)"
      ],
      "metadata": {
        "colab": {
          "base_uri": "https://localhost:8080/"
        },
        "id": "PrBB9ugxHvoY",
        "outputId": "d3e22fe7-c1e1-425a-878c-43f886762251"
      },
      "execution_count": 50,
      "outputs": [
        {
          "output_type": "stream",
          "name": "stdout",
          "text": [
            "Train data:\n",
            "\n",
            "Confusion matrix: \n",
            " [[4194 1811]\n",
            " [1667 4976]]\n",
            "Accuracy score:  0.7250158127767236\n",
            "Precision score:  0.7331663474289082\n",
            "Recall score:  0.7490591600180642\n",
            "F1 score:  0.7410275502606106\n",
            "\n",
            "--------------------------------------\n",
            "\n",
            "Test data:\n",
            "\n",
            "Gde zape?\n",
            "\n",
            "Confusion matrix: \n",
            " [[1049  999]\n",
            " [ 971 1198]]\n",
            "Accuracy score:  0.5328432534977472\n",
            "Precision score:  0.5452890304961311\n",
            "Recall score:  0.5523282618718304\n",
            "F1 score:  0.5487860742098031\n"
          ]
        }
      ]
    },
    {
      "cell_type": "markdown",
      "source": [
        "##Ovde proveri rezultat kada se cele tabele X_test i X_train normalizuju"
      ],
      "metadata": {
        "id": "qYpIDZaqIDyN"
      }
    },
    {
      "cell_type": "code",
      "source": [
        "X_train= (X_train-X_train.min())/(X_train.max()-X_train.min())\n",
        "X_test= (X_test-X_test.min())/(X_test.max()-X_test.min())\n",
        "\n",
        "knn = KNeighborsClassifier()\n",
        "knn = build_model(knn, X_train, X_test, Y_train, Y_test)\n"
      ],
      "metadata": {
        "colab": {
          "base_uri": "https://localhost:8080/"
        },
        "id": "_EoHiw47KHxP",
        "outputId": "ebadd68b-0986-4d0f-ed0d-4a8b53d9fb3c"
      },
      "execution_count": 62,
      "outputs": [
        {
          "output_type": "stream",
          "name": "stdout",
          "text": [
            "Train data:\n",
            "\n",
            "Confusion matrix: \n",
            " [[4295 1696]\n",
            " [1559 5098]]\n",
            "Accuracy score:  0.7426470588235294\n",
            "Precision score:  0.7503679717397704\n",
            "Recall score:  0.7658104251164188\n",
            "F1 score:  0.758010556835923\n",
            "\n",
            "--------------------------------------\n",
            "\n",
            "Test data:\n",
            "\n",
            "Confusion matrix: \n",
            " [[1133  929]\n",
            " [ 777 1378]]\n",
            "Accuracy score:  0.5954470002371354\n",
            "Precision score:  0.5973125270914608\n",
            "Recall score:  0.6394431554524362\n",
            "F1 score:  0.6176602420439266\n"
          ]
        }
      ]
    },
    {
      "cell_type": "markdown",
      "source": [
        "# GridSearchCV"
      ],
      "metadata": {
        "id": "nN6EH6jgLUrJ"
      }
    },
    {
      "cell_type": "code",
      "source": [
        "from sklearn.model_selection import GridSearchCV\n",
        "\n",
        "params = {'criterion': ['gini', 'entropy'],\n",
        "          'max_depth': [2,4,6, 8]\n",
        "         }\n",
        "params_grid = {'n_neighbors': range(10, 50, 5),\n",
        "               'weights': ['uniform', 'distance'],\n",
        "                'p': [1, 2]}\n",
        "estimator = GridSearchCV(KNeighborsClassifier(), params_grid)"
      ],
      "metadata": {
        "id": "L_4jpg3BMOH_"
      },
      "execution_count": 65,
      "outputs": []
    },
    {
      "cell_type": "code",
      "source": [
        "estimator.fit(X_train,Y_train)"
      ],
      "metadata": {
        "colab": {
          "base_uri": "https://localhost:8080/",
          "height": 118
        },
        "id": "AjFdUBDnMYlw",
        "outputId": "48acac0f-c588-47d9-ee3c-87579a21973a"
      },
      "execution_count": 66,
      "outputs": [
        {
          "output_type": "execute_result",
          "data": {
            "text/plain": [
              "GridSearchCV(cv=6, estimator=KNeighborsClassifier(),\n",
              "             param_grid={'n_neighbors': range(10, 50, 5), 'p': [1, 2],\n",
              "                         'weights': ['uniform', 'distance']})"
            ],
            "text/html": [
              "<style>#sk-container-id-1 {color: black;background-color: white;}#sk-container-id-1 pre{padding: 0;}#sk-container-id-1 div.sk-toggleable {background-color: white;}#sk-container-id-1 label.sk-toggleable__label {cursor: pointer;display: block;width: 100%;margin-bottom: 0;padding: 0.3em;box-sizing: border-box;text-align: center;}#sk-container-id-1 label.sk-toggleable__label-arrow:before {content: \"▸\";float: left;margin-right: 0.25em;color: #696969;}#sk-container-id-1 label.sk-toggleable__label-arrow:hover:before {color: black;}#sk-container-id-1 div.sk-estimator:hover label.sk-toggleable__label-arrow:before {color: black;}#sk-container-id-1 div.sk-toggleable__content {max-height: 0;max-width: 0;overflow: hidden;text-align: left;background-color: #f0f8ff;}#sk-container-id-1 div.sk-toggleable__content pre {margin: 0.2em;color: black;border-radius: 0.25em;background-color: #f0f8ff;}#sk-container-id-1 input.sk-toggleable__control:checked~div.sk-toggleable__content {max-height: 200px;max-width: 100%;overflow: auto;}#sk-container-id-1 input.sk-toggleable__control:checked~label.sk-toggleable__label-arrow:before {content: \"▾\";}#sk-container-id-1 div.sk-estimator input.sk-toggleable__control:checked~label.sk-toggleable__label {background-color: #d4ebff;}#sk-container-id-1 div.sk-label input.sk-toggleable__control:checked~label.sk-toggleable__label {background-color: #d4ebff;}#sk-container-id-1 input.sk-hidden--visually {border: 0;clip: rect(1px 1px 1px 1px);clip: rect(1px, 1px, 1px, 1px);height: 1px;margin: -1px;overflow: hidden;padding: 0;position: absolute;width: 1px;}#sk-container-id-1 div.sk-estimator {font-family: monospace;background-color: #f0f8ff;border: 1px dotted black;border-radius: 0.25em;box-sizing: border-box;margin-bottom: 0.5em;}#sk-container-id-1 div.sk-estimator:hover {background-color: #d4ebff;}#sk-container-id-1 div.sk-parallel-item::after {content: \"\";width: 100%;border-bottom: 1px solid gray;flex-grow: 1;}#sk-container-id-1 div.sk-label:hover label.sk-toggleable__label {background-color: #d4ebff;}#sk-container-id-1 div.sk-serial::before {content: \"\";position: absolute;border-left: 1px solid gray;box-sizing: border-box;top: 0;bottom: 0;left: 50%;z-index: 0;}#sk-container-id-1 div.sk-serial {display: flex;flex-direction: column;align-items: center;background-color: white;padding-right: 0.2em;padding-left: 0.2em;position: relative;}#sk-container-id-1 div.sk-item {position: relative;z-index: 1;}#sk-container-id-1 div.sk-parallel {display: flex;align-items: stretch;justify-content: center;background-color: white;position: relative;}#sk-container-id-1 div.sk-item::before, #sk-container-id-1 div.sk-parallel-item::before {content: \"\";position: absolute;border-left: 1px solid gray;box-sizing: border-box;top: 0;bottom: 0;left: 50%;z-index: -1;}#sk-container-id-1 div.sk-parallel-item {display: flex;flex-direction: column;z-index: 1;position: relative;background-color: white;}#sk-container-id-1 div.sk-parallel-item:first-child::after {align-self: flex-end;width: 50%;}#sk-container-id-1 div.sk-parallel-item:last-child::after {align-self: flex-start;width: 50%;}#sk-container-id-1 div.sk-parallel-item:only-child::after {width: 0;}#sk-container-id-1 div.sk-dashed-wrapped {border: 1px dashed gray;margin: 0 0.4em 0.5em 0.4em;box-sizing: border-box;padding-bottom: 0.4em;background-color: white;}#sk-container-id-1 div.sk-label label {font-family: monospace;font-weight: bold;display: inline-block;line-height: 1.2em;}#sk-container-id-1 div.sk-label-container {text-align: center;}#sk-container-id-1 div.sk-container {/* jupyter's `normalize.less` sets `[hidden] { display: none; }` but bootstrap.min.css set `[hidden] { display: none !important; }` so we also need the `!important` here to be able to override the default hidden behavior on the sphinx rendered scikit-learn.org. See: https://github.com/scikit-learn/scikit-learn/issues/21755 */display: inline-block !important;position: relative;}#sk-container-id-1 div.sk-text-repr-fallback {display: none;}</style><div id=\"sk-container-id-1\" class=\"sk-top-container\"><div class=\"sk-text-repr-fallback\"><pre>GridSearchCV(cv=6, estimator=KNeighborsClassifier(),\n",
              "             param_grid={&#x27;n_neighbors&#x27;: range(10, 50, 5), &#x27;p&#x27;: [1, 2],\n",
              "                         &#x27;weights&#x27;: [&#x27;uniform&#x27;, &#x27;distance&#x27;]})</pre><b>In a Jupyter environment, please rerun this cell to show the HTML representation or trust the notebook. <br />On GitHub, the HTML representation is unable to render, please try loading this page with nbviewer.org.</b></div><div class=\"sk-container\" hidden><div class=\"sk-item sk-dashed-wrapped\"><div class=\"sk-label-container\"><div class=\"sk-label sk-toggleable\"><input class=\"sk-toggleable__control sk-hidden--visually\" id=\"sk-estimator-id-1\" type=\"checkbox\" ><label for=\"sk-estimator-id-1\" class=\"sk-toggleable__label sk-toggleable__label-arrow\">GridSearchCV</label><div class=\"sk-toggleable__content\"><pre>GridSearchCV(cv=6, estimator=KNeighborsClassifier(),\n",
              "             param_grid={&#x27;n_neighbors&#x27;: range(10, 50, 5), &#x27;p&#x27;: [1, 2],\n",
              "                         &#x27;weights&#x27;: [&#x27;uniform&#x27;, &#x27;distance&#x27;]})</pre></div></div></div><div class=\"sk-parallel\"><div class=\"sk-parallel-item\"><div class=\"sk-item\"><div class=\"sk-label-container\"><div class=\"sk-label sk-toggleable\"><input class=\"sk-toggleable__control sk-hidden--visually\" id=\"sk-estimator-id-2\" type=\"checkbox\" ><label for=\"sk-estimator-id-2\" class=\"sk-toggleable__label sk-toggleable__label-arrow\">estimator: KNeighborsClassifier</label><div class=\"sk-toggleable__content\"><pre>KNeighborsClassifier()</pre></div></div></div><div class=\"sk-serial\"><div class=\"sk-item\"><div class=\"sk-estimator sk-toggleable\"><input class=\"sk-toggleable__control sk-hidden--visually\" id=\"sk-estimator-id-3\" type=\"checkbox\" ><label for=\"sk-estimator-id-3\" class=\"sk-toggleable__label sk-toggleable__label-arrow\">KNeighborsClassifier</label><div class=\"sk-toggleable__content\"><pre>KNeighborsClassifier()</pre></div></div></div></div></div></div></div></div></div></div>"
            ]
          },
          "metadata": {},
          "execution_count": 66
        }
      ]
    },
    {
      "cell_type": "code",
      "source": [
        "estimator.best_params_"
      ],
      "metadata": {
        "colab": {
          "base_uri": "https://localhost:8080/"
        },
        "id": "kAPnmHvoM9Yn",
        "outputId": "4d8deeed-59f1-48c2-a327-db04d9786233"
      },
      "execution_count": 67,
      "outputs": [
        {
          "output_type": "execute_result",
          "data": {
            "text/plain": [
              "{'n_neighbors': 45, 'p': 1, 'weights': 'distance'}"
            ]
          },
          "metadata": {},
          "execution_count": 67
        }
      ]
    },
    {
      "cell_type": "code",
      "source": [
        "estimator.best_score_"
      ],
      "metadata": {
        "colab": {
          "base_uri": "https://localhost:8080/"
        },
        "id": "1QJERKyhNEBC",
        "outputId": "b3878849-651e-4f8f-ec7f-aed86de0ea1e"
      },
      "execution_count": 68,
      "outputs": [
        {
          "output_type": "execute_result",
          "data": {
            "text/plain": [
              "0.6268975332068311"
            ]
          },
          "metadata": {},
          "execution_count": 68
        }
      ]
    },
    {
      "cell_type": "code",
      "source": [
        "estimator = build_model(estimator, X_train, X_test, Y_train, Y_test)"
      ],
      "metadata": {
        "colab": {
          "base_uri": "https://localhost:8080/"
        },
        "id": "M1VHG7HQNJTr",
        "outputId": "a9900a8b-56f1-43bb-9655-1ce4fe625a28"
      },
      "execution_count": 70,
      "outputs": [
        {
          "output_type": "stream",
          "name": "stdout",
          "text": [
            "Train data:\n",
            "\n",
            "Confusion matrix: \n",
            " [[5991    0]\n",
            " [   0 6657]]\n",
            "Accuracy score:  1.0\n",
            "Precision score:  1.0\n",
            "Recall score:  1.0\n",
            "F1 score:  1.0\n",
            "\n",
            "--------------------------------------\n",
            "\n",
            "Test data:\n",
            "\n",
            "Confusion matrix: \n",
            " [[1066  996]\n",
            " [ 606 1549]]\n",
            "Accuracy score:  0.6201090822859853\n",
            "Precision score:  0.6086444007858546\n",
            "Recall score:  0.7187935034802784\n",
            "F1 score:  0.6591489361702128\n"
          ]
        }
      ]
    },
    {
      "cell_type": "code",
      "source": [
        "from sklearn.metrics import roc_curve, roc_auc_score\n",
        "models = [knn, estimator.best_estimator_]\n",
        "model_names = ['KNearestNeighbors', 'GridSearchCV']\n",
        "for model, model_name in zip(models, model_names):\n",
        "    y_pred = model.predict(X_test)\n",
        "    fpr,tpr, _ = roc_curve(Y_test, y_pred)\n",
        "    auc = roc_auc_score(Y_test, y_pred)\n",
        "    lab = model_name + \"(auc: \" + str(round(auc, 2)) + \")\"\n",
        "    plt.plot(fpr, tpr, label=lab)\n",
        "\n",
        "plt.plot([0, 1], [0, 1], label='Random (auc: 0.5)', color='red')\n",
        "plt.title(\"Model comparison\")\n",
        "plt.legend()\n",
        "plt.show()\n"
      ],
      "metadata": {
        "colab": {
          "base_uri": "https://localhost:8080/",
          "height": 452
        },
        "id": "924aFI_SN-Cu",
        "outputId": "d5a2014a-ff63-4438-9773-c54be8883ab2"
      },
      "execution_count": 72,
      "outputs": [
        {
          "output_type": "display_data",
          "data": {
            "text/plain": [
              "<Figure size 640x480 with 1 Axes>"
            ],
            "image/png": "[encoded data removed]"
          },
          "metadata": {}
        }
      ]
    }
  ]
}