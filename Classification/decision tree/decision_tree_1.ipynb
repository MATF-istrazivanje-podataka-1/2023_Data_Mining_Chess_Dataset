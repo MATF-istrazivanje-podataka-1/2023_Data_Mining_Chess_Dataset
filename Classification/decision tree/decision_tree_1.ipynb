{
  "cells": [
    {
      "cell_type": "code",
      "source": [
        "import pandas as pd\n",
        "import numpy as np\n",
        "import matplotlib.pyplot as plt\n",
        "import seaborn as sns\n",
        "\n",
        "data = pd.read_csv('https://raw.githubusercontent.com/MATF-istrazivanje-podataka-1/2023_Data_Mining_Chess_Dataset/main/Preprocessing/preprocessed_set(1).csv')"
      ],
      "metadata": {
        "id": "X9kkVGqVrvl_"
      },
      "execution_count": 103,
      "outputs": []
    },
    {
      "cell_type": "code",
      "source": [
        "data.head()\n",
        "data.drop(columns=['Unnamed: 0'],inplace=True)\n",
        "indexes=data[data['winner']==0]"
      ],
      "metadata": {
        "id": "rAgOM-ed7x3c"
      },
      "execution_count": 104,
      "outputs": []
    },
    {
      "cell_type": "code",
      "source": [
        "data.winner.unique()\n",
        "potezi=data.moves\n",
        "data.drop(columns=['moves'],inplace=True)"
      ],
      "metadata": {
        "id": "w5wYN3cy9GFC"
      },
      "execution_count": 107,
      "outputs": []
    },
    {
      "cell_type": "markdown",
      "source": [
        "# Klasifikacija\n",
        "\n",
        "Zelimo da postupkom kalsifikacije na osnovu podataka iz tabele predvidimo da li je pobedio crni ili beli. U skupu nema neresenih"
      ],
      "metadata": {
        "id": "bmCgUV9u9lv2"
      }
    },
    {
      "cell_type": "code",
      "source": [
        "d=data.winner.value_counts()\n",
        "plt.bar([\"Beli\",\"Crni\"],[d.iloc[0],d.iloc[1]])"
      ],
      "metadata": {
        "colab": {
          "base_uri": "https://localhost:8080/",
          "height": 447
        },
        "id": "8c50ijQj9Kb7",
        "outputId": "5c54398c-6859-4e5d-ff97-7b19d9a5aa9b"
      },
      "execution_count": 108,
      "outputs": [
        {
          "output_type": "execute_result",
          "data": {
            "text/plain": [
              "<BarContainer object of 2 artists>"
            ]
          },
          "metadata": {},
          "execution_count": 108
        },
        {
          "output_type": "display_data",
          "data": {
            "text/plain": [
              "<Figure size 640x480 with 1 Axes>"
            ],
            "image/png": "[encoded data removed]"
          },
          "metadata": {}
        }
      ]
    },
    {
      "cell_type": "code",
      "source": [
        "len(data)"
      ],
      "metadata": {
        "colab": {
          "base_uri": "https://localhost:8080/"
        },
        "id": "WdFs4oxXDDon",
        "outputId": "0d8cb8f7-40ba-4546-951a-98ff5727a983"
      },
      "execution_count": 109,
      "outputs": [
        {
          "output_type": "execute_result",
          "data": {
            "text/plain": [
              "16865"
            ]
          },
          "metadata": {},
          "execution_count": 109
        }
      ]
    },
    {
      "cell_type": "markdown",
      "source": [
        "Klase su balansirane u odnosu 52-48% u korist belog i zato nece biti potrebe za uzorkovanjem"
      ],
      "metadata": {
        "id": "xX7JObgoDJfR"
      }
    },
    {
      "cell_type": "code",
      "source": [
        "from sklearn.model_selection import train_test_split\n",
        "from sklearn.tree import DecisionTreeClassifier, plot_tree\n",
        "from sklearn.ensemble import RandomForestClassifier\n",
        "from sklearn.metrics import confusion_matrix,accuracy_score, precision_score, recall_score, f1_score"
      ],
      "metadata": {
        "id": "CRtnmcFHEvXF"
      },
      "execution_count": 110,
      "outputs": []
    },
    {
      "cell_type": "markdown",
      "source": [
        "##Konverzija otvaranja (ovo prebaciti u preprocesiranje)"
      ],
      "metadata": {
        "id": "E6mZdbkRMtin"
      }
    },
    {
      "cell_type": "code",
      "source": [
        "otvaranja=data['opening_eco']\n",
        "def convert_op_eco(s):\n",
        "  s=s.strip()\n",
        "  return (ord(s[0])-ord('A')+1)*100+int(s[1]+s[2])\n",
        "otvaranja\n",
        "print(convert_op_eco('Z20'))\n",
        "otv_int=list(map(convert_op_eco,otvaranja))\n",
        "data['opening_eco']=otv_int\n",
        "data.head()"
      ],
      "metadata": {
        "id": "FxEJrl2AMzX1",
        "colab": {
          "base_uri": "https://localhost:8080/",
          "height": 224
        },
        "outputId": "a68c7cdf-9944-4a37-d63a-a6130b7cd489"
      },
      "execution_count": 111,
      "outputs": [
        {
          "output_type": "stream",
          "name": "stdout",
          "text": [
            "2620\n"
          ]
        },
        {
          "output_type": "execute_result",
          "data": {
            "text/plain": [
              "   rated  turns  victory_status  winner  white_rating  black_rating  \\\n",
              "0      1     16               1       0          1322          1261   \n",
              "1      1     61               2       1          1439          1454   \n",
              "2      1     95               2       1          1523          1469   \n",
              "3      1     33               1       1          1520          1423   \n",
              "4      0      9               1       0          1413          2108   \n",
              "\n",
              "   opening_eco  opening_ply  increment_code  \n",
              "0          200            4               2  \n",
              "1          402            3               2  \n",
              "2          341            5               3  \n",
              "3          400           10               2  \n",
              "4          200            5               3  "
            ],
            "text/html": [
              "\n",
              "  <div id=\"df-f31d36bc-ba16-4216-8aea-ac4ed02040ab\">\n",
              "    <div class=\"colab-df-container\">\n",
              "      <div>\n",
              "<style scoped>\n",
              "    .dataframe tbody tr th:only-of-type {\n",
              "        vertical-align: middle;\n",
              "    }\n",
              "\n",
              "    .dataframe tbody tr th {\n",
              "        vertical-align: top;\n",
              "    }\n",
              "\n",
              "    .dataframe thead th {\n",
              "        text-align: right;\n",
              "    }\n",
              "</style>\n",
              "<table border=\"1\" class=\"dataframe\">\n",
              "  <thead>\n",
              "    <tr style=\"text-align: right;\">\n",
              "      <th></th>\n",
              "      <th>rated</th>\n",
              "      <th>turns</th>\n",
              "      <th>victory_status</th>\n",
              "      <th>winner</th>\n",
              "      <th>white_rating</th>\n",
              "      <th>black_rating</th>\n",
              "      <th>opening_eco</th>\n",
              "      <th>opening_ply</th>\n",
              "      <th>increment_code</th>\n",
              "    </tr>\n",
              "  </thead>\n",
              "  <tbody>\n",
              "    <tr>\n",
              "      <th>0</th>\n",
              "      <td>1</td>\n",
              "      <td>16</td>\n",
              "      <td>1</td>\n",
              "      <td>0</td>\n",
              "      <td>1322</td>\n",
              "      <td>1261</td>\n",
              "      <td>200</td>\n",
              "      <td>4</td>\n",
              "      <td>2</td>\n",
              "    </tr>\n",
              "    <tr>\n",
              "      <th>1</th>\n",
              "      <td>1</td>\n",
              "      <td>61</td>\n",
              "      <td>2</td>\n",
              "      <td>1</td>\n",
              "      <td>1439</td>\n",
              "      <td>1454</td>\n",
              "      <td>402</td>\n",
              "      <td>3</td>\n",
              "      <td>2</td>\n",
              "    </tr>\n",
              "    <tr>\n",
              "      <th>2</th>\n",
              "      <td>1</td>\n",
              "      <td>95</td>\n",
              "      <td>2</td>\n",
              "      <td>1</td>\n",
              "      <td>1523</td>\n",
              "      <td>1469</td>\n",
              "      <td>341</td>\n",
              "      <td>5</td>\n",
              "      <td>3</td>\n",
              "    </tr>\n",
              "    <tr>\n",
              "      <th>3</th>\n",
              "      <td>1</td>\n",
              "      <td>33</td>\n",
              "      <td>1</td>\n",
              "      <td>1</td>\n",
              "      <td>1520</td>\n",
              "      <td>1423</td>\n",
              "      <td>400</td>\n",
              "      <td>10</td>\n",
              "      <td>2</td>\n",
              "    </tr>\n",
              "    <tr>\n",
              "      <th>4</th>\n",
              "      <td>0</td>\n",
              "      <td>9</td>\n",
              "      <td>1</td>\n",
              "      <td>0</td>\n",
              "      <td>1413</td>\n",
              "      <td>2108</td>\n",
              "      <td>200</td>\n",
              "      <td>5</td>\n",
              "      <td>3</td>\n",
              "    </tr>\n",
              "  </tbody>\n",
              "</table>\n",
              "</div>\n",
              "      <button class=\"colab-df-convert\" onclick=\"convertToInteractive('df-f31d36bc-ba16-4216-8aea-ac4ed02040ab')\"\n",
              "              title=\"Convert this dataframe to an interactive table.\"\n",
              "              style=\"display:none;\">\n",
              "        \n",
              "  <svg xmlns=\"http://www.w3.org/2000/svg\" height=\"24px\"viewBox=\"0 0 24 24\"\n",
              "       width=\"24px\">\n",
              "    <path d=\"M0 0h24v24H0V0z\" fill=\"none\"/>\n",
              "    <path d=\"M18.56 5.44l.94 2.06.94-2.06 2.06-.94-2.06-.94-.94-2.06-.94 2.06-2.06.94zm-11 1L8.5 8.5l.94-2.06 2.06-.94-2.06-.94L8.5 2.5l-.94 2.06-2.06.94zm10 10l.94 2.06.94-2.06 2.06-.94-2.06-.94-.94-2.06-.94 2.06-2.06.94z\"/><path d=\"M17.41 7.96l-1.37-1.37c-.4-.4-.92-.59-1.43-.59-.52 0-1.04.2-1.43.59L10.3 9.45l-7.72 7.72c-.78.78-.78 2.05 0 2.83L4 21.41c.39.39.9.59 1.41.59.51 0 1.02-.2 1.41-.59l7.78-7.78 2.81-2.81c.8-.78.8-2.07 0-2.86zM5.41 20L4 18.59l7.72-7.72 1.47 1.35L5.41 20z\"/>\n",
              "  </svg>\n",
              "      </button>\n",
              "      \n",
              "  <style>\n",
              "    .colab-df-container {\n",
              "      display:flex;\n",
              "      flex-wrap:wrap;\n",
              "      gap: 12px;\n",
              "    }\n",
              "\n",
              "    .colab-df-convert {\n",
              "      background-color: #E8F0FE;\n",
              "      border: none;\n",
              "      border-radius: 50%;\n",
              "      cursor: pointer;\n",
              "      display: none;\n",
              "      fill: #1967D2;\n",
              "      height: 32px;\n",
              "      padding: 0 0 0 0;\n",
              "      width: 32px;\n",
              "    }\n",
              "\n",
              "    .colab-df-convert:hover {\n",
              "      background-color: #E2EBFA;\n",
              "      box-shadow: 0px 1px 2px rgba(60, 64, 67, 0.3), 0px 1px 3px 1px rgba(60, 64, 67, 0.15);\n",
              "      fill: #174EA6;\n",
              "    }\n",
              "\n",
              "    [theme=dark] .colab-df-convert {\n",
              "      background-color: #3B4455;\n",
              "      fill: #D2E3FC;\n",
              "    }\n",
              "\n",
              "    [theme=dark] .colab-df-convert:hover {\n",
              "      background-color: #434B5C;\n",
              "      box-shadow: 0px 1px 3px 1px rgba(0, 0, 0, 0.15);\n",
              "      filter: drop-shadow(0px 1px 2px rgba(0, 0, 0, 0.3));\n",
              "      fill: #FFFFFF;\n",
              "    }\n",
              "  </style>\n",
              "\n",
              "      <script>\n",
              "        const buttonEl =\n",
              "          document.querySelector('#df-f31d36bc-ba16-4216-8aea-ac4ed02040ab button.colab-df-convert');\n",
              "        buttonEl.style.display =\n",
              "          google.colab.kernel.accessAllowed ? 'block' : 'none';\n",
              "\n",
              "        async function convertToInteractive(key) {\n",
              "          const element = document.querySelector('#df-f31d36bc-ba16-4216-8aea-ac4ed02040ab');\n",
              "          const dataTable =\n",
              "            await google.colab.kernel.invokeFunction('convertToInteractive',\n",
              "                                                     [key], {});\n",
              "          if (!dataTable) return;\n",
              "\n",
              "          const docLinkHtml = 'Like what you see? Visit the ' +\n",
              "            '<a target=\"_blank\" href=https://colab.research.google.com/notebooks/data_table.ipynb>data table notebook</a>'\n",
              "            + ' to learn more about interactive tables.';\n",
              "          element.innerHTML = '';\n",
              "          dataTable['output_type'] = 'display_data';\n",
              "          await google.colab.output.renderOutput(dataTable, element);\n",
              "          const docLink = document.createElement('div');\n",
              "          docLink.innerHTML = docLinkHtml;\n",
              "          element.appendChild(docLink);\n",
              "        }\n",
              "      </script>\n",
              "    </div>\n",
              "  </div>\n",
              "  "
            ]
          },
          "metadata": {},
          "execution_count": 111
        }
      ]
    },
    {
      "cell_type": "markdown",
      "source": [
        "##Podela na ulazne i ciljne atribute:"
      ],
      "metadata": {
        "id": "eQ0MLyP1FgZ6"
      }
    },
    {
      "cell_type": "code",
      "source": [
        "Y = data['winner']\n",
        "X = data.drop(columns=['winner'])\n",
        "feature_names = X.columns\n",
        "X.shape\n",
        "Y.value_counts()"
      ],
      "metadata": {
        "colab": {
          "base_uri": "https://localhost:8080/"
        },
        "id": "kHX4jq8gE17C",
        "outputId": "1e3e233c-7cf1-4996-dad0-7f23ff602be4"
      },
      "execution_count": 112,
      "outputs": [
        {
          "output_type": "execute_result",
          "data": {
            "text/plain": [
              "1    8812\n",
              "0    8053\n",
              "Name: winner, dtype: int64"
            ]
          },
          "metadata": {},
          "execution_count": 112
        }
      ]
    },
    {
      "cell_type": "markdown",
      "source": [
        "##Podela na test i trening skupove:"
      ],
      "metadata": {
        "id": "shZppXUWFklU"
      }
    },
    {
      "cell_type": "code",
      "source": [
        "X_train, X_test, Y_train, Y_test = train_test_split(X, Y, test_size=0.25)"
      ],
      "metadata": {
        "id": "9v56s-G0Eh2e"
      },
      "execution_count": 113,
      "outputs": []
    },
    {
      "cell_type": "code",
      "source": [
        "def report(y_real, y_pred):\n",
        "    print('Confusion matrix:')\n",
        "    print(confusion_matrix(y_real, y_pred))\n",
        "    print('Accuracy score:')\n",
        "    print(accuracy_score(y_real, y_pred))\n",
        "    print('Precision score: ')\n",
        "    print(precision_score(y_real, y_pred))\n",
        "    print('Recall score: ')\n",
        "    print(recall_score(y_real, y_pred))\n",
        "def new_model(model, X_train, X_test, y_train, y_test):\n",
        "    model.fit(X_train, y_train)\n",
        "\n",
        "    print('Train data:\\n')\n",
        "    y_train_pred = model.predict(X_train)\n",
        "    report(y_train, y_train_pred)\n",
        "    \n",
        "    print('\\n--------------------------------------\\n')\n",
        "\n",
        "    print('Test data:\\n')\n",
        "    y_pred = model.predict(X_test)\n",
        "    report(y_test, y_pred)\n",
        "\n",
        "    return model"
      ],
      "metadata": {
        "id": "t28c5i4XGHLp"
      },
      "execution_count": 114,
      "outputs": []
    },
    {
      "cell_type": "code",
      "source": [
        "from sklearn import tree\n",
        "dtc = tree.DecisionTreeClassifier(random_state=55)\n",
        "dtc = new_model(dtc, X_train, X_test, Y_train, Y_test)\n",
        "#error zbog otvaranja"
      ],
      "metadata": {
        "colab": {
          "base_uri": "https://localhost:8080/"
        },
        "id": "iTqj2O_JGqcH",
        "outputId": "81b10203-051c-4b4e-b8dc-c7be473749fd"
      },
      "execution_count": 115,
      "outputs": [
        {
          "output_type": "stream",
          "name": "stdout",
          "text": [
            "Train data:\n",
            "\n",
            "Confusion matrix:\n",
            "[[5999    0]\n",
            " [   0 6649]]\n",
            "Accuracy score:\n",
            "1.0\n",
            "Precision score: \n",
            "1.0\n",
            "Recall score: \n",
            "1.0\n",
            "\n",
            "--------------------------------------\n",
            "\n",
            "Test data:\n",
            "\n",
            "Confusion matrix:\n",
            "[[1150  904]\n",
            " [ 841 1322]]\n",
            "Accuracy score:\n",
            "0.5861987194688167\n",
            "Precision score: \n",
            "0.5938903863432166\n",
            "Recall score: \n",
            "0.6111881645862228\n"
          ]
        }
      ]
    },
    {
      "cell_type": "markdown",
      "source": [
        "Pokusano je i sa modelima gde je velicina test skupa 20% i 30% velicine originalnog skupa. Ova podela nam daje najbolje rezultate"
      ],
      "metadata": {
        "id": "t-hGCg4pojkw"
      }
    },
    {
      "cell_type": "code",
      "source": [
        "plt.figure(figsize=(8, 8))\n",
        "pd.Series(dtc.feature_importances_, index=X_train.columns).plot.bar()\n",
        "plt.title(\"Feature importance\")\n",
        "plt.show()"
      ],
      "metadata": {
        "id": "mfX7Zb7WN4oE",
        "colab": {
          "base_uri": "https://localhost:8080/",
          "height": 796
        },
        "outputId": "703958ef-bd82-4d0e-dc0b-0871934b4baa"
      },
      "execution_count": 116,
      "outputs": [
        {
          "output_type": "display_data",
          "data": {
            "text/plain": [
              "<Figure size 800x800 with 1 Axes>"
            ],
            "image/png": "[encoded data removed]"
          },
          "metadata": {}
        }
      ]
    },
    {
      "cell_type": "markdown",
      "source": [
        "Buduci da smo dobili veoma neprecizan model pokusacemo da uvedemo neke statistike da bismo mogli lakse da predvidimo pobednika. Smatra se da je u sahu losa praksa da se igra kraljicom u prvih par poteza pa cemo da vidimo da li njeno prevremeno pomeranje moze da utice na rezultat partije."
      ],
      "metadata": {
        "id": "dtd6dbRLuXdZ"
      }
    },
    {
      "cell_type": "code",
      "source": [
        "def igrao_kraljicom(potezi_split):\n",
        "  potezi_belog = potezi_split[:16:2]\n",
        "  potezi_crnog = potezi_split[1:16:2]\n",
        "  igrali=[0,0]\n",
        "  for i in potezi_belog:\n",
        "    if i[0]=='Q':\n",
        "      igrali[0]=1\n",
        "  for i in potezi_crnog:\n",
        "    if i[0]=='Q':\n",
        "      igrali[1]=1\n",
        "  return igrali"
      ],
      "metadata": {
        "id": "fVcgc6Yy2_s8"
      },
      "execution_count": 120,
      "outputs": []
    },
    {
      "cell_type": "code",
      "source": [
        "beli_igrao=[]\n",
        "crni_igrao=[]\n",
        "for i in potezi:\n",
        "  sp_potezi=i.split()\n",
        "  a=igrao_kraljicom(sp_potezi)\n",
        "  beli_igrao.append(a[0])\n",
        "  crni_igrao.append(a[1])\n",
        "data['white moved the queen']=beli_igrao\n",
        "data['black moved the queen']=crni_igrao"
      ],
      "metadata": {
        "id": "H1dew6mM5_Na"
      },
      "execution_count": 121,
      "outputs": []
    },
    {
      "cell_type": "markdown",
      "source": [
        "Podela na trening i test"
      ],
      "metadata": {
        "id": "UGYWnFih9AMw"
      }
    },
    {
      "cell_type": "code",
      "source": [
        "Y = data['winner']\n",
        "X = data.drop(columns=['winner'])\n",
        "feature_names = X.columns\n",
        "X.columns"
      ],
      "metadata": {
        "colab": {
          "base_uri": "https://localhost:8080/"
        },
        "id": "c93i9z3q9CqC",
        "outputId": "f053c8a4-3c9d-4c40-b0a5-b7a364dec3e8"
      },
      "execution_count": 122,
      "outputs": [
        {
          "output_type": "execute_result",
          "data": {
            "text/plain": [
              "Index(['rated', 'turns', 'victory_status', 'white_rating', 'black_rating',\n",
              "       'opening_eco', 'opening_ply', 'increment_code', 'white moved the queen',\n",
              "       'black moved the queen'],\n",
              "      dtype='object')"
            ]
          },
          "metadata": {},
          "execution_count": 122
        }
      ]
    },
    {
      "cell_type": "code",
      "source": [
        "X_train, X_test, Y_train, Y_test = train_test_split(X, Y, test_size=0.25)"
      ],
      "metadata": {
        "id": "gqV3Yp869ruy"
      },
      "execution_count": 123,
      "outputs": []
    },
    {
      "cell_type": "code",
      "source": [
        "dtc_kraljica = tree.DecisionTreeClassifier(random_state=55)\n",
        "dtc_kraljica = new_model(dtc_kraljica, X_train, X_test, Y_train, Y_test)"
      ],
      "metadata": {
        "colab": {
          "base_uri": "https://localhost:8080/"
        },
        "id": "jI4KC6Zx9zwP",
        "outputId": "118f206e-d50c-4b1c-ba62-4733176f4859"
      },
      "execution_count": 143,
      "outputs": [
        {
          "output_type": "stream",
          "name": "stdout",
          "text": [
            "Train data:\n",
            "\n",
            "Confusion matrix:\n",
            "[[6076    0]\n",
            " [   0 6572]]\n",
            "Accuracy score:\n",
            "1.0\n",
            "Precision score: \n",
            "1.0\n",
            "Recall score: \n",
            "1.0\n",
            "\n",
            "--------------------------------------\n",
            "\n",
            "Test data:\n",
            "\n",
            "Confusion matrix:\n",
            "[[1154  823]\n",
            " [ 885 1355]]\n",
            "Accuracy score:\n",
            "0.5949727294285037\n",
            "Precision score: \n",
            "0.6221303948576676\n",
            "Recall score: \n",
            "0.6049107142857143\n"
          ]
        }
      ]
    },
    {
      "cell_type": "markdown",
      "source": [
        "Dobili smo malo bolje rezultate ali je ovaj model i dalje dosta neprecizan. Pokusacemo da poboljsamo model podesavanjem hiperparametara pomocu unakrsne validacije"
      ],
      "metadata": {
        "id": "wdZ893PLVryd"
      }
    },
    {
      "cell_type": "markdown",
      "source": [
        "#GridSearchCV"
      ],
      "metadata": {
        "id": "NaNTH9mAqlKJ"
      }
    },
    {
      "cell_type": "code",
      "source": [
        "from sklearn.model_selection import GridSearchCV\n",
        "params = {'criterion': ['gini', 'entropy'],\n",
        "          'max_depth': [2,4,6, 8]\n",
        "         }\n",
        "estimator = GridSearchCV(DecisionTreeClassifier(random_state=55), param_grid=params, cv=3)\n",
        "estimator.fit(X_train, Y_train)\n",
        "estimator.best_params_"
      ],
      "metadata": {
        "colab": {
          "base_uri": "https://localhost:8080/"
        },
        "id": "9SSVQNq6ZgTV",
        "outputId": "6bad3526-5e46-4516-a90c-10a0844a7bb8"
      },
      "execution_count": 126,
      "outputs": [
        {
          "output_type": "execute_result",
          "data": {
            "text/plain": [
              "{'criterion': 'entropy', 'max_depth': 8}"
            ]
          },
          "metadata": {},
          "execution_count": 126
        }
      ]
    },
    {
      "cell_type": "code",
      "source": [
        "estimator.best_score_"
      ],
      "metadata": {
        "colab": {
          "base_uri": "https://localhost:8080/"
        },
        "id": "7DOibOL9bnM0",
        "outputId": "18cb8847-bc07-45fb-8ba4-e9fb675d6ed1"
      },
      "execution_count": 127,
      "outputs": [
        {
          "output_type": "execute_result",
          "data": {
            "text/plain": [
              "0.6346457938013915"
            ]
          },
          "metadata": {},
          "execution_count": 127
        }
      ]
    },
    {
      "cell_type": "code",
      "source": [
        "estimator=new_model(estimator,X_train, X_test, Y_train, Y_test)"
      ],
      "metadata": {
        "colab": {
          "base_uri": "https://localhost:8080/"
        },
        "id": "6V-N4-pRpq4k",
        "outputId": "e7a45da8-90fe-497a-ddce-42f396e981db"
      },
      "execution_count": 128,
      "outputs": [
        {
          "output_type": "stream",
          "name": "stdout",
          "text": [
            "Train data:\n",
            "\n",
            "Confusion matrix:\n",
            "[[4131 1945]\n",
            " [2230 4342]]\n",
            "Accuracy score:\n",
            "0.6699082858950032\n",
            "Precision score: \n",
            "0.690631461746461\n",
            "Recall score: \n",
            "0.6606816798539258\n",
            "\n",
            "--------------------------------------\n",
            "\n",
            "Test data:\n",
            "\n",
            "Confusion matrix:\n",
            "[[1259  718]\n",
            " [ 832 1408]]\n",
            "Accuracy score:\n",
            "0.6324401233104102\n",
            "Precision score: \n",
            "0.6622765757290687\n",
            "Recall score: \n",
            "0.6285714285714286\n"
          ]
        }
      ]
    },
    {
      "cell_type": "markdown",
      "source": [
        "#Random forest"
      ],
      "metadata": {
        "id": "95B-3d2eq1Tv"
      }
    },
    {
      "cell_type": "code",
      "source": [
        "from sklearn.ensemble import RandomForestClassifier\n",
        "random_forest = RandomForestClassifier(n_estimators=2)\n",
        "random_forest.fit(X_train, Y_train)\n",
        "random_forest = new_model(random_forest, X_train, X_test, Y_train, Y_test)\n"
      ],
      "metadata": {
        "colab": {
          "base_uri": "https://localhost:8080/"
        },
        "id": "OiEqI-Vjq9qx",
        "outputId": "4c3a6c57-6455-4ff5-aa54-c429d4b60c92"
      },
      "execution_count": 129,
      "outputs": [
        {
          "output_type": "stream",
          "name": "stdout",
          "text": [
            "Train data:\n",
            "\n",
            "Confusion matrix:\n",
            "[[5889  187]\n",
            " [1772 4800]]\n",
            "Accuracy score:\n",
            "0.8451138519924098\n",
            "Precision score: \n",
            "0.962502506516944\n",
            "Recall score: \n",
            "0.7303712720632989\n",
            "\n",
            "--------------------------------------\n",
            "\n",
            "Test data:\n",
            "\n",
            "Confusion matrix:\n",
            "[[1532  445]\n",
            " [1380  860]]\n",
            "Accuracy score:\n",
            "0.5672278871235475\n",
            "Precision score: \n",
            "0.6590038314176245\n",
            "Recall score: \n",
            "0.38392857142857145\n"
          ]
        }
      ]
    },
    {
      "cell_type": "markdown",
      "source": [
        "Slucajna suma sa 50 stabala"
      ],
      "metadata": {
        "id": "aJe5jNW5ug51"
      }
    },
    {
      "cell_type": "code",
      "source": [
        "random_forest_50_trees = RandomForestClassifier(n_estimators=50, random_state=42)\n",
        "random_forest_50_trees.fit(X_train, Y_train)\n",
        "random_forest_50_trees = new_model(random_forest_50_trees, X_train, X_test, Y_train, Y_test)\n"
      ],
      "metadata": {
        "colab": {
          "base_uri": "https://localhost:8080/"
        },
        "id": "GCZuGAKjt-W9",
        "outputId": "032f5b5c-a88e-41bf-b056-b5a42dc1e4ec"
      },
      "execution_count": 130,
      "outputs": [
        {
          "output_type": "stream",
          "name": "stdout",
          "text": [
            "Train data:\n",
            "\n",
            "Confusion matrix:\n",
            "[[6076    0]\n",
            " [   1 6571]]\n",
            "Accuracy score:\n",
            "0.999920936116382\n",
            "Precision score: \n",
            "1.0\n",
            "Recall score: \n",
            "0.9998478393183201\n",
            "\n",
            "--------------------------------------\n",
            "\n",
            "Test data:\n",
            "\n",
            "Confusion matrix:\n",
            "[[1302  675]\n",
            " [ 725 1515]]\n",
            "Accuracy score:\n",
            "0.6680104339577899\n",
            "Precision score: \n",
            "0.6917808219178082\n",
            "Recall score: \n",
            "0.6763392857142857\n"
          ]
        }
      ]
    },
    {
      "cell_type": "code",
      "source": [
        "from sklearn.metrics import roc_curve, roc_auc_score\n",
        "models = [dtc, estimator.best_estimator_, random_forest,random_forest_50_trees,dtc_kraljica]\n",
        "model_names = ['DecisionTree', 'DecisionTree CV',  'RandomForest', 'RandomForest 50 trees','DtcQueen']\n",
        "for model, model_name in zip(models, model_names):\n",
        "    y_pred = model.predict(X_test)\n",
        "    fpr,tpr, _ = roc_curve(Y_test, y_pred)\n",
        "    auc = roc_auc_score(Y_test, y_pred)\n",
        "    lab = model_name + \"(auc: \" + str(round(auc, 2)) + \")\"\n",
        "    plt.plot(fpr, tpr, label=lab)\n",
        "\n",
        "plt.plot([0, 1], [0, 1], label='Random (auc: 0.5)', color='red')\n",
        "plt.title(\"Model comparison\")\n",
        "plt.legend()\n",
        "plt.show()\n"
      ],
      "metadata": {
        "colab": {
          "base_uri": "https://localhost:8080/",
          "height": 452
        },
        "id": "TH65jhobvh7S",
        "outputId": "f629647d-568e-4dd4-c933-0577fd361a6b"
      },
      "execution_count": 144,
      "outputs": [
        {
          "output_type": "display_data",
          "data": {
            "text/plain": [
              "<Figure size 640x480 with 1 Axes>"
            ],
            "image/png": "[encoded data removed]"
          },
          "metadata": {}
        }
      ]
    },
    {
      "cell_type": "code",
      "source": [
        "from sklearn.metrics import roc_curve, roc_auc_score\n",
        "models = [dtc_kraljica]\n",
        "model_names = ['DtcQueen']\n",
        "for model, model_name in zip(models, model_names):\n",
        "    y_pred = model.predict(X_test)\n",
        "    fpr,tpr, _ = roc_curve(Y_test, y_pred)\n",
        "    auc = roc_auc_score(Y_test, y_pred)\n",
        "    lab = model_name + \"(auc: \" + str(round(auc, 2)) + \")\"\n",
        "    plt.plot(fpr, tpr, label=lab)\n",
        "\n",
        "plt.plot([0, 1], [0, 1], label='Random (auc: 0.5)', color='red')\n",
        "plt.title(\"Model comparison\")\n",
        "plt.legend()\n",
        "plt.show()\n"
      ],
      "metadata": {
        "colab": {
          "base_uri": "https://localhost:8080/",
          "height": 452
        },
        "id": "ef3P6VHzAMfc",
        "outputId": "3a911631-0cf5-46e6-c922-1062a18535b6"
      },
      "execution_count": 145,
      "outputs": [
        {
          "output_type": "display_data",
          "data": {
            "text/plain": [
              "<Figure size 640x480 with 1 Axes>"
            ],
            "image/png": "[encoded data removed]"
          },
          "metadata": {}
        }
      ]
    },
    {
      "cell_type": "markdown",
      "source": [
        "Nismo nista dobili proveravanjem pomeranja kraljice"
      ],
      "metadata": {
        "id": "0koKOqF6AbO7"
      }
    },
    {
      "cell_type": "code",
      "source": [
        "modeli=[dtc,estimator.best_estimator_,random_forest,random_forest_50_trees]"
      ],
      "metadata": {
        "id": "7Wb_gI4P3OYc"
      },
      "execution_count": 146,
      "outputs": []
    },
    {
      "cell_type": "code",
      "source": [
        "from joblib import dump\n",
        "dump(modeli, 'decision_trees_modeli.joblib')"
      ],
      "metadata": {
        "colab": {
          "base_uri": "https://localhost:8080/"
        },
        "id": "dQeZ91YZ4ZQ0",
        "outputId": "9862b972-29e7-4ac2-b62d-a95303c7c2e2"
      },
      "execution_count": null,
      "outputs": [
        {
          "output_type": "execute_result",
          "data": {
            "text/plain": [
              "['decision_trees_modeli.joblib']"
            ]
          },
          "metadata": {},
          "execution_count": 43
        }
      ]
    },
    {
      "cell_type": "code",
      "source": [
        "import os\n",
        "print(os.getcwd())\n",
        "#ovde su je moj joblib fajl\n"
      ],
      "metadata": {
        "colab": {
          "base_uri": "https://localhost:8080/"
        },
        "id": "cSUiUPPWMQE7",
        "outputId": "63abef14-c370-4e3c-a97f-c5128d1b29a2"
      },
      "execution_count": null,
      "outputs": [
        {
          "output_type": "stream",
          "name": "stdout",
          "text": [
            "/content\n"
          ]
        }
      ]
    }
  ],
  "metadata": {
    "colab": {
      "provenance": []
    },
    "kernelspec": {
      "display_name": "Python 3",
      "name": "python3"
    },
    "language_info": {
      "name": "python"
    }
  },
  "nbformat": 4,
  "nbformat_minor": 0
}