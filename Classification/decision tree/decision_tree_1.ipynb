{
  "cells": [
    {
      "cell_type": "code",
      "source": [
        "import pandas as pd\n",
        "import numpy as np\n",
        "import matplotlib.pyplot as plt\n",
        "import seaborn as sns\n",
        "\n",
        "data = pd.read_csv('https://raw.githubusercontent.com/MATF-istrazivanje-podataka-1/2023_Data_Mining_Chess_Dataset/main/Preprocessing/preprocessed_set(1).csv')"
      ],
      "metadata": {
        "id": "X9kkVGqVrvl_"
      },
      "execution_count": null,
      "outputs": []
    },
    {
      "cell_type": "code",
      "source": [
        "data.head()\n",
        "data.drop(columns=['Unnamed: 0'],inplace=True)\n",
        "indexes=data[data['winner']==0]"
      ],
      "metadata": {
        "id": "rAgOM-ed7x3c"
      },
      "execution_count": null,
      "outputs": []
    },
    {
      "cell_type": "code",
      "source": [
        "data.winner.unique()"
      ],
      "metadata": {
        "id": "w5wYN3cy9GFC",
        "colab": {
          "base_uri": "https://localhost:8080/"
        },
        "outputId": "8565f193-8e04-491b-c3cf-5f75f5987442"
      },
      "execution_count": null,
      "outputs": [
        {
          "output_type": "execute_result",
          "data": {
            "text/plain": [
              "array([0, 1])"
            ]
          },
          "metadata": {},
          "execution_count": 7
        }
      ]
    },
    {
      "cell_type": "markdown",
      "source": [
        "# Klasifikacija\n",
        "\n",
        "Zelimo da postupkom kalsifikacije na osnovu podataka iz tabele predvidimo da li je pobedio crni ili beli. U skupu nema neresenih"
      ],
      "metadata": {
        "id": "bmCgUV9u9lv2"
      }
    },
    {
      "cell_type": "code",
      "source": [
        "d=data.winner.value_counts()\n",
        "plt.bar([\"Beli\",\"Crni\"],[d.iloc[0],d.iloc[1]])"
      ],
      "metadata": {
        "colab": {
          "base_uri": "https://localhost:8080/",
          "height": 447
        },
        "id": "8c50ijQj9Kb7",
        "outputId": "26eb79f1-5392-4cc0-ec3c-0e3a532c48e4"
      },
      "execution_count": null,
      "outputs": [
        {
          "output_type": "execute_result",
          "data": {
            "text/plain": [
              "<BarContainer object of 2 artists>"
            ]
          },
          "metadata": {},
          "execution_count": 27
        },
        {
          "output_type": "display_data",
          "data": {
            "text/plain": [
              "<Figure size 640x480 with 1 Axes>"
            ],
            "image/png": "[encoded data removed]"
          },
          "metadata": {}
        }
      ]
    },
    {
      "cell_type": "code",
      "source": [
        "len(data)"
      ],
      "metadata": {
        "colab": {
          "base_uri": "https://localhost:8080/"
        },
        "id": "WdFs4oxXDDon",
        "outputId": "f1919ac3-a770-4aea-aed3-58c6e42231c2"
      },
      "execution_count": null,
      "outputs": [
        {
          "output_type": "execute_result",
          "data": {
            "text/plain": [
              "16865"
            ]
          },
          "metadata": {},
          "execution_count": 28
        }
      ]
    },
    {
      "cell_type": "markdown",
      "source": [
        "Klase su balansirane u odnosu 52-48% u korist belog i zato nece biti potrebe za uzorkovanjem"
      ],
      "metadata": {
        "id": "xX7JObgoDJfR"
      }
    },
    {
      "cell_type": "code",
      "source": [
        "from sklearn.model_selection import train_test_split\n",
        "from sklearn.tree import DecisionTreeClassifier, plot_tree\n",
        "from sklearn.ensemble import RandomForestClassifier\n",
        "from sklearn.metrics import confusion_matrix,accuracy_score, precision_score, recall_score, f1_score"
      ],
      "metadata": {
        "id": "CRtnmcFHEvXF"
      },
      "execution_count": 21,
      "outputs": []
    },
    {
      "cell_type": "markdown",
      "source": [
        "##Konverzija otvaranja (ovo prebaciti u preprocesiranje)"
      ],
      "metadata": {
        "id": "E6mZdbkRMtin"
      }
    },
    {
      "cell_type": "code",
      "source": [
        "otvaranja=data['opening_eco']\n",
        "def convert_op_eco(s):\n",
        "  s=s.strip()\n",
        "  return (ord(s[0])-ord('A')+1)*100+int(s[1]+s[2])\n",
        "otvaranja\n",
        "print(convert_op_eco('Z20'))\n",
        "otv_int=list(map(convert_op_eco,otvaranja))\n",
        "data['opening_eco']=otv_int\n",
        "data.head()"
      ],
      "metadata": {
        "id": "FxEJrl2AMzX1",
        "colab": {
          "base_uri": "https://localhost:8080/",
          "height": 224
        },
        "outputId": "4e1f55fa-0e84-4df7-f503-a03ceed8eee8"
      },
      "execution_count": 22,
      "outputs": [
        {
          "output_type": "stream",
          "name": "stdout",
          "text": [
            "2620\n"
          ]
        },
        {
          "output_type": "execute_result",
          "data": {
            "text/plain": [
              "   rated  turns  victory_status  winner  white_rating  black_rating  \\\n",
              "0      1     16               1       0          1322          1261   \n",
              "1      1     61               2       1          1439          1454   \n",
              "2      1     95               2       1          1523          1469   \n",
              "3      1     33               1       1          1520          1423   \n",
              "4      0      9               1       0          1413          2108   \n",
              "\n",
              "   opening_eco  opening_ply  increment_code  \n",
              "0          200            4               2  \n",
              "1          402            3               2  \n",
              "2          341            5               3  \n",
              "3          400           10               2  \n",
              "4          200            5               3  "
            ],
            "text/html": [
              "\n",
              "  <div id=\"df-4513ae9d-a0a9-49f7-b153-db2bef3dd977\">\n",
              "    <div class=\"colab-df-container\">\n",
              "      <div>\n",
              "<style scoped>\n",
              "    .dataframe tbody tr th:only-of-type {\n",
              "        vertical-align: middle;\n",
              "    }\n",
              "\n",
              "    .dataframe tbody tr th {\n",
              "        vertical-align: top;\n",
              "    }\n",
              "\n",
              "    .dataframe thead th {\n",
              "        text-align: right;\n",
              "    }\n",
              "</style>\n",
              "<table border=\"1\" class=\"dataframe\">\n",
              "  <thead>\n",
              "    <tr style=\"text-align: right;\">\n",
              "      <th></th>\n",
              "      <th>rated</th>\n",
              "      <th>turns</th>\n",
              "      <th>victory_status</th>\n",
              "      <th>winner</th>\n",
              "      <th>white_rating</th>\n",
              "      <th>black_rating</th>\n",
              "      <th>opening_eco</th>\n",
              "      <th>opening_ply</th>\n",
              "      <th>increment_code</th>\n",
              "    </tr>\n",
              "  </thead>\n",
              "  <tbody>\n",
              "    <tr>\n",
              "      <th>0</th>\n",
              "      <td>1</td>\n",
              "      <td>16</td>\n",
              "      <td>1</td>\n",
              "      <td>0</td>\n",
              "      <td>1322</td>\n",
              "      <td>1261</td>\n",
              "      <td>200</td>\n",
              "      <td>4</td>\n",
              "      <td>2</td>\n",
              "    </tr>\n",
              "    <tr>\n",
              "      <th>1</th>\n",
              "      <td>1</td>\n",
              "      <td>61</td>\n",
              "      <td>2</td>\n",
              "      <td>1</td>\n",
              "      <td>1439</td>\n",
              "      <td>1454</td>\n",
              "      <td>402</td>\n",
              "      <td>3</td>\n",
              "      <td>2</td>\n",
              "    </tr>\n",
              "    <tr>\n",
              "      <th>2</th>\n",
              "      <td>1</td>\n",
              "      <td>95</td>\n",
              "      <td>2</td>\n",
              "      <td>1</td>\n",
              "      <td>1523</td>\n",
              "      <td>1469</td>\n",
              "      <td>341</td>\n",
              "      <td>5</td>\n",
              "      <td>3</td>\n",
              "    </tr>\n",
              "    <tr>\n",
              "      <th>3</th>\n",
              "      <td>1</td>\n",
              "      <td>33</td>\n",
              "      <td>1</td>\n",
              "      <td>1</td>\n",
              "      <td>1520</td>\n",
              "      <td>1423</td>\n",
              "      <td>400</td>\n",
              "      <td>10</td>\n",
              "      <td>2</td>\n",
              "    </tr>\n",
              "    <tr>\n",
              "      <th>4</th>\n",
              "      <td>0</td>\n",
              "      <td>9</td>\n",
              "      <td>1</td>\n",
              "      <td>0</td>\n",
              "      <td>1413</td>\n",
              "      <td>2108</td>\n",
              "      <td>200</td>\n",
              "      <td>5</td>\n",
              "      <td>3</td>\n",
              "    </tr>\n",
              "  </tbody>\n",
              "</table>\n",
              "</div>\n",
              "      <button class=\"colab-df-convert\" onclick=\"convertToInteractive('df-4513ae9d-a0a9-49f7-b153-db2bef3dd977')\"\n",
              "              title=\"Convert this dataframe to an interactive table.\"\n",
              "              style=\"display:none;\">\n",
              "        \n",
              "  <svg xmlns=\"http://www.w3.org/2000/svg\" height=\"24px\"viewBox=\"0 0 24 24\"\n",
              "       width=\"24px\">\n",
              "    <path d=\"M0 0h24v24H0V0z\" fill=\"none\"/>\n",
              "    <path d=\"M18.56 5.44l.94 2.06.94-2.06 2.06-.94-2.06-.94-.94-2.06-.94 2.06-2.06.94zm-11 1L8.5 8.5l.94-2.06 2.06-.94-2.06-.94L8.5 2.5l-.94 2.06-2.06.94zm10 10l.94 2.06.94-2.06 2.06-.94-2.06-.94-.94-2.06-.94 2.06-2.06.94z\"/><path d=\"M17.41 7.96l-1.37-1.37c-.4-.4-.92-.59-1.43-.59-.52 0-1.04.2-1.43.59L10.3 9.45l-7.72 7.72c-.78.78-.78 2.05 0 2.83L4 21.41c.39.39.9.59 1.41.59.51 0 1.02-.2 1.41-.59l7.78-7.78 2.81-2.81c.8-.78.8-2.07 0-2.86zM5.41 20L4 18.59l7.72-7.72 1.47 1.35L5.41 20z\"/>\n",
              "  </svg>\n",
              "      </button>\n",
              "      \n",
              "  <style>\n",
              "    .colab-df-container {\n",
              "      display:flex;\n",
              "      flex-wrap:wrap;\n",
              "      gap: 12px;\n",
              "    }\n",
              "\n",
              "    .colab-df-convert {\n",
              "      background-color: #E8F0FE;\n",
              "      border: none;\n",
              "      border-radius: 50%;\n",
              "      cursor: pointer;\n",
              "      display: none;\n",
              "      fill: #1967D2;\n",
              "      height: 32px;\n",
              "      padding: 0 0 0 0;\n",
              "      width: 32px;\n",
              "    }\n",
              "\n",
              "    .colab-df-convert:hover {\n",
              "      background-color: #E2EBFA;\n",
              "      box-shadow: 0px 1px 2px rgba(60, 64, 67, 0.3), 0px 1px 3px 1px rgba(60, 64, 67, 0.15);\n",
              "      fill: #174EA6;\n",
              "    }\n",
              "\n",
              "    [theme=dark] .colab-df-convert {\n",
              "      background-color: #3B4455;\n",
              "      fill: #D2E3FC;\n",
              "    }\n",
              "\n",
              "    [theme=dark] .colab-df-convert:hover {\n",
              "      background-color: #434B5C;\n",
              "      box-shadow: 0px 1px 3px 1px rgba(0, 0, 0, 0.15);\n",
              "      filter: drop-shadow(0px 1px 2px rgba(0, 0, 0, 0.3));\n",
              "      fill: #FFFFFF;\n",
              "    }\n",
              "  </style>\n",
              "\n",
              "      <script>\n",
              "        const buttonEl =\n",
              "          document.querySelector('#df-4513ae9d-a0a9-49f7-b153-db2bef3dd977 button.colab-df-convert');\n",
              "        buttonEl.style.display =\n",
              "          google.colab.kernel.accessAllowed ? 'block' : 'none';\n",
              "\n",
              "        async function convertToInteractive(key) {\n",
              "          const element = document.querySelector('#df-4513ae9d-a0a9-49f7-b153-db2bef3dd977');\n",
              "          const dataTable =\n",
              "            await google.colab.kernel.invokeFunction('convertToInteractive',\n",
              "                                                     [key], {});\n",
              "          if (!dataTable) return;\n",
              "\n",
              "          const docLinkHtml = 'Like what you see? Visit the ' +\n",
              "            '<a target=\"_blank\" href=https://colab.research.google.com/notebooks/data_table.ipynb>data table notebook</a>'\n",
              "            + ' to learn more about interactive tables.';\n",
              "          element.innerHTML = '';\n",
              "          dataTable['output_type'] = 'display_data';\n",
              "          await google.colab.output.renderOutput(dataTable, element);\n",
              "          const docLink = document.createElement('div');\n",
              "          docLink.innerHTML = docLinkHtml;\n",
              "          element.appendChild(docLink);\n",
              "        }\n",
              "      </script>\n",
              "    </div>\n",
              "  </div>\n",
              "  "
            ]
          },
          "metadata": {},
          "execution_count": 22
        }
      ]
    },
    {
      "cell_type": "markdown",
      "source": [
        "##Podela na ulazne i ciljne atribute:"
      ],
      "metadata": {
        "id": "eQ0MLyP1FgZ6"
      }
    },
    {
      "cell_type": "code",
      "source": [
        "Y = data['winner']\n",
        "X = data.drop(columns=['winner'])\n",
        "feature_names = X.columns\n",
        "X.shape\n",
        "Y.value_counts()"
      ],
      "metadata": {
        "colab": {
          "base_uri": "https://localhost:8080/"
        },
        "id": "kHX4jq8gE17C",
        "outputId": "bf6d1abd-e0c4-4c07-e54a-e7d322fbb838"
      },
      "execution_count": 23,
      "outputs": [
        {
          "output_type": "execute_result",
          "data": {
            "text/plain": [
              "1    8812\n",
              "0    8053\n",
              "Name: winner, dtype: int64"
            ]
          },
          "metadata": {},
          "execution_count": 23
        }
      ]
    },
    {
      "cell_type": "markdown",
      "source": [
        "##Podela na test i trening skupove:"
      ],
      "metadata": {
        "id": "shZppXUWFklU"
      }
    },
    {
      "cell_type": "code",
      "source": [
        "X_train, X_test, Y_train, Y_test = train_test_split(X, Y, test_size=0.25)"
      ],
      "metadata": {
        "id": "9v56s-G0Eh2e"
      },
      "execution_count": 24,
      "outputs": []
    },
    {
      "cell_type": "code",
      "source": [
        "def report(y_real, y_pred):\n",
        "    print('Confusion matrix:')\n",
        "    print(confusion_matrix(y_real, y_pred))\n",
        "    print('Accuracy score:')\n",
        "    print(accuracy_score(y_real, y_pred))\n",
        "    print('Precision score: ')\n",
        "    print(precision_score(y_real, y_pred))\n",
        "    print('Recall score: ')\n",
        "    print(recall_score(y_real, y_pred))\n",
        "def new_model(model, X_train, X_test, y_train, y_test):\n",
        "    model.fit(X_train, y_train)\n",
        "\n",
        "    print('Train data:\\n')\n",
        "    y_train_pred = model.predict(X_train)\n",
        "    report(y_train, y_train_pred)\n",
        "    \n",
        "    print('\\n--------------------------------------\\n')\n",
        "\n",
        "    print('Test data:\\n')\n",
        "    y_pred = model.predict(X_test)\n",
        "    report(y_test, y_pred)\n",
        "\n",
        "    return model"
      ],
      "metadata": {
        "id": "t28c5i4XGHLp"
      },
      "execution_count": 17,
      "outputs": []
    },
    {
      "cell_type": "code",
      "source": [
        "from sklearn import tree\n",
        "dtc = tree.DecisionTreeClassifier(random_state=55)\n",
        "dtc = new_model(dtc, X_train, X_test, Y_train, Y_test)\n",
        "#error zbog otvaranja"
      ],
      "metadata": {
        "colab": {
          "base_uri": "https://localhost:8080/"
        },
        "id": "iTqj2O_JGqcH",
        "outputId": "f2fb9554-4878-42ca-cd51-9b12471d3522"
      },
      "execution_count": 25,
      "outputs": [
        {
          "output_type": "stream",
          "name": "stdout",
          "text": [
            "Train data:\n",
            "\n",
            "Confusion matrix:\n",
            "[[6020    0]\n",
            " [   0 6628]]\n",
            "Accuracy score:\n",
            "1.0\n",
            "Precision score: \n",
            "1.0\n",
            "Recall score: \n",
            "1.0\n",
            "\n",
            "--------------------------------------\n",
            "\n",
            "Test data:\n",
            "\n",
            "Confusion matrix:\n",
            "[[1184  849]\n",
            " [ 815 1369]]\n",
            "Accuracy score:\n",
            "0.6054066872184017\n",
            "Precision score: \n",
            "0.6172227231740307\n",
            "Recall score: \n",
            "0.6268315018315018\n"
          ]
        }
      ]
    },
    {
      "cell_type": "markdown",
      "source": [
        "Pokusano je i sa modelima gde je velicina test skupa 20% i 30% velicine originalnog skupa. Ova podela nam daje najbolje rezultate"
      ],
      "metadata": {
        "id": "t-hGCg4pojkw"
      }
    },
    {
      "cell_type": "code",
      "source": [
        "plt.figure(figsize=(8, 8))\n",
        "pd.Series(dtc.feature_importances_, index=X_train.columns).plot.bar()\n",
        "plt.title(\"Feature importance\")\n",
        "plt.show()"
      ],
      "metadata": {
        "id": "mfX7Zb7WN4oE",
        "colab": {
          "base_uri": "https://localhost:8080/",
          "height": 796
        },
        "outputId": "5ef6c50d-0c2b-434a-d009-95583a1c11df"
      },
      "execution_count": 28,
      "outputs": [
        {
          "output_type": "display_data",
          "data": {
            "text/plain": [
              "<Figure size 800x800 with 1 Axes>"
            ],
            "image/png": "[encoded data removed]"
          },
          "metadata": {}
        }
      ]
    },
    {
      "cell_type": "markdown",
      "source": [
        "Buduci da smo dobili veoma neprecizan model pokusacemo da uvedemo neke statistike da bismo mogli lakse da predvidimo pobednika. Smatra se da je u sahu losa praksa da se igra kraljicom u prvih par poteza pa cemo da vidimo da li njeno pomeranje moze da utice na rezultat partije."
      ],
      "metadata": {
        "id": "dtd6dbRLuXdZ"
      }
    },
    {
      "cell_type": "code",
      "source": [
        "import joblib\n",
        "file_path='../rezultati_preprocesiranja.joblib'\n",
        "data2, podaci = joblib.load(file_path)\n",
        "data2.head()"
      ],
      "metadata": {
        "colab": {
          "base_uri": "https://localhost:8080/",
          "height": 206
        },
        "id": "wiFvj-rtqITP",
        "outputId": "141f3f74-edca-4de7-a63d-769ee5147872"
      },
      "execution_count": 44,
      "outputs": [
        {
          "output_type": "execute_result",
          "data": {
            "text/plain": [
              "   rated  turns  victory_status  winner  white_rating  black_rating  \\\n",
              "1      1     16               1       0          1322          1261   \n",
              "3      1     61               2       1          1439          1454   \n",
              "4      1     95               2       1          1523          1469   \n",
              "6      1     33               1       1          1520          1423   \n",
              "7      0      9               1       0          1413          2108   \n",
              "\n",
              "  opening_eco  opening_ply  increment_code  \n",
              "1         B00            4               2  \n",
              "3         D02            3               2  \n",
              "4         C41            5               3  \n",
              "6         D00           10               2  \n",
              "7         B00            5               3  "
            ],
            "text/html": [
              "\n",
              "  <div id=\"df-228f0036-4916-4843-98be-4d8f7c223dc5\">\n",
              "    <div class=\"colab-df-container\">\n",
              "      <div>\n",
              "<style scoped>\n",
              "    .dataframe tbody tr th:only-of-type {\n",
              "        vertical-align: middle;\n",
              "    }\n",
              "\n",
              "    .dataframe tbody tr th {\n",
              "        vertical-align: top;\n",
              "    }\n",
              "\n",
              "    .dataframe thead th {\n",
              "        text-align: right;\n",
              "    }\n",
              "</style>\n",
              "<table border=\"1\" class=\"dataframe\">\n",
              "  <thead>\n",
              "    <tr style=\"text-align: right;\">\n",
              "      <th></th>\n",
              "      <th>rated</th>\n",
              "      <th>turns</th>\n",
              "      <th>victory_status</th>\n",
              "      <th>winner</th>\n",
              "      <th>white_rating</th>\n",
              "      <th>black_rating</th>\n",
              "      <th>opening_eco</th>\n",
              "      <th>opening_ply</th>\n",
              "      <th>increment_code</th>\n",
              "    </tr>\n",
              "  </thead>\n",
              "  <tbody>\n",
              "    <tr>\n",
              "      <th>1</th>\n",
              "      <td>1</td>\n",
              "      <td>16</td>\n",
              "      <td>1</td>\n",
              "      <td>0</td>\n",
              "      <td>1322</td>\n",
              "      <td>1261</td>\n",
              "      <td>B00</td>\n",
              "      <td>4</td>\n",
              "      <td>2</td>\n",
              "    </tr>\n",
              "    <tr>\n",
              "      <th>3</th>\n",
              "      <td>1</td>\n",
              "      <td>61</td>\n",
              "      <td>2</td>\n",
              "      <td>1</td>\n",
              "      <td>1439</td>\n",
              "      <td>1454</td>\n",
              "      <td>D02</td>\n",
              "      <td>3</td>\n",
              "      <td>2</td>\n",
              "    </tr>\n",
              "    <tr>\n",
              "      <th>4</th>\n",
              "      <td>1</td>\n",
              "      <td>95</td>\n",
              "      <td>2</td>\n",
              "      <td>1</td>\n",
              "      <td>1523</td>\n",
              "      <td>1469</td>\n",
              "      <td>C41</td>\n",
              "      <td>5</td>\n",
              "      <td>3</td>\n",
              "    </tr>\n",
              "    <tr>\n",
              "      <th>6</th>\n",
              "      <td>1</td>\n",
              "      <td>33</td>\n",
              "      <td>1</td>\n",
              "      <td>1</td>\n",
              "      <td>1520</td>\n",
              "      <td>1423</td>\n",
              "      <td>D00</td>\n",
              "      <td>10</td>\n",
              "      <td>2</td>\n",
              "    </tr>\n",
              "    <tr>\n",
              "      <th>7</th>\n",
              "      <td>0</td>\n",
              "      <td>9</td>\n",
              "      <td>1</td>\n",
              "      <td>0</td>\n",
              "      <td>1413</td>\n",
              "      <td>2108</td>\n",
              "      <td>B00</td>\n",
              "      <td>5</td>\n",
              "      <td>3</td>\n",
              "    </tr>\n",
              "  </tbody>\n",
              "</table>\n",
              "</div>\n",
              "      <button class=\"colab-df-convert\" onclick=\"convertToInteractive('df-228f0036-4916-4843-98be-4d8f7c223dc5')\"\n",
              "              title=\"Convert this dataframe to an interactive table.\"\n",
              "              style=\"display:none;\">\n",
              "        \n",
              "  <svg xmlns=\"http://www.w3.org/2000/svg\" height=\"24px\"viewBox=\"0 0 24 24\"\n",
              "       width=\"24px\">\n",
              "    <path d=\"M0 0h24v24H0V0z\" fill=\"none\"/>\n",
              "    <path d=\"M18.56 5.44l.94 2.06.94-2.06 2.06-.94-2.06-.94-.94-2.06-.94 2.06-2.06.94zm-11 1L8.5 8.5l.94-2.06 2.06-.94-2.06-.94L8.5 2.5l-.94 2.06-2.06.94zm10 10l.94 2.06.94-2.06 2.06-.94-2.06-.94-.94-2.06-.94 2.06-2.06.94z\"/><path d=\"M17.41 7.96l-1.37-1.37c-.4-.4-.92-.59-1.43-.59-.52 0-1.04.2-1.43.59L10.3 9.45l-7.72 7.72c-.78.78-.78 2.05 0 2.83L4 21.41c.39.39.9.59 1.41.59.51 0 1.02-.2 1.41-.59l7.78-7.78 2.81-2.81c.8-.78.8-2.07 0-2.86zM5.41 20L4 18.59l7.72-7.72 1.47 1.35L5.41 20z\"/>\n",
              "  </svg>\n",
              "      </button>\n",
              "      \n",
              "  <style>\n",
              "    .colab-df-container {\n",
              "      display:flex;\n",
              "      flex-wrap:wrap;\n",
              "      gap: 12px;\n",
              "    }\n",
              "\n",
              "    .colab-df-convert {\n",
              "      background-color: #E8F0FE;\n",
              "      border: none;\n",
              "      border-radius: 50%;\n",
              "      cursor: pointer;\n",
              "      display: none;\n",
              "      fill: #1967D2;\n",
              "      height: 32px;\n",
              "      padding: 0 0 0 0;\n",
              "      width: 32px;\n",
              "    }\n",
              "\n",
              "    .colab-df-convert:hover {\n",
              "      background-color: #E2EBFA;\n",
              "      box-shadow: 0px 1px 2px rgba(60, 64, 67, 0.3), 0px 1px 3px 1px rgba(60, 64, 67, 0.15);\n",
              "      fill: #174EA6;\n",
              "    }\n",
              "\n",
              "    [theme=dark] .colab-df-convert {\n",
              "      background-color: #3B4455;\n",
              "      fill: #D2E3FC;\n",
              "    }\n",
              "\n",
              "    [theme=dark] .colab-df-convert:hover {\n",
              "      background-color: #434B5C;\n",
              "      box-shadow: 0px 1px 3px 1px rgba(0, 0, 0, 0.15);\n",
              "      filter: drop-shadow(0px 1px 2px rgba(0, 0, 0, 0.3));\n",
              "      fill: #FFFFFF;\n",
              "    }\n",
              "  </style>\n",
              "\n",
              "      <script>\n",
              "        const buttonEl =\n",
              "          document.querySelector('#df-228f0036-4916-4843-98be-4d8f7c223dc5 button.colab-df-convert');\n",
              "        buttonEl.style.display =\n",
              "          google.colab.kernel.accessAllowed ? 'block' : 'none';\n",
              "\n",
              "        async function convertToInteractive(key) {\n",
              "          const element = document.querySelector('#df-228f0036-4916-4843-98be-4d8f7c223dc5');\n",
              "          const dataTable =\n",
              "            await google.colab.kernel.invokeFunction('convertToInteractive',\n",
              "                                                     [key], {});\n",
              "          if (!dataTable) return;\n",
              "\n",
              "          const docLinkHtml = 'Like what you see? Visit the ' +\n",
              "            '<a target=\"_blank\" href=https://colab.research.google.com/notebooks/data_table.ipynb>data table notebook</a>'\n",
              "            + ' to learn more about interactive tables.';\n",
              "          element.innerHTML = '';\n",
              "          dataTable['output_type'] = 'display_data';\n",
              "          await google.colab.output.renderOutput(dataTable, element);\n",
              "          const docLink = document.createElement('div');\n",
              "          docLink.innerHTML = docLinkHtml;\n",
              "          element.appendChild(docLink);\n",
              "        }\n",
              "      </script>\n",
              "    </div>\n",
              "  </div>\n",
              "  "
            ]
          },
          "metadata": {},
          "execution_count": 44
        }
      ]
    },
    {
      "cell_type": "code",
      "source": [
        "# prva_partija=podaci.iloc[0]\n",
        "# prva_partija=prva_partija.split()[:16]\n",
        "# prva_partija\n",
        "podaci.iloc[0]"
      ],
      "metadata": {
        "colab": {
          "base_uri": "https://localhost:8080/",
          "height": 35
        },
        "id": "rJd255Anvk41",
        "outputId": "f88fb18e-8be9-4ea7-87ab-9cab3489576a"
      },
      "execution_count": 48,
      "outputs": [
        {
          "output_type": "execute_result",
          "data": {
            "text/plain": [
              "'d4 d5 c4 c6 cxd5 e6 dxe6 fxe6 Nf3 Bb4+ Nc3 Ba5 Bf4'"
            ],
            "application/vnd.google.colaboratory.intrinsic+json": {
              "type": "string"
            }
          },
          "metadata": {},
          "execution_count": 48
        }
      ]
    },
    {
      "cell_type": "markdown",
      "source": [
        "Ovaj model je dosta neprecizan. Pokusacemo da poboljsamo model podesavanjem hiperparametara pomocu unakrsne validacije"
      ],
      "metadata": {
        "id": "wdZ893PLVryd"
      }
    },
    {
      "cell_type": "markdown",
      "source": [
        "#GridSearchCV"
      ],
      "metadata": {
        "id": "NaNTH9mAqlKJ"
      }
    },
    {
      "cell_type": "code",
      "source": [
        "from sklearn.model_selection import GridSearchCV\n",
        "params = {'criterion': ['gini', 'entropy'],\n",
        "          'max_depth': [2,4,6, 8]\n",
        "         }\n",
        "estimator = GridSearchCV(DecisionTreeClassifier(random_state=55), param_grid=params, cv=3)\n",
        "estimator.fit(X_train, Y_train)\n",
        "estimator.best_params_"
      ],
      "metadata": {
        "colab": {
          "base_uri": "https://localhost:8080/"
        },
        "id": "9SSVQNq6ZgTV",
        "outputId": "3ad88aa6-93a8-4516-b7b8-312771b0d356"
      },
      "execution_count": null,
      "outputs": [
        {
          "output_type": "execute_result",
          "data": {
            "text/plain": [
              "{'criterion': 'entropy', 'max_depth': 8}"
            ]
          },
          "metadata": {},
          "execution_count": 37
        }
      ]
    },
    {
      "cell_type": "code",
      "source": [
        "estimator.best_score_"
      ],
      "metadata": {
        "colab": {
          "base_uri": "https://localhost:8080/"
        },
        "id": "7DOibOL9bnM0",
        "outputId": "b0bf8098-141e-4191-e060-ac9ad6c7b703"
      },
      "execution_count": null,
      "outputs": [
        {
          "output_type": "execute_result",
          "data": {
            "text/plain": [
              "0.6355154965211892"
            ]
          },
          "metadata": {},
          "execution_count": 35
        }
      ]
    },
    {
      "cell_type": "code",
      "source": [
        "estimator=new_model(estimator,X_train, X_test, Y_train, Y_test)"
      ],
      "metadata": {
        "colab": {
          "base_uri": "https://localhost:8080/"
        },
        "id": "6V-N4-pRpq4k",
        "outputId": "64cbfe41-0cbd-4125-9180-3e226b677d58"
      },
      "execution_count": null,
      "outputs": [
        {
          "output_type": "stream",
          "name": "stdout",
          "text": [
            "Train data:\n",
            "\n",
            "Confusion matrix:\n",
            "[[3700 2312]\n",
            " [1729 4907]]\n",
            "Accuracy score:\n",
            "0.6805028462998103\n",
            "Precision score: \n",
            "0.6797340351849287\n",
            "Recall score: \n",
            "0.739451476793249\n",
            "\n",
            "--------------------------------------\n",
            "\n",
            "Test data:\n",
            "\n",
            "Confusion matrix:\n",
            "[[1142  899]\n",
            " [ 672 1504]]\n",
            "Accuracy score:\n",
            "0.6274602798197771\n",
            "Precision score: \n",
            "0.6258843112775697\n",
            "Recall score: \n",
            "0.6911764705882353\n"
          ]
        }
      ]
    },
    {
      "cell_type": "markdown",
      "source": [
        "#Random forest"
      ],
      "metadata": {
        "id": "95B-3d2eq1Tv"
      }
    },
    {
      "cell_type": "code",
      "source": [
        "from sklearn.ensemble import RandomForestClassifier\n",
        "random_forest = RandomForestClassifier(n_estimators=2)\n",
        "random_forest.fit(X_train, Y_train)\n",
        "random_forest = new_model(random_forest, X_train, X_test, Y_train, Y_test)\n"
      ],
      "metadata": {
        "colab": {
          "base_uri": "https://localhost:8080/"
        },
        "id": "OiEqI-Vjq9qx",
        "outputId": "18d22195-cb22-449c-bcf0-073574599b4f"
      },
      "execution_count": null,
      "outputs": [
        {
          "output_type": "stream",
          "name": "stdout",
          "text": [
            "Train data:\n",
            "\n",
            "Confusion matrix:\n",
            "[[5832  180]\n",
            " [1777 4859]]\n",
            "Accuracy score:\n",
            "0.8452719797596457\n",
            "Precision score: \n",
            "0.9642786267116491\n",
            "Recall score: \n",
            "0.732218203737191\n",
            "\n",
            "--------------------------------------\n",
            "\n",
            "Test data:\n",
            "\n",
            "Confusion matrix:\n",
            "[[1573  468]\n",
            " [1278  898]]\n",
            "Accuracy score:\n",
            "0.5859615840645008\n",
            "Precision score: \n",
            "0.657393850658858\n",
            "Recall score: \n",
            "0.41268382352941174\n"
          ]
        }
      ]
    },
    {
      "cell_type": "markdown",
      "source": [
        "Slucajna suma sa 50 stabala"
      ],
      "metadata": {
        "id": "aJe5jNW5ug51"
      }
    },
    {
      "cell_type": "code",
      "source": [
        "random_forest_50_trees = RandomForestClassifier(n_estimators=50, random_state=42)\n",
        "random_forest_50_trees.fit(X_train, Y_train)\n",
        "random_forest_50_trees = new_model(random_forest_50_trees, X_train, X_test, Y_train, Y_test)\n"
      ],
      "metadata": {
        "colab": {
          "base_uri": "https://localhost:8080/"
        },
        "id": "GCZuGAKjt-W9",
        "outputId": "a415aecc-04fd-4f2e-b6a8-23b21b3edff9"
      },
      "execution_count": null,
      "outputs": [
        {
          "output_type": "stream",
          "name": "stdout",
          "text": [
            "Train data:\n",
            "\n",
            "Confusion matrix:\n",
            "[[6012    0]\n",
            " [   0 6636]]\n",
            "Accuracy score:\n",
            "1.0\n",
            "Precision score: \n",
            "1.0\n",
            "Recall score: \n",
            "1.0\n",
            "\n",
            "--------------------------------------\n",
            "\n",
            "Test data:\n",
            "\n",
            "Confusion matrix:\n",
            "[[1286  755]\n",
            " [ 687 1489]]\n",
            "Accuracy score:\n",
            "0.6580507469765235\n",
            "Precision score: \n",
            "0.6635472370766489\n",
            "Recall score: \n",
            "0.6842830882352942\n"
          ]
        }
      ]
    },
    {
      "cell_type": "code",
      "source": [
        "from sklearn.metrics import roc_curve, roc_auc_score\n",
        "models = [dtc, estimator.best_estimator_, random_forest,random_forest_50_trees]\n",
        "model_names = ['DecisionTree', 'DecisionTree CV',  'RandomForest', 'RandomForest 50 trees']\n",
        "for model, model_name in zip(models, model_names):\n",
        "    y_pred = model.predict(X_test)\n",
        "    fpr,tpr, _ = roc_curve(Y_test, y_pred)\n",
        "    auc = roc_auc_score(Y_test, y_pred)\n",
        "    lab = model_name + \"(auc: \" + str(round(auc, 2)) + \")\"\n",
        "    plt.plot(fpr, tpr, label=lab)\n",
        "\n",
        "plt.plot([0, 1], [0, 1], label='Random (auc: 0.5)', color='red')\n",
        "plt.title(\"Model comparison\")\n",
        "plt.legend()\n",
        "plt.show()\n"
      ],
      "metadata": {
        "colab": {
          "base_uri": "https://localhost:8080/",
          "height": 452
        },
        "id": "TH65jhobvh7S",
        "outputId": "bb64dc1c-baa3-4510-fed1-d99107f16987"
      },
      "execution_count": null,
      "outputs": [
        {
          "output_type": "display_data",
          "data": {
            "text/plain": [
              "<Figure size 640x480 with 1 Axes>"
            ],
            "image/png": "[encoded data removed]"
          },
          "metadata": {}
        }
      ]
    },
    {
      "cell_type": "code",
      "source": [
        "modeli=[dtc,estimator.best_estimator_,random_forest,random_forest_50_trees]"
      ],
      "metadata": {
        "id": "7Wb_gI4P3OYc"
      },
      "execution_count": null,
      "outputs": []
    },
    {
      "cell_type": "code",
      "source": [
        "from joblib import dump\n",
        "dump(modeli, 'decision_trees_modeli.joblib')"
      ],
      "metadata": {
        "colab": {
          "base_uri": "https://localhost:8080/"
        },
        "id": "dQeZ91YZ4ZQ0",
        "outputId": "9862b972-29e7-4ac2-b62d-a95303c7c2e2"
      },
      "execution_count": null,
      "outputs": [
        {
          "output_type": "execute_result",
          "data": {
            "text/plain": [
              "['decision_trees_modeli.joblib']"
            ]
          },
          "metadata": {},
          "execution_count": 43
        }
      ]
    },
    {
      "cell_type": "code",
      "source": [
        "import os\n",
        "print(os.getcwd())\n",
        "#ovde su je moj joblib fajl\n"
      ],
      "metadata": {
        "colab": {
          "base_uri": "https://localhost:8080/"
        },
        "id": "cSUiUPPWMQE7",
        "outputId": "63abef14-c370-4e3c-a97f-c5128d1b29a2"
      },
      "execution_count": null,
      "outputs": [
        {
          "output_type": "stream",
          "name": "stdout",
          "text": [
            "/content\n"
          ]
        }
      ]
    }
  ],
  "metadata": {
    "colab": {
      "provenance": []
    },
    "kernelspec": {
      "display_name": "Python 3",
      "name": "python3"
    },
    "language_info": {
      "name": "python"
    }
  },
  "nbformat": 4,
  "nbformat_minor": 0
}