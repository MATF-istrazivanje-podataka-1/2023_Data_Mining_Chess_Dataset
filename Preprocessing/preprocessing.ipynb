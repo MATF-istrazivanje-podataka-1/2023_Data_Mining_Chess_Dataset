{
  "cells": [
    {
      "cell_type": "code",
      "source": [
        "import pandas as pd\n",
        "import numpy as np\n",
        "import matplotlib.pyplot as plt\n",
        "import seaborn as sns\n",
        "\n",
        "data = pd.read_csv('https://raw.githubusercontent.com/MATF-istrazivanje-podataka-1/2023_Data_Mining_Chess_Dataset/main/data/games.csv')"
      ],
      "metadata": {
        "id": "X9kkVGqVrvl_"
      },
      "execution_count": null,
      "outputs": []
    },
    {
      "cell_type": "markdown",
      "source": [
        "# Nedostajuce vrednosti"
      ],
      "metadata": {
        "id": "nHqPECtaLNff"
      }
    },
    {
      "cell_type": "code",
      "source": [
        "data.isna().any().any() #proveravamo ima li nedostajucih vrednosti "
      ],
      "metadata": {
        "colab": {
          "base_uri": "https://localhost:8080/"
        },
        "id": "PXxFm3odLWnv",
        "outputId": "b694b502-e3f1-4dd3-a256-1a9ee36ebf5b"
      },
      "execution_count": null,
      "outputs": [
        {
          "output_type": "execute_result",
          "data": {
            "text/plain": [
              "False"
            ]
          },
          "metadata": {},
          "execution_count": 55
        }
      ]
    },
    {
      "cell_type": "code",
      "source": [
        "data.head()"
      ],
      "metadata": {
        "id": "O-Dz-Jr2Td5a"
      },
      "execution_count": null,
      "outputs": []
    },
    {
      "cell_type": "markdown",
      "source": [
        "# Duplirane vrednosti"
      ],
      "metadata": {
        "id": "XCRacl9-blYr"
      }
    },
    {
      "cell_type": "code",
      "source": [
        "data.columns\n",
        "data.drop_duplicates(subset=['id'],inplace=True)\n",
        "data.shape"
      ],
      "metadata": {
        "colab": {
          "base_uri": "https://localhost:8080/"
        },
        "id": "uj9U-PkOb6BA",
        "outputId": "b7e2c5d3-70a3-4c7e-82c1-1e3c74a6d1fc"
      },
      "execution_count": null,
      "outputs": [
        {
          "output_type": "execute_result",
          "data": {
            "text/plain": [
              "(19113, 16)"
            ]
          },
          "metadata": {},
          "execution_count": 56
        }
      ]
    },
    {
      "cell_type": "markdown",
      "source": [
        "Obrisali smo sve visetruka ponavljanja u koloni 'id' jer ne smeju postojati dve partije sa istim id-jem."
      ],
      "metadata": {
        "id": "-TIL7y8DeYmh"
      }
    },
    {
      "cell_type": "markdown",
      "source": [
        "# Oslobadjanje nepotrebnih atributa"
      ],
      "metadata": {
        "id": "yxfzuTjKmZqo"
      }
    },
    {
      "cell_type": "code",
      "source": [
        "data_dropped=data.drop(columns=['white_id','black_id','id','moves','created_at','last_move_at'])"
      ],
      "metadata": {
        "id": "gKGG0pOl8SGe"
      },
      "execution_count": null,
      "outputs": []
    },
    {
      "cell_type": "code",
      "source": [
        "data_dropped.drop(columns=['opening_name'],inplace=True)"
      ],
      "metadata": {
        "id": "fXKiupGaP3OG"
      },
      "execution_count": null,
      "outputs": []
    },
    {
      "cell_type": "code",
      "source": [
        "data_dropped.head()"
      ],
      "metadata": {
        "id": "AZuZZWlsTVD-",
        "colab": {
          "base_uri": "https://localhost:8080/",
          "height": 206
        },
        "outputId": "7de7d097-d5c2-46e1-e2a5-71a4e957862b"
      },
      "execution_count": null,
      "outputs": [
        {
          "output_type": "execute_result",
          "data": {
            "text/plain": [
              "   rated  turns victory_status winner increment_code  white_rating  \\\n",
              "0  False     13      outoftime  white           15+2          1500   \n",
              "1   True     16         resign  black           5+10          1322   \n",
              "2   True     61           mate  white           5+10          1496   \n",
              "3   True     61           mate  white           20+0          1439   \n",
              "4   True     95           mate  white           30+3          1523   \n",
              "\n",
              "   black_rating opening_eco  opening_ply  \n",
              "0          1191         D10            5  \n",
              "1          1261         B00            4  \n",
              "2          1500         C20            3  \n",
              "3          1454         D02            3  \n",
              "4          1469         C41            5  "
            ],
            "text/html": [
              "\n",
              "  <div id=\"df-80e64ba7-7294-4817-843b-56f07f12340e\">\n",
              "    <div class=\"colab-df-container\">\n",
              "      <div>\n",
              "<style scoped>\n",
              "    .dataframe tbody tr th:only-of-type {\n",
              "        vertical-align: middle;\n",
              "    }\n",
              "\n",
              "    .dataframe tbody tr th {\n",
              "        vertical-align: top;\n",
              "    }\n",
              "\n",
              "    .dataframe thead th {\n",
              "        text-align: right;\n",
              "    }\n",
              "</style>\n",
              "<table border=\"1\" class=\"dataframe\">\n",
              "  <thead>\n",
              "    <tr style=\"text-align: right;\">\n",
              "      <th></th>\n",
              "      <th>rated</th>\n",
              "      <th>turns</th>\n",
              "      <th>victory_status</th>\n",
              "      <th>winner</th>\n",
              "      <th>increment_code</th>\n",
              "      <th>white_rating</th>\n",
              "      <th>black_rating</th>\n",
              "      <th>opening_eco</th>\n",
              "      <th>opening_ply</th>\n",
              "    </tr>\n",
              "  </thead>\n",
              "  <tbody>\n",
              "    <tr>\n",
              "      <th>0</th>\n",
              "      <td>False</td>\n",
              "      <td>13</td>\n",
              "      <td>outoftime</td>\n",
              "      <td>white</td>\n",
              "      <td>15+2</td>\n",
              "      <td>1500</td>\n",
              "      <td>1191</td>\n",
              "      <td>D10</td>\n",
              "      <td>5</td>\n",
              "    </tr>\n",
              "    <tr>\n",
              "      <th>1</th>\n",
              "      <td>True</td>\n",
              "      <td>16</td>\n",
              "      <td>resign</td>\n",
              "      <td>black</td>\n",
              "      <td>5+10</td>\n",
              "      <td>1322</td>\n",
              "      <td>1261</td>\n",
              "      <td>B00</td>\n",
              "      <td>4</td>\n",
              "    </tr>\n",
              "    <tr>\n",
              "      <th>2</th>\n",
              "      <td>True</td>\n",
              "      <td>61</td>\n",
              "      <td>mate</td>\n",
              "      <td>white</td>\n",
              "      <td>5+10</td>\n",
              "      <td>1496</td>\n",
              "      <td>1500</td>\n",
              "      <td>C20</td>\n",
              "      <td>3</td>\n",
              "    </tr>\n",
              "    <tr>\n",
              "      <th>3</th>\n",
              "      <td>True</td>\n",
              "      <td>61</td>\n",
              "      <td>mate</td>\n",
              "      <td>white</td>\n",
              "      <td>20+0</td>\n",
              "      <td>1439</td>\n",
              "      <td>1454</td>\n",
              "      <td>D02</td>\n",
              "      <td>3</td>\n",
              "    </tr>\n",
              "    <tr>\n",
              "      <th>4</th>\n",
              "      <td>True</td>\n",
              "      <td>95</td>\n",
              "      <td>mate</td>\n",
              "      <td>white</td>\n",
              "      <td>30+3</td>\n",
              "      <td>1523</td>\n",
              "      <td>1469</td>\n",
              "      <td>C41</td>\n",
              "      <td>5</td>\n",
              "    </tr>\n",
              "  </tbody>\n",
              "</table>\n",
              "</div>\n",
              "      <button class=\"colab-df-convert\" onclick=\"convertToInteractive('df-80e64ba7-7294-4817-843b-56f07f12340e')\"\n",
              "              title=\"Convert this dataframe to an interactive table.\"\n",
              "              style=\"display:none;\">\n",
              "        \n",
              "  <svg xmlns=\"http://www.w3.org/2000/svg\" height=\"24px\"viewBox=\"0 0 24 24\"\n",
              "       width=\"24px\">\n",
              "    <path d=\"M0 0h24v24H0V0z\" fill=\"none\"/>\n",
              "    <path d=\"M18.56 5.44l.94 2.06.94-2.06 2.06-.94-2.06-.94-.94-2.06-.94 2.06-2.06.94zm-11 1L8.5 8.5l.94-2.06 2.06-.94-2.06-.94L8.5 2.5l-.94 2.06-2.06.94zm10 10l.94 2.06.94-2.06 2.06-.94-2.06-.94-.94-2.06-.94 2.06-2.06.94z\"/><path d=\"M17.41 7.96l-1.37-1.37c-.4-.4-.92-.59-1.43-.59-.52 0-1.04.2-1.43.59L10.3 9.45l-7.72 7.72c-.78.78-.78 2.05 0 2.83L4 21.41c.39.39.9.59 1.41.59.51 0 1.02-.2 1.41-.59l7.78-7.78 2.81-2.81c.8-.78.8-2.07 0-2.86zM5.41 20L4 18.59l7.72-7.72 1.47 1.35L5.41 20z\"/>\n",
              "  </svg>\n",
              "      </button>\n",
              "      \n",
              "  <style>\n",
              "    .colab-df-container {\n",
              "      display:flex;\n",
              "      flex-wrap:wrap;\n",
              "      gap: 12px;\n",
              "    }\n",
              "\n",
              "    .colab-df-convert {\n",
              "      background-color: #E8F0FE;\n",
              "      border: none;\n",
              "      border-radius: 50%;\n",
              "      cursor: pointer;\n",
              "      display: none;\n",
              "      fill: #1967D2;\n",
              "      height: 32px;\n",
              "      padding: 0 0 0 0;\n",
              "      width: 32px;\n",
              "    }\n",
              "\n",
              "    .colab-df-convert:hover {\n",
              "      background-color: #E2EBFA;\n",
              "      box-shadow: 0px 1px 2px rgba(60, 64, 67, 0.3), 0px 1px 3px 1px rgba(60, 64, 67, 0.15);\n",
              "      fill: #174EA6;\n",
              "    }\n",
              "\n",
              "    [theme=dark] .colab-df-convert {\n",
              "      background-color: #3B4455;\n",
              "      fill: #D2E3FC;\n",
              "    }\n",
              "\n",
              "    [theme=dark] .colab-df-convert:hover {\n",
              "      background-color: #434B5C;\n",
              "      box-shadow: 0px 1px 3px 1px rgba(0, 0, 0, 0.15);\n",
              "      filter: drop-shadow(0px 1px 2px rgba(0, 0, 0, 0.3));\n",
              "      fill: #FFFFFF;\n",
              "    }\n",
              "  </style>\n",
              "\n",
              "      <script>\n",
              "        const buttonEl =\n",
              "          document.querySelector('#df-80e64ba7-7294-4817-843b-56f07f12340e button.colab-df-convert');\n",
              "        buttonEl.style.display =\n",
              "          google.colab.kernel.accessAllowed ? 'block' : 'none';\n",
              "\n",
              "        async function convertToInteractive(key) {\n",
              "          const element = document.querySelector('#df-80e64ba7-7294-4817-843b-56f07f12340e');\n",
              "          const dataTable =\n",
              "            await google.colab.kernel.invokeFunction('convertToInteractive',\n",
              "                                                     [key], {});\n",
              "          if (!dataTable) return;\n",
              "\n",
              "          const docLinkHtml = 'Like what you see? Visit the ' +\n",
              "            '<a target=\"_blank\" href=https://colab.research.google.com/notebooks/data_table.ipynb>data table notebook</a>'\n",
              "            + ' to learn more about interactive tables.';\n",
              "          element.innerHTML = '';\n",
              "          dataTable['output_type'] = 'display_data';\n",
              "          await google.colab.output.renderOutput(dataTable, element);\n",
              "          const docLink = document.createElement('div');\n",
              "          docLink.innerHTML = docLinkHtml;\n",
              "          element.appendChild(docLink);\n",
              "        }\n",
              "      </script>\n",
              "    </div>\n",
              "  </div>\n",
              "  "
            ]
          },
          "metadata": {},
          "execution_count": 59
        }
      ]
    },
    {
      "cell_type": "code",
      "source": [
        "print(data_dropped.victory_status.unique())\n",
        "print(data_dropped.rated.unique())\n",
        "print(data_dropped.winner.unique())"
      ],
      "metadata": {
        "colab": {
          "base_uri": "https://localhost:8080/"
        },
        "id": "0pH1QjF-UtXm",
        "outputId": "0b508b60-039c-43be-ca4e-8efab6ef0c71"
      },
      "execution_count": null,
      "outputs": [
        {
          "output_type": "stream",
          "name": "stdout",
          "text": [
            "['outoftime' 'resign' 'mate' 'draw']\n",
            "[False  True]\n",
            "['white' 'black' 'draw']\n"
          ]
        }
      ]
    },
    {
      "cell_type": "markdown",
      "source": [
        "U atributima koji su pregledani u celiji iznad, nema nepredvidjenih vrednosti"
      ],
      "metadata": {
        "id": "lWY1U8fChwJU"
      }
    },
    {
      "cell_type": "code",
      "source": [
        "data_dropped.info()"
      ],
      "metadata": {
        "id": "un4S14i9TrWI",
        "colab": {
          "base_uri": "https://localhost:8080/"
        },
        "outputId": "fc18e81b-ef2b-44f2-c4f6-383f334dafd0"
      },
      "execution_count": null,
      "outputs": [
        {
          "output_type": "stream",
          "name": "stdout",
          "text": [
            "<class 'pandas.core.frame.DataFrame'>\n",
            "Int64Index: 19113 entries, 0 to 20057\n",
            "Data columns (total 9 columns):\n",
            " #   Column          Non-Null Count  Dtype \n",
            "---  ------          --------------  ----- \n",
            " 0   rated           19113 non-null  bool  \n",
            " 1   turns           19113 non-null  int64 \n",
            " 2   victory_status  19113 non-null  object\n",
            " 3   winner          19113 non-null  object\n",
            " 4   increment_code  19113 non-null  object\n",
            " 5   white_rating    19113 non-null  int64 \n",
            " 6   black_rating    19113 non-null  int64 \n",
            " 7   opening_eco     19113 non-null  object\n",
            " 8   opening_ply     19113 non-null  int64 \n",
            "dtypes: bool(1), int64(4), object(4)\n",
            "memory usage: 1.3+ MB\n"
          ]
        }
      ]
    },
    {
      "cell_type": "markdown",
      "source": [
        "# Transformacija nepogodnih podataka"
      ],
      "metadata": {
        "id": "Evu8eH74pcYg"
      }
    },
    {
      "cell_type": "code",
      "source": [
        "data_dropped.rated.replace({True: 1, False: 0}, inplace=True)\n",
        "data_dropped.winner.replace({'white': 1, 'black': 2, 'draw': 0}, inplace=True)\n",
        "data_dropped.victory_status.replace({'draw': 0, 'outoftime': 1, 'resign': 2, 'mate': 3}, inplace=True)"
      ],
      "metadata": {
        "id": "UUx1puR5T8M0"
      },
      "execution_count": null,
      "outputs": []
    },
    {
      "cell_type": "code",
      "source": [
        "data_dropped.info()"
      ],
      "metadata": {
        "colab": {
          "base_uri": "https://localhost:8080/"
        },
        "id": "cs5L4DHOsJBx",
        "outputId": "ca086df9-ec57-4a07-a30b-e0aea5f49d6f"
      },
      "execution_count": null,
      "outputs": [
        {
          "output_type": "stream",
          "name": "stdout",
          "text": [
            "<class 'pandas.core.frame.DataFrame'>\n",
            "RangeIndex: 20058 entries, 0 to 20057\n",
            "Data columns (total 9 columns):\n",
            " #   Column          Non-Null Count  Dtype \n",
            "---  ------          --------------  ----- \n",
            " 0   rated           20058 non-null  int64 \n",
            " 1   turns           20058 non-null  int64 \n",
            " 2   victory_status  20058 non-null  int64 \n",
            " 3   winner          20058 non-null  int64 \n",
            " 4   increment_code  20058 non-null  object\n",
            " 5   white_rating    20058 non-null  int64 \n",
            " 6   black_rating    20058 non-null  int64 \n",
            " 7   opening_eco     20058 non-null  object\n",
            " 8   opening_ply     20058 non-null  int64 \n",
            "dtypes: int64(7), object(2)\n",
            "memory usage: 1.4+ MB\n"
          ]
        }
      ]
    },
    {
      "cell_type": "markdown",
      "source": [
        "Sledi transfromacija kolone 'increment_code' sa ciljem da se mnogobrojne string reprezantacije vremenskog modela pod kojim se odigrala partija, organizuje u 4 kategorije"
      ],
      "metadata": {
        "id": "Kq_KlZylpzqc"
      }
    },
    {
      "cell_type": "code",
      "source": [
        "k = data_dropped.increment_code\n",
        "parovi_vremena = list()\n",
        "for i in k:\n",
        "  par = i.split('+') \n",
        "  parovi_vremena.append((int(par[0]),int(par[1])))"
      ],
      "metadata": {
        "id": "HM0HYFhLmAgt"
      },
      "execution_count": null,
      "outputs": []
    },
    {
      "cell_type": "code",
      "source": [
        "def add_pair(x):\n",
        "  return int(x[0])+int(x[1])\n",
        "def vreme(x):\n",
        "  if x <=3: return 0\n",
        "  elif x<=8: return 1\n",
        "  elif x<=30: return 2\n",
        "  else: return 3\n",
        "x=list(map(add_pair,parovi_vremena))\n",
        "x=list(map(vreme,x))"
      ],
      "metadata": {
        "id": "nr2uSvN2ZJSf"
      },
      "execution_count": null,
      "outputs": []
    },
    {
      "cell_type": "code",
      "source": [
        "dd = data_dropped.copy()\n",
        "n='increment_code'\n",
        "dd.drop(n,axis=1,inplace=True)\n",
        "dd.head()\n",
        "dd[n]=x\n",
        "dd.head()"
      ],
      "metadata": {
        "colab": {
          "base_uri": "https://localhost:8080/",
          "height": 206
        },
        "id": "vKT5TZ9riPh1",
        "outputId": "6c8f5c5e-3990-4ebf-e5cc-711eccf4ce3f"
      },
      "execution_count": null,
      "outputs": [
        {
          "output_type": "execute_result",
          "data": {
            "text/plain": [
              "   rated  turns  victory_status  winner  white_rating  black_rating  \\\n",
              "0      0     13               1       1          1500          1191   \n",
              "1      1     16               2       2          1322          1261   \n",
              "2      1     61               3       1          1496          1500   \n",
              "3      1     61               3       1          1439          1454   \n",
              "4      1     95               3       1          1523          1469   \n",
              "\n",
              "  opening_eco  opening_ply  increment_code  \n",
              "0         D10            5               2  \n",
              "1         B00            4               2  \n",
              "2         C20            3               2  \n",
              "3         D02            3               2  \n",
              "4         C41            5               3  "
            ],
            "text/html": [
              "\n",
              "  <div id=\"df-6f95f269-9be9-4697-b27d-7ee8aed3adde\">\n",
              "    <div class=\"colab-df-container\">\n",
              "      <div>\n",
              "<style scoped>\n",
              "    .dataframe tbody tr th:only-of-type {\n",
              "        vertical-align: middle;\n",
              "    }\n",
              "\n",
              "    .dataframe tbody tr th {\n",
              "        vertical-align: top;\n",
              "    }\n",
              "\n",
              "    .dataframe thead th {\n",
              "        text-align: right;\n",
              "    }\n",
              "</style>\n",
              "<table border=\"1\" class=\"dataframe\">\n",
              "  <thead>\n",
              "    <tr style=\"text-align: right;\">\n",
              "      <th></th>\n",
              "      <th>rated</th>\n",
              "      <th>turns</th>\n",
              "      <th>victory_status</th>\n",
              "      <th>winner</th>\n",
              "      <th>white_rating</th>\n",
              "      <th>black_rating</th>\n",
              "      <th>opening_eco</th>\n",
              "      <th>opening_ply</th>\n",
              "      <th>increment_code</th>\n",
              "    </tr>\n",
              "  </thead>\n",
              "  <tbody>\n",
              "    <tr>\n",
              "      <th>0</th>\n",
              "      <td>0</td>\n",
              "      <td>13</td>\n",
              "      <td>1</td>\n",
              "      <td>1</td>\n",
              "      <td>1500</td>\n",
              "      <td>1191</td>\n",
              "      <td>D10</td>\n",
              "      <td>5</td>\n",
              "      <td>2</td>\n",
              "    </tr>\n",
              "    <tr>\n",
              "      <th>1</th>\n",
              "      <td>1</td>\n",
              "      <td>16</td>\n",
              "      <td>2</td>\n",
              "      <td>2</td>\n",
              "      <td>1322</td>\n",
              "      <td>1261</td>\n",
              "      <td>B00</td>\n",
              "      <td>4</td>\n",
              "      <td>2</td>\n",
              "    </tr>\n",
              "    <tr>\n",
              "      <th>2</th>\n",
              "      <td>1</td>\n",
              "      <td>61</td>\n",
              "      <td>3</td>\n",
              "      <td>1</td>\n",
              "      <td>1496</td>\n",
              "      <td>1500</td>\n",
              "      <td>C20</td>\n",
              "      <td>3</td>\n",
              "      <td>2</td>\n",
              "    </tr>\n",
              "    <tr>\n",
              "      <th>3</th>\n",
              "      <td>1</td>\n",
              "      <td>61</td>\n",
              "      <td>3</td>\n",
              "      <td>1</td>\n",
              "      <td>1439</td>\n",
              "      <td>1454</td>\n",
              "      <td>D02</td>\n",
              "      <td>3</td>\n",
              "      <td>2</td>\n",
              "    </tr>\n",
              "    <tr>\n",
              "      <th>4</th>\n",
              "      <td>1</td>\n",
              "      <td>95</td>\n",
              "      <td>3</td>\n",
              "      <td>1</td>\n",
              "      <td>1523</td>\n",
              "      <td>1469</td>\n",
              "      <td>C41</td>\n",
              "      <td>5</td>\n",
              "      <td>3</td>\n",
              "    </tr>\n",
              "  </tbody>\n",
              "</table>\n",
              "</div>\n",
              "      <button class=\"colab-df-convert\" onclick=\"convertToInteractive('df-6f95f269-9be9-4697-b27d-7ee8aed3adde')\"\n",
              "              title=\"Convert this dataframe to an interactive table.\"\n",
              "              style=\"display:none;\">\n",
              "        \n",
              "  <svg xmlns=\"http://www.w3.org/2000/svg\" height=\"24px\"viewBox=\"0 0 24 24\"\n",
              "       width=\"24px\">\n",
              "    <path d=\"M0 0h24v24H0V0z\" fill=\"none\"/>\n",
              "    <path d=\"M18.56 5.44l.94 2.06.94-2.06 2.06-.94-2.06-.94-.94-2.06-.94 2.06-2.06.94zm-11 1L8.5 8.5l.94-2.06 2.06-.94-2.06-.94L8.5 2.5l-.94 2.06-2.06.94zm10 10l.94 2.06.94-2.06 2.06-.94-2.06-.94-.94-2.06-.94 2.06-2.06.94z\"/><path d=\"M17.41 7.96l-1.37-1.37c-.4-.4-.92-.59-1.43-.59-.52 0-1.04.2-1.43.59L10.3 9.45l-7.72 7.72c-.78.78-.78 2.05 0 2.83L4 21.41c.39.39.9.59 1.41.59.51 0 1.02-.2 1.41-.59l7.78-7.78 2.81-2.81c.8-.78.8-2.07 0-2.86zM5.41 20L4 18.59l7.72-7.72 1.47 1.35L5.41 20z\"/>\n",
              "  </svg>\n",
              "      </button>\n",
              "      \n",
              "  <style>\n",
              "    .colab-df-container {\n",
              "      display:flex;\n",
              "      flex-wrap:wrap;\n",
              "      gap: 12px;\n",
              "    }\n",
              "\n",
              "    .colab-df-convert {\n",
              "      background-color: #E8F0FE;\n",
              "      border: none;\n",
              "      border-radius: 50%;\n",
              "      cursor: pointer;\n",
              "      display: none;\n",
              "      fill: #1967D2;\n",
              "      height: 32px;\n",
              "      padding: 0 0 0 0;\n",
              "      width: 32px;\n",
              "    }\n",
              "\n",
              "    .colab-df-convert:hover {\n",
              "      background-color: #E2EBFA;\n",
              "      box-shadow: 0px 1px 2px rgba(60, 64, 67, 0.3), 0px 1px 3px 1px rgba(60, 64, 67, 0.15);\n",
              "      fill: #174EA6;\n",
              "    }\n",
              "\n",
              "    [theme=dark] .colab-df-convert {\n",
              "      background-color: #3B4455;\n",
              "      fill: #D2E3FC;\n",
              "    }\n",
              "\n",
              "    [theme=dark] .colab-df-convert:hover {\n",
              "      background-color: #434B5C;\n",
              "      box-shadow: 0px 1px 3px 1px rgba(0, 0, 0, 0.15);\n",
              "      filter: drop-shadow(0px 1px 2px rgba(0, 0, 0, 0.3));\n",
              "      fill: #FFFFFF;\n",
              "    }\n",
              "  </style>\n",
              "\n",
              "      <script>\n",
              "        const buttonEl =\n",
              "          document.querySelector('#df-6f95f269-9be9-4697-b27d-7ee8aed3adde button.colab-df-convert');\n",
              "        buttonEl.style.display =\n",
              "          google.colab.kernel.accessAllowed ? 'block' : 'none';\n",
              "\n",
              "        async function convertToInteractive(key) {\n",
              "          const element = document.querySelector('#df-6f95f269-9be9-4697-b27d-7ee8aed3adde');\n",
              "          const dataTable =\n",
              "            await google.colab.kernel.invokeFunction('convertToInteractive',\n",
              "                                                     [key], {});\n",
              "          if (!dataTable) return;\n",
              "\n",
              "          const docLinkHtml = 'Like what you see? Visit the ' +\n",
              "            '<a target=\"_blank\" href=https://colab.research.google.com/notebooks/data_table.ipynb>data table notebook</a>'\n",
              "            + ' to learn more about interactive tables.';\n",
              "          element.innerHTML = '';\n",
              "          dataTable['output_type'] = 'display_data';\n",
              "          await google.colab.output.renderOutput(dataTable, element);\n",
              "          const docLink = document.createElement('div');\n",
              "          docLink.innerHTML = docLinkHtml;\n",
              "          element.appendChild(docLink);\n",
              "        }\n",
              "      </script>\n",
              "    </div>\n",
              "  </div>\n",
              "  "
            ]
          },
          "metadata": {},
          "execution_count": 65
        }
      ]
    },
    {
      "cell_type": "markdown",
      "source": [
        "\n",
        "*   increment_code: 0 - Bullet, 1 - Blitz, 2 - Standard i 3 - Classical\n",
        "*   winner: white - 1, Black - 2, Draw - 0\n",
        "*   rated: 1 - yes, 0 - no\n",
        "*   victory_status: 0 - Draw, 1 - Out of time, 2 - resign, 3 - mate\n",
        "\n"
      ],
      "metadata": {
        "id": "15facPELfsa5"
      }
    },
    {
      "cell_type": "code",
      "source": [
        "print(\"White min-max:\")\n",
        "print(min(dd.white_rating), max(dd.white_rating))\n",
        "print()\n",
        "print(\"Black min-max:\")\n",
        "print(min(dd.black_rating), max(dd.black_rating))\n",
        "print()\n",
        "print(\"turns min-max:\")\n",
        "print(min(dd.turns), max(dd.turns))"
      ],
      "metadata": {
        "colab": {
          "base_uri": "https://localhost:8080/"
        },
        "id": "a1P9IyKdlV0c",
        "outputId": "ba460b1e-3aca-4f68-b352-19caa76f6821"
      },
      "execution_count": null,
      "outputs": [
        {
          "output_type": "stream",
          "name": "stdout",
          "text": [
            "White min-max:\n",
            "784 2700\n",
            "\n",
            "Black min-max:\n",
            "789 2723\n",
            "\n",
            "turns min-max:\n",
            "1 349\n"
          ]
        }
      ]
    },
    {
      "cell_type": "markdown",
      "source": [
        "Vidimo da u ovim atributima nema ekstremnih vrednosti"
      ],
      "metadata": {
        "id": "gKy9z7ckofUF"
      }
    }
  ],
  "metadata": {
    "colab": {
      "provenance": [],
      "toc_visible": true
    },
    "kernelspec": {
      "display_name": "Python 3",
      "name": "python3"
    },
    "language_info": {
      "name": "python"
    }
  },
  "nbformat": 4,
  "nbformat_minor": 0
}