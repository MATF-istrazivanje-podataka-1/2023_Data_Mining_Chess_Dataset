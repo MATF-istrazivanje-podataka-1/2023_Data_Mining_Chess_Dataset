{
  "cells": [
    {
      "cell_type": "code",
      "source": [
        "import pandas as pd\n",
        "import numpy as np\n",
        "import matplotlib.pyplot as plt\n",
        "import seaborn as sns\n",
        "\n",
        "data = pd.read_csv('https://raw.githubusercontent.com/MATF-istrazivanje-podataka-1/2023_Data_Mining_Chess_Dataset/main/data/games.csv')"
      ],
      "metadata": {
        "id": "X9kkVGqVrvl_"
      },
      "execution_count": 10,
      "outputs": []
    },
    {
      "cell_type": "markdown",
      "source": [
        "# Opste informacije o skupu"
      ],
      "metadata": {
        "id": "0yhHI9U10dY4"
      }
    },
    {
      "cell_type": "code",
      "source": [
        "data.shape"
      ],
      "metadata": {
        "colab": {
          "base_uri": "https://localhost:8080/"
        },
        "id": "D_N_Rjv_0YYk",
        "outputId": "0d8dd218-b4e5-4f73-970a-92786b3847f8"
      },
      "execution_count": 11,
      "outputs": [
        {
          "output_type": "execute_result",
          "data": {
            "text/plain": [
              "(19108, 17)"
            ]
          },
          "metadata": {},
          "execution_count": 11
        }
      ]
    },
    {
      "cell_type": "code",
      "source": [
        "data.head()"
      ],
      "metadata": {
        "colab": {
          "base_uri": "https://localhost:8080/",
          "height": 1000
        },
        "id": "f2bPDwOZYnEA",
        "outputId": "ddd882b8-b285-4b1e-910c-7ec007a88694"
      },
      "execution_count": 13,
      "outputs": [
        {
          "output_type": "execute_result",
          "data": {
            "text/plain": [
              "   Unnamed: 0        id  rated    created_at  last_move_at  turns  \\\n",
              "0           0  TZJHLljE  False  1.504210e+12  1.504210e+12     13   \n",
              "1           1  l1NXvwaE   True  1.504130e+12  1.504130e+12     16   \n",
              "2           2  mIICvQHh   True  1.504130e+12  1.504130e+12     61   \n",
              "3           3  kWKvrqYL   True  1.504110e+12  1.504110e+12     61   \n",
              "4           4  9tXo1AUZ   True  1.504030e+12  1.504030e+12     95   \n",
              "\n",
              "  victory_status winner increment_code       white_id  white_rating  \\\n",
              "0      outoftime  white           15+2       bourgris          1500   \n",
              "1         resign  black           5+10           a-00          1322   \n",
              "2           mate  white           5+10         ischia          1496   \n",
              "3           mate  white           20+0  daniamurashov          1439   \n",
              "4           mate  white           30+3      nik221107          1523   \n",
              "\n",
              "       black_id  black_rating  \\\n",
              "0          a-00          1191   \n",
              "1     skinnerua          1261   \n",
              "2          a-00          1500   \n",
              "3  adivanov2009          1454   \n",
              "4  adivanov2009          1469   \n",
              "\n",
              "                                               moves opening_eco  \\\n",
              "0  d4 d5 c4 c6 cxd5 e6 dxe6 fxe6 Nf3 Bb4+ Nc3 Ba5...         D10   \n",
              "1  d4 Nc6 e4 e5 f4 f6 dxe5 fxe5 fxe5 Nxe5 Qd4 Nc6...         B00   \n",
              "2  e4 e5 d3 d6 Be3 c6 Be2 b5 Nd2 a5 a4 c5 axb5 Nc...         C20   \n",
              "3  d4 d5 Nf3 Bf5 Nc3 Nf6 Bf4 Ng4 e3 Nc6 Be2 Qd7 O...         D02   \n",
              "4  e4 e5 Nf3 d6 d4 Nc6 d5 Nb4 a3 Na6 Nc3 Be7 b4 N...         C41   \n",
              "\n",
              "                             opening_name  opening_ply  \n",
              "0        Slav Defense: Exchange Variation            5  \n",
              "1  Nimzowitsch Defense: Kennedy Variation            4  \n",
              "2   King's Pawn Game: Leonardis Variation            3  \n",
              "3  Queen's Pawn Game: Zukertort Variation            3  \n",
              "4                        Philidor Defense            5  "
            ],
            "text/html": [
              "\n",
              "  <div id=\"df-24eb88a3-ceb5-48e0-9069-a15d84f4dfaf\">\n",
              "    <div class=\"colab-df-container\">\n",
              "      <div>\n",
              "<style scoped>\n",
              "    .dataframe tbody tr th:only-of-type {\n",
              "        vertical-align: middle;\n",
              "    }\n",
              "\n",
              "    .dataframe tbody tr th {\n",
              "        vertical-align: top;\n",
              "    }\n",
              "\n",
              "    .dataframe thead th {\n",
              "        text-align: right;\n",
              "    }\n",
              "</style>\n",
              "<table border=\"1\" class=\"dataframe\">\n",
              "  <thead>\n",
              "    <tr style=\"text-align: right;\">\n",
              "      <th></th>\n",
              "      <th>Unnamed: 0</th>\n",
              "      <th>id</th>\n",
              "      <th>rated</th>\n",
              "      <th>created_at</th>\n",
              "      <th>last_move_at</th>\n",
              "      <th>turns</th>\n",
              "      <th>victory_status</th>\n",
              "      <th>winner</th>\n",
              "      <th>increment_code</th>\n",
              "      <th>white_id</th>\n",
              "      <th>white_rating</th>\n",
              "      <th>black_id</th>\n",
              "      <th>black_rating</th>\n",
              "      <th>moves</th>\n",
              "      <th>opening_eco</th>\n",
              "      <th>opening_name</th>\n",
              "      <th>opening_ply</th>\n",
              "    </tr>\n",
              "  </thead>\n",
              "  <tbody>\n",
              "    <tr>\n",
              "      <th>0</th>\n",
              "      <td>0</td>\n",
              "      <td>TZJHLljE</td>\n",
              "      <td>False</td>\n",
              "      <td>1.504210e+12</td>\n",
              "      <td>1.504210e+12</td>\n",
              "      <td>13</td>\n",
              "      <td>outoftime</td>\n",
              "      <td>white</td>\n",
              "      <td>15+2</td>\n",
              "      <td>bourgris</td>\n",
              "      <td>1500</td>\n",
              "      <td>a-00</td>\n",
              "      <td>1191</td>\n",
              "      <td>d4 d5 c4 c6 cxd5 e6 dxe6 fxe6 Nf3 Bb4+ Nc3 Ba5...</td>\n",
              "      <td>D10</td>\n",
              "      <td>Slav Defense: Exchange Variation</td>\n",
              "      <td>5</td>\n",
              "    </tr>\n",
              "    <tr>\n",
              "      <th>1</th>\n",
              "      <td>1</td>\n",
              "      <td>l1NXvwaE</td>\n",
              "      <td>True</td>\n",
              "      <td>1.504130e+12</td>\n",
              "      <td>1.504130e+12</td>\n",
              "      <td>16</td>\n",
              "      <td>resign</td>\n",
              "      <td>black</td>\n",
              "      <td>5+10</td>\n",
              "      <td>a-00</td>\n",
              "      <td>1322</td>\n",
              "      <td>skinnerua</td>\n",
              "      <td>1261</td>\n",
              "      <td>d4 Nc6 e4 e5 f4 f6 dxe5 fxe5 fxe5 Nxe5 Qd4 Nc6...</td>\n",
              "      <td>B00</td>\n",
              "      <td>Nimzowitsch Defense: Kennedy Variation</td>\n",
              "      <td>4</td>\n",
              "    </tr>\n",
              "    <tr>\n",
              "      <th>2</th>\n",
              "      <td>2</td>\n",
              "      <td>mIICvQHh</td>\n",
              "      <td>True</td>\n",
              "      <td>1.504130e+12</td>\n",
              "      <td>1.504130e+12</td>\n",
              "      <td>61</td>\n",
              "      <td>mate</td>\n",
              "      <td>white</td>\n",
              "      <td>5+10</td>\n",
              "      <td>ischia</td>\n",
              "      <td>1496</td>\n",
              "      <td>a-00</td>\n",
              "      <td>1500</td>\n",
              "      <td>e4 e5 d3 d6 Be3 c6 Be2 b5 Nd2 a5 a4 c5 axb5 Nc...</td>\n",
              "      <td>C20</td>\n",
              "      <td>King's Pawn Game: Leonardis Variation</td>\n",
              "      <td>3</td>\n",
              "    </tr>\n",
              "    <tr>\n",
              "      <th>3</th>\n",
              "      <td>3</td>\n",
              "      <td>kWKvrqYL</td>\n",
              "      <td>True</td>\n",
              "      <td>1.504110e+12</td>\n",
              "      <td>1.504110e+12</td>\n",
              "      <td>61</td>\n",
              "      <td>mate</td>\n",
              "      <td>white</td>\n",
              "      <td>20+0</td>\n",
              "      <td>daniamurashov</td>\n",
              "      <td>1439</td>\n",
              "      <td>adivanov2009</td>\n",
              "      <td>1454</td>\n",
              "      <td>d4 d5 Nf3 Bf5 Nc3 Nf6 Bf4 Ng4 e3 Nc6 Be2 Qd7 O...</td>\n",
              "      <td>D02</td>\n",
              "      <td>Queen's Pawn Game: Zukertort Variation</td>\n",
              "      <td>3</td>\n",
              "    </tr>\n",
              "    <tr>\n",
              "      <th>4</th>\n",
              "      <td>4</td>\n",
              "      <td>9tXo1AUZ</td>\n",
              "      <td>True</td>\n",
              "      <td>1.504030e+12</td>\n",
              "      <td>1.504030e+12</td>\n",
              "      <td>95</td>\n",
              "      <td>mate</td>\n",
              "      <td>white</td>\n",
              "      <td>30+3</td>\n",
              "      <td>nik221107</td>\n",
              "      <td>1523</td>\n",
              "      <td>adivanov2009</td>\n",
              "      <td>1469</td>\n",
              "      <td>e4 e5 Nf3 d6 d4 Nc6 d5 Nb4 a3 Na6 Nc3 Be7 b4 N...</td>\n",
              "      <td>C41</td>\n",
              "      <td>Philidor Defense</td>\n",
              "      <td>5</td>\n",
              "    </tr>\n",
              "  </tbody>\n",
              "</table>\n",
              "</div>\n",
              "      <button class=\"colab-df-convert\" onclick=\"convertToInteractive('df-24eb88a3-ceb5-48e0-9069-a15d84f4dfaf')\"\n",
              "              title=\"Convert this dataframe to an interactive table.\"\n",
              "              style=\"display:none;\">\n",
              "        \n",
              "  <svg xmlns=\"http://www.w3.org/2000/svg\" height=\"24px\"viewBox=\"0 0 24 24\"\n",
              "       width=\"24px\">\n",
              "    <path d=\"M0 0h24v24H0V0z\" fill=\"none\"/>\n",
              "    <path d=\"M18.56 5.44l.94 2.06.94-2.06 2.06-.94-2.06-.94-.94-2.06-.94 2.06-2.06.94zm-11 1L8.5 8.5l.94-2.06 2.06-.94-2.06-.94L8.5 2.5l-.94 2.06-2.06.94zm10 10l.94 2.06.94-2.06 2.06-.94-2.06-.94-.94-2.06-.94 2.06-2.06.94z\"/><path d=\"M17.41 7.96l-1.37-1.37c-.4-.4-.92-.59-1.43-.59-.52 0-1.04.2-1.43.59L10.3 9.45l-7.72 7.72c-.78.78-.78 2.05 0 2.83L4 21.41c.39.39.9.59 1.41.59.51 0 1.02-.2 1.41-.59l7.78-7.78 2.81-2.81c.8-.78.8-2.07 0-2.86zM5.41 20L4 18.59l7.72-7.72 1.47 1.35L5.41 20z\"/>\n",
              "  </svg>\n",
              "      </button>\n",
              "      \n",
              "  <style>\n",
              "    .colab-df-container {\n",
              "      display:flex;\n",
              "      flex-wrap:wrap;\n",
              "      gap: 12px;\n",
              "    }\n",
              "\n",
              "    .colab-df-convert {\n",
              "      background-color: #E8F0FE;\n",
              "      border: none;\n",
              "      border-radius: 50%;\n",
              "      cursor: pointer;\n",
              "      display: none;\n",
              "      fill: #1967D2;\n",
              "      height: 32px;\n",
              "      padding: 0 0 0 0;\n",
              "      width: 32px;\n",
              "    }\n",
              "\n",
              "    .colab-df-convert:hover {\n",
              "      background-color: #E2EBFA;\n",
              "      box-shadow: 0px 1px 2px rgba(60, 64, 67, 0.3), 0px 1px 3px 1px rgba(60, 64, 67, 0.15);\n",
              "      fill: #174EA6;\n",
              "    }\n",
              "\n",
              "    [theme=dark] .colab-df-convert {\n",
              "      background-color: #3B4455;\n",
              "      fill: #D2E3FC;\n",
              "    }\n",
              "\n",
              "    [theme=dark] .colab-df-convert:hover {\n",
              "      background-color: #434B5C;\n",
              "      box-shadow: 0px 1px 3px 1px rgba(0, 0, 0, 0.15);\n",
              "      filter: drop-shadow(0px 1px 2px rgba(0, 0, 0, 0.3));\n",
              "      fill: #FFFFFF;\n",
              "    }\n",
              "  </style>\n",
              "\n",
              "      <script>\n",
              "        const buttonEl =\n",
              "          document.querySelector('#df-24eb88a3-ceb5-48e0-9069-a15d84f4dfaf button.colab-df-convert');\n",
              "        buttonEl.style.display =\n",
              "          google.colab.kernel.accessAllowed ? 'block' : 'none';\n",
              "\n",
              "        async function convertToInteractive(key) {\n",
              "          const element = document.querySelector('#df-24eb88a3-ceb5-48e0-9069-a15d84f4dfaf');\n",
              "          const dataTable =\n",
              "            await google.colab.kernel.invokeFunction('convertToInteractive',\n",
              "                                                     [key], {});\n",
              "          if (!dataTable) return;\n",
              "\n",
              "          const docLinkHtml = 'Like what you see? Visit the ' +\n",
              "            '<a target=\"_blank\" href=https://colab.research.google.com/notebooks/data_table.ipynb>data table notebook</a>'\n",
              "            + ' to learn more about interactive tables.';\n",
              "          element.innerHTML = '';\n",
              "          dataTable['output_type'] = 'display_data';\n",
              "          await google.colab.output.renderOutput(dataTable, element);\n",
              "          const docLink = document.createElement('div');\n",
              "          docLink.innerHTML = docLinkHtml;\n",
              "          element.appendChild(docLink);\n",
              "        }\n",
              "      </script>\n",
              "    </div>\n",
              "  </div>\n",
              "  "
            ]
          },
          "metadata": {},
          "execution_count": 13
        }
      ]
    },
    {
      "cell_type": "code",
      "source": [
        "data.drop(columns='Unnamed: 0',inplace=True)"
      ],
      "metadata": {
        "id": "xvTmGSW6b44o"
      },
      "execution_count": 17,
      "outputs": []
    },
    {
      "cell_type": "code",
      "source": [
        "data.info()"
      ],
      "metadata": {
        "id": "RywuT83xdPnR",
        "colab": {
          "base_uri": "https://localhost:8080/"
        },
        "outputId": "55fbaf7c-90d3-4603-d825-fd649be97180"
      },
      "execution_count": 18,
      "outputs": [
        {
          "output_type": "stream",
          "name": "stdout",
          "text": [
            "<class 'pandas.core.frame.DataFrame'>\n",
            "RangeIndex: 19108 entries, 0 to 19107\n",
            "Data columns (total 16 columns):\n",
            " #   Column          Non-Null Count  Dtype  \n",
            "---  ------          --------------  -----  \n",
            " 0   id              19108 non-null  object \n",
            " 1   rated           19108 non-null  bool   \n",
            " 2   created_at      19108 non-null  float64\n",
            " 3   last_move_at    19108 non-null  float64\n",
            " 4   turns           19108 non-null  int64  \n",
            " 5   victory_status  19108 non-null  object \n",
            " 6   winner          19108 non-null  object \n",
            " 7   increment_code  19108 non-null  object \n",
            " 8   white_id        19108 non-null  object \n",
            " 9   white_rating    19108 non-null  int64  \n",
            " 10  black_id        19108 non-null  object \n",
            " 11  black_rating    19108 non-null  int64  \n",
            " 12  moves           19108 non-null  object \n",
            " 13  opening_eco     19108 non-null  object \n",
            " 14  opening_name    19108 non-null  object \n",
            " 15  opening_ply     19108 non-null  int64  \n",
            "dtypes: bool(1), float64(2), int64(4), object(9)\n",
            "memory usage: 2.2+ MB\n"
          ]
        }
      ]
    },
    {
      "cell_type": "code",
      "source": [
        "data.victory_status.unique()"
      ],
      "metadata": {
        "colab": {
          "base_uri": "https://localhost:8080/"
        },
        "id": "8T5FofQqaNIg",
        "outputId": "0b2df6f4-637e-490c-998a-cb4cdfbdfd28"
      },
      "execution_count": 31,
      "outputs": [
        {
          "output_type": "execute_result",
          "data": {
            "text/plain": [
              "array(['outoftime', 'resign', 'mate'], dtype=object)"
            ]
          },
          "metadata": {},
          "execution_count": 31
        }
      ]
    },
    {
      "cell_type": "code",
      "source": [
        "data.winner.unique()"
      ],
      "metadata": {
        "colab": {
          "base_uri": "https://localhost:8080/"
        },
        "id": "9-sd3t_4ZAZ2",
        "outputId": "1c0d28f6-3b2b-4996-aa5a-994f6d4b02e6"
      },
      "execution_count": 20,
      "outputs": [
        {
          "output_type": "execute_result",
          "data": {
            "text/plain": [
              "array(['white', 'black'], dtype=object)"
            ]
          },
          "metadata": {},
          "execution_count": 20
        }
      ]
    },
    {
      "cell_type": "code",
      "source": [
        "data.increment_code[:10]"
      ],
      "metadata": {
        "colab": {
          "base_uri": "https://localhost:8080/"
        },
        "id": "c347TKzBZFou",
        "outputId": "444ceadb-d866-43f2-d0f0-b1072ce1ac27"
      },
      "execution_count": 23,
      "outputs": [
        {
          "output_type": "execute_result",
          "data": {
            "text/plain": [
              "0     15+2\n",
              "1     5+10\n",
              "2     5+10\n",
              "3     20+0\n",
              "4     30+3\n",
              "5     10+0\n",
              "6    15+30\n",
              "7     15+0\n",
              "8     10+0\n",
              "9    20+60\n",
              "Name: increment_code, dtype: object"
            ]
          },
          "metadata": {},
          "execution_count": 23
        }
      ]
    },
    {
      "cell_type": "code",
      "source": [
        "data.drop(columns=['created_at', 'last_move_at'], inplace=True)# brisemo dve kolone koje nam ne trebaju"
      ],
      "metadata": {
        "id": "RpVZEw61eRrD"
      },
      "execution_count": 27,
      "outputs": []
    },
    {
      "cell_type": "code",
      "source": [
        "data.describe()"
      ],
      "metadata": {
        "id": "djtyEdi8dkX4",
        "colab": {
          "base_uri": "https://localhost:8080/",
          "height": 300
        },
        "outputId": "9f241f12-2e21-49bc-af0f-11c3f2d2addc"
      },
      "execution_count": 28,
      "outputs": [
        {
          "output_type": "execute_result",
          "data": {
            "text/plain": [
              "              turns  white_rating  black_rating   opening_ply\n",
              "count  19108.000000  19108.000000  19108.000000  19108.000000\n",
              "mean      59.188664   1593.702167   1586.227863      4.805055\n",
              "std       32.310010    289.949727    290.146458      2.782938\n",
              "min        1.000000    784.000000    789.000000      1.000000\n",
              "25%       37.000000   1395.000000   1389.000000      3.000000\n",
              "50%       54.000000   1564.000000   1560.000000      4.000000\n",
              "75%       77.000000   1788.000000   1781.000000      6.000000\n",
              "max      349.000000   2700.000000   2723.000000     28.000000"
            ],
            "text/html": [
              "\n",
              "  <div id=\"df-a1cb8b7d-11e1-4b07-a630-ab5cfc818354\">\n",
              "    <div class=\"colab-df-container\">\n",
              "      <div>\n",
              "<style scoped>\n",
              "    .dataframe tbody tr th:only-of-type {\n",
              "        vertical-align: middle;\n",
              "    }\n",
              "\n",
              "    .dataframe tbody tr th {\n",
              "        vertical-align: top;\n",
              "    }\n",
              "\n",
              "    .dataframe thead th {\n",
              "        text-align: right;\n",
              "    }\n",
              "</style>\n",
              "<table border=\"1\" class=\"dataframe\">\n",
              "  <thead>\n",
              "    <tr style=\"text-align: right;\">\n",
              "      <th></th>\n",
              "      <th>turns</th>\n",
              "      <th>white_rating</th>\n",
              "      <th>black_rating</th>\n",
              "      <th>opening_ply</th>\n",
              "    </tr>\n",
              "  </thead>\n",
              "  <tbody>\n",
              "    <tr>\n",
              "      <th>count</th>\n",
              "      <td>19108.000000</td>\n",
              "      <td>19108.000000</td>\n",
              "      <td>19108.000000</td>\n",
              "      <td>19108.000000</td>\n",
              "    </tr>\n",
              "    <tr>\n",
              "      <th>mean</th>\n",
              "      <td>59.188664</td>\n",
              "      <td>1593.702167</td>\n",
              "      <td>1586.227863</td>\n",
              "      <td>4.805055</td>\n",
              "    </tr>\n",
              "    <tr>\n",
              "      <th>std</th>\n",
              "      <td>32.310010</td>\n",
              "      <td>289.949727</td>\n",
              "      <td>290.146458</td>\n",
              "      <td>2.782938</td>\n",
              "    </tr>\n",
              "    <tr>\n",
              "      <th>min</th>\n",
              "      <td>1.000000</td>\n",
              "      <td>784.000000</td>\n",
              "      <td>789.000000</td>\n",
              "      <td>1.000000</td>\n",
              "    </tr>\n",
              "    <tr>\n",
              "      <th>25%</th>\n",
              "      <td>37.000000</td>\n",
              "      <td>1395.000000</td>\n",
              "      <td>1389.000000</td>\n",
              "      <td>3.000000</td>\n",
              "    </tr>\n",
              "    <tr>\n",
              "      <th>50%</th>\n",
              "      <td>54.000000</td>\n",
              "      <td>1564.000000</td>\n",
              "      <td>1560.000000</td>\n",
              "      <td>4.000000</td>\n",
              "    </tr>\n",
              "    <tr>\n",
              "      <th>75%</th>\n",
              "      <td>77.000000</td>\n",
              "      <td>1788.000000</td>\n",
              "      <td>1781.000000</td>\n",
              "      <td>6.000000</td>\n",
              "    </tr>\n",
              "    <tr>\n",
              "      <th>max</th>\n",
              "      <td>349.000000</td>\n",
              "      <td>2700.000000</td>\n",
              "      <td>2723.000000</td>\n",
              "      <td>28.000000</td>\n",
              "    </tr>\n",
              "  </tbody>\n",
              "</table>\n",
              "</div>\n",
              "      <button class=\"colab-df-convert\" onclick=\"convertToInteractive('df-a1cb8b7d-11e1-4b07-a630-ab5cfc818354')\"\n",
              "              title=\"Convert this dataframe to an interactive table.\"\n",
              "              style=\"display:none;\">\n",
              "        \n",
              "  <svg xmlns=\"http://www.w3.org/2000/svg\" height=\"24px\"viewBox=\"0 0 24 24\"\n",
              "       width=\"24px\">\n",
              "    <path d=\"M0 0h24v24H0V0z\" fill=\"none\"/>\n",
              "    <path d=\"M18.56 5.44l.94 2.06.94-2.06 2.06-.94-2.06-.94-.94-2.06-.94 2.06-2.06.94zm-11 1L8.5 8.5l.94-2.06 2.06-.94-2.06-.94L8.5 2.5l-.94 2.06-2.06.94zm10 10l.94 2.06.94-2.06 2.06-.94-2.06-.94-.94-2.06-.94 2.06-2.06.94z\"/><path d=\"M17.41 7.96l-1.37-1.37c-.4-.4-.92-.59-1.43-.59-.52 0-1.04.2-1.43.59L10.3 9.45l-7.72 7.72c-.78.78-.78 2.05 0 2.83L4 21.41c.39.39.9.59 1.41.59.51 0 1.02-.2 1.41-.59l7.78-7.78 2.81-2.81c.8-.78.8-2.07 0-2.86zM5.41 20L4 18.59l7.72-7.72 1.47 1.35L5.41 20z\"/>\n",
              "  </svg>\n",
              "      </button>\n",
              "      \n",
              "  <style>\n",
              "    .colab-df-container {\n",
              "      display:flex;\n",
              "      flex-wrap:wrap;\n",
              "      gap: 12px;\n",
              "    }\n",
              "\n",
              "    .colab-df-convert {\n",
              "      background-color: #E8F0FE;\n",
              "      border: none;\n",
              "      border-radius: 50%;\n",
              "      cursor: pointer;\n",
              "      display: none;\n",
              "      fill: #1967D2;\n",
              "      height: 32px;\n",
              "      padding: 0 0 0 0;\n",
              "      width: 32px;\n",
              "    }\n",
              "\n",
              "    .colab-df-convert:hover {\n",
              "      background-color: #E2EBFA;\n",
              "      box-shadow: 0px 1px 2px rgba(60, 64, 67, 0.3), 0px 1px 3px 1px rgba(60, 64, 67, 0.15);\n",
              "      fill: #174EA6;\n",
              "    }\n",
              "\n",
              "    [theme=dark] .colab-df-convert {\n",
              "      background-color: #3B4455;\n",
              "      fill: #D2E3FC;\n",
              "    }\n",
              "\n",
              "    [theme=dark] .colab-df-convert:hover {\n",
              "      background-color: #434B5C;\n",
              "      box-shadow: 0px 1px 3px 1px rgba(0, 0, 0, 0.15);\n",
              "      filter: drop-shadow(0px 1px 2px rgba(0, 0, 0, 0.3));\n",
              "      fill: #FFFFFF;\n",
              "    }\n",
              "  </style>\n",
              "\n",
              "      <script>\n",
              "        const buttonEl =\n",
              "          document.querySelector('#df-a1cb8b7d-11e1-4b07-a630-ab5cfc818354 button.colab-df-convert');\n",
              "        buttonEl.style.display =\n",
              "          google.colab.kernel.accessAllowed ? 'block' : 'none';\n",
              "\n",
              "        async function convertToInteractive(key) {\n",
              "          const element = document.querySelector('#df-a1cb8b7d-11e1-4b07-a630-ab5cfc818354');\n",
              "          const dataTable =\n",
              "            await google.colab.kernel.invokeFunction('convertToInteractive',\n",
              "                                                     [key], {});\n",
              "          if (!dataTable) return;\n",
              "\n",
              "          const docLinkHtml = 'Like what you see? Visit the ' +\n",
              "            '<a target=\"_blank\" href=https://colab.research.google.com/notebooks/data_table.ipynb>data table notebook</a>'\n",
              "            + ' to learn more about interactive tables.';\n",
              "          element.innerHTML = '';\n",
              "          dataTable['output_type'] = 'display_data';\n",
              "          await google.colab.output.renderOutput(dataTable, element);\n",
              "          const docLink = document.createElement('div');\n",
              "          docLink.innerHTML = docLinkHtml;\n",
              "          element.appendChild(docLink);\n",
              "        }\n",
              "      </script>\n",
              "    </div>\n",
              "  </div>\n",
              "  "
            ]
          },
          "metadata": {},
          "execution_count": 28
        }
      ]
    },
    {
      "cell_type": "markdown",
      "source": [
        "# Neke zanimljive statistike skupa"
      ],
      "metadata": {
        "id": "NV6cD6Z90KfS"
      }
    },
    {
      "cell_type": "code",
      "source": [
        "no_wWins=data.loc[data.winner=='white'].shape[0]\n",
        "no_bWins = data.loc[data.winner=='black'].shape[0]\n",
        "print(no_wWins, no_bWins)\n",
        "#broj pobeda belih i crnih \n"
      ],
      "metadata": {
        "colab": {
          "base_uri": "https://localhost:8080/"
        },
        "id": "gev5TG6GfmTV",
        "outputId": "033ebeda-75f1-4782-dad5-af43f5762622"
      },
      "execution_count": 32,
      "outputs": [
        {
          "output_type": "stream",
          "name": "stdout",
          "text": [
            "10001 9107\n"
          ]
        }
      ]
    },
    {
      "cell_type": "code",
      "source": [
        "plt.bar(['WHITE', 'BLACK'], [no_wWins, no_bWins])\n",
        "plt.ylabel('Number of games')\n",
        "plt.title('Game outcomes')\n",
        "plt.show()"
      ],
      "metadata": {
        "id": "lMaB_jFci9CC",
        "colab": {
          "base_uri": "https://localhost:8080/",
          "height": 452
        },
        "outputId": "0363e9e0-f2dd-4ca8-efd7-d34c900691aa"
      },
      "execution_count": 33,
      "outputs": [
        {
          "output_type": "display_data",
          "data": {
            "text/plain": [
              "<Figure size 640x480 with 1 Axes>"
            ],
            "image/png": "[encoded data removed]"
          },
          "metadata": {}
        }
      ]
    },
    {
      "cell_type": "code",
      "source": [
        "openings = data.opening_name.to_numpy()\n",
        "unique, counts = np.unique(openings, return_counts=True)\n",
        "op_played = dict(zip(unique,counts))\n",
        "op_sorted=sorted(op_played.items(),key=lambda x:x[1],reverse=True)\n",
        "# max(op_played.values())\n",
        "\n",
        "most_common_tuple=list()\n",
        "for i in range(7):\n",
        "  most_common_tuple.append(op_sorted[i])\n",
        "most_common_tuple\n",
        "m_common = map(lambda x: x[0], most_common_tuple)\n",
        "m_common_app = map(lambda x: x[1], most_common_tuple)\n",
        "mc_list=list(m_common)\n",
        "mc_list_app=list(m_common_app)\n"
      ],
      "metadata": {
        "id": "PYgK7E7Duwuf"
      },
      "execution_count": 34,
      "outputs": []
    },
    {
      "cell_type": "code",
      "source": [
        "plt.figure(figsize=(10,5))\n",
        "plt.barh(mc_list,mc_list_app,color='maroon')\n",
        "plt.ylabel('Opening name')\n",
        "plt.xlabel('Number of games each opening has appeared in')\n",
        "plt.title('Appearances of most common openings')\n",
        "plt.show()"
      ],
      "metadata": {
        "id": "Zq4Iex7YVdJ8",
        "colab": {
          "base_uri": "https://localhost:8080/",
          "height": 487
        },
        "outputId": "45e7524e-afe7-4dc9-ef34-6cb48332ca0b"
      },
      "execution_count": 35,
      "outputs": [
        {
          "output_type": "display_data",
          "data": {
            "text/plain": [
              "<Figure size 1000x500 with 1 Axes>"
            ],
            "image/png": "[encoded data removed]"
          },
          "metadata": {}
        }
      ]
    },
    {
      "cell_type": "code",
      "source": [
        "# Zelimo da vidimo odredjeni broj poteza kako izgleda sicilijanka. Uzeli smo rejtinge vece od 2200 jer zelimo da vidimo dobre igrace kako igraju\n",
        "sicilian=data.loc[(data.opening_name==op_sorted[1][0]) & (data.black_rating>=2000) & ((data.white_rating>=2000))]\n",
        "sicilian.head()\n",
        "sicilian_ply=round(sicilian.opening_ply.mean()) # koliko u proseku traje otvaranje\n",
        "sicilian_ply\n",
        "sicilian.iloc[1].moves\n",
        "def extract_moves(potezi):\n",
        "  no_spaces = 0\n",
        "  j = 0\n",
        "  for i in potezi:\n",
        "    if i==' ':\n",
        "      no_spaces+=1\n",
        "    j+=1\n",
        "    if no_spaces==2*sicilian_ply:\n",
        "      return potezi[0:j-1]\n",
        "sicilian"
      ],
      "metadata": {
        "id": "HhZ-FZ9cG7DG",
        "colab": {
          "base_uri": "https://localhost:8080/",
          "height": 1000
        },
        "outputId": "f7025aa6-1446-4e16-a2b8-3c9fb4c7727f"
      },
      "execution_count": 36,
      "outputs": [
        {
          "output_type": "execute_result",
          "data": {
            "text/plain": [
              "             id  rated  turns victory_status winner increment_code  \\\n",
              "2974   Lwbb2x5M   True    122         resign  black            7+4   \n",
              "2981   C78HIxXU   True     93         resign  white            7+4   \n",
              "5188   kuw0jpH8   True     82         resign  black          30+10   \n",
              "7733   XnkPzt9n   True    118           mate  black           20+0   \n",
              "12896  M7DQMNCz   True    110           mate  black           10+0   \n",
              "18105  eNbs0Oew   True    140           mate  black          180+5   \n",
              "\n",
              "              white_id  white_rating       black_id  black_rating  \\\n",
              "2974      meccanoidg15          2176           meoc          2027   \n",
              "2981      meccanoidg15          2129       wadim001          2088   \n",
              "5188         bishopson          2181         vanraj          2153   \n",
              "7733            minhad          2017         tupson          2232   \n",
              "12896         mursi_99          2025       mmichael          2194   \n",
              "18105  queen-of-hearts          2069  chessmageddon          2223   \n",
              "\n",
              "                                                   moves opening_eco  \\\n",
              "2974   e4 c5 Be2 e6 f4 Qc7 d3 Nc6 Nf3 Be7 O-O Nf6 Kh1...         B20   \n",
              "2981   e4 c5 Nf3 d6 Bc4 e6 Nc3 a6 d3 h6 Bf4 g5 Be3 Bg...         B50   \n",
              "5188   e4 c5 Nf3 d6 Bd3 Nf6 c3 a6 Bc2 g6 O-O Bg7 Re1 ...         B50   \n",
              "7733   e4 c5 d3 Nc6 Nf3 e5 Nbd2 Nf6 g3 Be7 Bg2 d6 O-O...         B20   \n",
              "12896  e4 c5 Nf3 d6 Bc4 Nf6 Nc3 Nc6 d3 e6 a3 Be7 g4 N...         B50   \n",
              "18105  e4 c5 Nf3 d6 Nc3 Nf6 g3 Nc6 Bg2 e6 d3 Be7 O-O ...         B50   \n",
              "\n",
              "           opening_name  opening_ply  \n",
              "2974   Sicilian Defense            2  \n",
              "2981   Sicilian Defense            4  \n",
              "5188   Sicilian Defense            4  \n",
              "7733   Sicilian Defense            2  \n",
              "12896  Sicilian Defense            4  \n",
              "18105  Sicilian Defense            4  "
            ],
            "text/html": [
              "\n",
              "  <div id=\"df-f3cf999a-090a-4217-8fe3-603387ffc448\">\n",
              "    <div class=\"colab-df-container\">\n",
              "      <div>\n",
              "<style scoped>\n",
              "    .dataframe tbody tr th:only-of-type {\n",
              "        vertical-align: middle;\n",
              "    }\n",
              "\n",
              "    .dataframe tbody tr th {\n",
              "        vertical-align: top;\n",
              "    }\n",
              "\n",
              "    .dataframe thead th {\n",
              "        text-align: right;\n",
              "    }\n",
              "</style>\n",
              "<table border=\"1\" class=\"dataframe\">\n",
              "  <thead>\n",
              "    <tr style=\"text-align: right;\">\n",
              "      <th></th>\n",
              "      <th>id</th>\n",
              "      <th>rated</th>\n",
              "      <th>turns</th>\n",
              "      <th>victory_status</th>\n",
              "      <th>winner</th>\n",
              "      <th>increment_code</th>\n",
              "      <th>white_id</th>\n",
              "      <th>white_rating</th>\n",
              "      <th>black_id</th>\n",
              "      <th>black_rating</th>\n",
              "      <th>moves</th>\n",
              "      <th>opening_eco</th>\n",
              "      <th>opening_name</th>\n",
              "      <th>opening_ply</th>\n",
              "    </tr>\n",
              "  </thead>\n",
              "  <tbody>\n",
              "    <tr>\n",
              "      <th>2974</th>\n",
              "      <td>Lwbb2x5M</td>\n",
              "      <td>True</td>\n",
              "      <td>122</td>\n",
              "      <td>resign</td>\n",
              "      <td>black</td>\n",
              "      <td>7+4</td>\n",
              "      <td>meccanoidg15</td>\n",
              "      <td>2176</td>\n",
              "      <td>meoc</td>\n",
              "      <td>2027</td>\n",
              "      <td>e4 c5 Be2 e6 f4 Qc7 d3 Nc6 Nf3 Be7 O-O Nf6 Kh1...</td>\n",
              "      <td>B20</td>\n",
              "      <td>Sicilian Defense</td>\n",
              "      <td>2</td>\n",
              "    </tr>\n",
              "    <tr>\n",
              "      <th>2981</th>\n",
              "      <td>C78HIxXU</td>\n",
              "      <td>True</td>\n",
              "      <td>93</td>\n",
              "      <td>resign</td>\n",
              "      <td>white</td>\n",
              "      <td>7+4</td>\n",
              "      <td>meccanoidg15</td>\n",
              "      <td>2129</td>\n",
              "      <td>wadim001</td>\n",
              "      <td>2088</td>\n",
              "      <td>e4 c5 Nf3 d6 Bc4 e6 Nc3 a6 d3 h6 Bf4 g5 Be3 Bg...</td>\n",
              "      <td>B50</td>\n",
              "      <td>Sicilian Defense</td>\n",
              "      <td>4</td>\n",
              "    </tr>\n",
              "    <tr>\n",
              "      <th>5188</th>\n",
              "      <td>kuw0jpH8</td>\n",
              "      <td>True</td>\n",
              "      <td>82</td>\n",
              "      <td>resign</td>\n",
              "      <td>black</td>\n",
              "      <td>30+10</td>\n",
              "      <td>bishopson</td>\n",
              "      <td>2181</td>\n",
              "      <td>vanraj</td>\n",
              "      <td>2153</td>\n",
              "      <td>e4 c5 Nf3 d6 Bd3 Nf6 c3 a6 Bc2 g6 O-O Bg7 Re1 ...</td>\n",
              "      <td>B50</td>\n",
              "      <td>Sicilian Defense</td>\n",
              "      <td>4</td>\n",
              "    </tr>\n",
              "    <tr>\n",
              "      <th>7733</th>\n",
              "      <td>XnkPzt9n</td>\n",
              "      <td>True</td>\n",
              "      <td>118</td>\n",
              "      <td>mate</td>\n",
              "      <td>black</td>\n",
              "      <td>20+0</td>\n",
              "      <td>minhad</td>\n",
              "      <td>2017</td>\n",
              "      <td>tupson</td>\n",
              "      <td>2232</td>\n",
              "      <td>e4 c5 d3 Nc6 Nf3 e5 Nbd2 Nf6 g3 Be7 Bg2 d6 O-O...</td>\n",
              "      <td>B20</td>\n",
              "      <td>Sicilian Defense</td>\n",
              "      <td>2</td>\n",
              "    </tr>\n",
              "    <tr>\n",
              "      <th>12896</th>\n",
              "      <td>M7DQMNCz</td>\n",
              "      <td>True</td>\n",
              "      <td>110</td>\n",
              "      <td>mate</td>\n",
              "      <td>black</td>\n",
              "      <td>10+0</td>\n",
              "      <td>mursi_99</td>\n",
              "      <td>2025</td>\n",
              "      <td>mmichael</td>\n",
              "      <td>2194</td>\n",
              "      <td>e4 c5 Nf3 d6 Bc4 Nf6 Nc3 Nc6 d3 e6 a3 Be7 g4 N...</td>\n",
              "      <td>B50</td>\n",
              "      <td>Sicilian Defense</td>\n",
              "      <td>4</td>\n",
              "    </tr>\n",
              "    <tr>\n",
              "      <th>18105</th>\n",
              "      <td>eNbs0Oew</td>\n",
              "      <td>True</td>\n",
              "      <td>140</td>\n",
              "      <td>mate</td>\n",
              "      <td>black</td>\n",
              "      <td>180+5</td>\n",
              "      <td>queen-of-hearts</td>\n",
              "      <td>2069</td>\n",
              "      <td>chessmageddon</td>\n",
              "      <td>2223</td>\n",
              "      <td>e4 c5 Nf3 d6 Nc3 Nf6 g3 Nc6 Bg2 e6 d3 Be7 O-O ...</td>\n",
              "      <td>B50</td>\n",
              "      <td>Sicilian Defense</td>\n",
              "      <td>4</td>\n",
              "    </tr>\n",
              "  </tbody>\n",
              "</table>\n",
              "</div>\n",
              "      <button class=\"colab-df-convert\" onclick=\"convertToInteractive('df-f3cf999a-090a-4217-8fe3-603387ffc448')\"\n",
              "              title=\"Convert this dataframe to an interactive table.\"\n",
              "              style=\"display:none;\">\n",
              "        \n",
              "  <svg xmlns=\"http://www.w3.org/2000/svg\" height=\"24px\"viewBox=\"0 0 24 24\"\n",
              "       width=\"24px\">\n",
              "    <path d=\"M0 0h24v24H0V0z\" fill=\"none\"/>\n",
              "    <path d=\"M18.56 5.44l.94 2.06.94-2.06 2.06-.94-2.06-.94-.94-2.06-.94 2.06-2.06.94zm-11 1L8.5 8.5l.94-2.06 2.06-.94-2.06-.94L8.5 2.5l-.94 2.06-2.06.94zm10 10l.94 2.06.94-2.06 2.06-.94-2.06-.94-.94-2.06-.94 2.06-2.06.94z\"/><path d=\"M17.41 7.96l-1.37-1.37c-.4-.4-.92-.59-1.43-.59-.52 0-1.04.2-1.43.59L10.3 9.45l-7.72 7.72c-.78.78-.78 2.05 0 2.83L4 21.41c.39.39.9.59 1.41.59.51 0 1.02-.2 1.41-.59l7.78-7.78 2.81-2.81c.8-.78.8-2.07 0-2.86zM5.41 20L4 18.59l7.72-7.72 1.47 1.35L5.41 20z\"/>\n",
              "  </svg>\n",
              "      </button>\n",
              "      \n",
              "  <style>\n",
              "    .colab-df-container {\n",
              "      display:flex;\n",
              "      flex-wrap:wrap;\n",
              "      gap: 12px;\n",
              "    }\n",
              "\n",
              "    .colab-df-convert {\n",
              "      background-color: #E8F0FE;\n",
              "      border: none;\n",
              "      border-radius: 50%;\n",
              "      cursor: pointer;\n",
              "      display: none;\n",
              "      fill: #1967D2;\n",
              "      height: 32px;\n",
              "      padding: 0 0 0 0;\n",
              "      width: 32px;\n",
              "    }\n",
              "\n",
              "    .colab-df-convert:hover {\n",
              "      background-color: #E2EBFA;\n",
              "      box-shadow: 0px 1px 2px rgba(60, 64, 67, 0.3), 0px 1px 3px 1px rgba(60, 64, 67, 0.15);\n",
              "      fill: #174EA6;\n",
              "    }\n",
              "\n",
              "    [theme=dark] .colab-df-convert {\n",
              "      background-color: #3B4455;\n",
              "      fill: #D2E3FC;\n",
              "    }\n",
              "\n",
              "    [theme=dark] .colab-df-convert:hover {\n",
              "      background-color: #434B5C;\n",
              "      box-shadow: 0px 1px 3px 1px rgba(0, 0, 0, 0.15);\n",
              "      filter: drop-shadow(0px 1px 2px rgba(0, 0, 0, 0.3));\n",
              "      fill: #FFFFFF;\n",
              "    }\n",
              "  </style>\n",
              "\n",
              "      <script>\n",
              "        const buttonEl =\n",
              "          document.querySelector('#df-f3cf999a-090a-4217-8fe3-603387ffc448 button.colab-df-convert');\n",
              "        buttonEl.style.display =\n",
              "          google.colab.kernel.accessAllowed ? 'block' : 'none';\n",
              "\n",
              "        async function convertToInteractive(key) {\n",
              "          const element = document.querySelector('#df-f3cf999a-090a-4217-8fe3-603387ffc448');\n",
              "          const dataTable =\n",
              "            await google.colab.kernel.invokeFunction('convertToInteractive',\n",
              "                                                     [key], {});\n",
              "          if (!dataTable) return;\n",
              "\n",
              "          const docLinkHtml = 'Like what you see? Visit the ' +\n",
              "            '<a target=\"_blank\" href=https://colab.research.google.com/notebooks/data_table.ipynb>data table notebook</a>'\n",
              "            + ' to learn more about interactive tables.';\n",
              "          element.innerHTML = '';\n",
              "          dataTable['output_type'] = 'display_data';\n",
              "          await google.colab.output.renderOutput(dataTable, element);\n",
              "          const docLink = document.createElement('div');\n",
              "          docLink.innerHTML = docLinkHtml;\n",
              "          element.appendChild(docLink);\n",
              "        }\n",
              "      </script>\n",
              "    </div>\n",
              "  </div>\n",
              "  "
            ]
          },
          "metadata": {},
          "execution_count": 36
        }
      ]
    },
    {
      "cell_type": "code",
      "source": [
        "p=extract_moves(sicilian.iloc[2].moves)\n",
        "p"
      ],
      "metadata": {
        "colab": {
          "base_uri": "https://localhost:8080/",
          "height": 35
        },
        "id": "Sl7oeUVvWiAI",
        "outputId": "6f30f844-1674-4cda-a504-dbedc91ebdbd"
      },
      "execution_count": null,
      "outputs": [
        {
          "output_type": "execute_result",
          "data": {
            "text/plain": [
              "'e4 c5 Nf3 d6 Bd3 Nf6'"
            ],
            "application/vnd.google.colaboratory.intrinsic+json": {
              "type": "string"
            }
          },
          "metadata": {},
          "execution_count": 59
        }
      ]
    },
    {
      "cell_type": "code",
      "source": [
        "from google.colab import files\n",
        "from IPython.display import Image\n",
        "uploaded = files.upload()"
      ],
      "metadata": {
        "id": "fiOAN9nDD7N7"
      },
      "execution_count": null,
      "outputs": []
    },
    {
      "cell_type": "code",
      "source": [
        "Image('sahic.png')"
      ],
      "metadata": {
        "colab": {
          "base_uri": "https://localhost:8080/",
          "height": 652
        },
        "id": "yU-n772SEHSJ",
        "outputId": "de36534f-d0c7-49a1-8fab-fb72b33b47b4"
      },
      "execution_count": null,
      "outputs": [
        {
          "output_type": "execute_result",
          "data": {
            "image/png": "[encoded data removed]",
            "text/plain": [
              "<IPython.core.display.Image object>"
            ]
          },
          "metadata": {},
          "execution_count": 128
        }
      ]
    },
    {
      "cell_type": "code",
      "source": [
        "sicilian=data.loc[data.opening_name==op_sorted[1][0]]\n",
        "sic_w=len(sicilian.loc[sicilian.winner=='white'])\n",
        "sic_b=len(sicilian.loc[sicilian.winner=='black'])\n",
        "l = list([sic_w,sic_b])\n",
        "plt.pie(l,labels=['White', 'Black'],autopct='%.2f%%')\n",
        "plt.title('Outcomes of games when Sicilian was played')\n",
        "plt.show()"
      ],
      "metadata": {
        "colab": {
          "base_uri": "https://localhost:8080/",
          "height": 428
        },
        "id": "aonikPpFtyp0",
        "outputId": "82583bfb-b7cd-47e9-f835-b38c83c6b71f"
      },
      "execution_count": 38,
      "outputs": [
        {
          "output_type": "display_data",
          "data": {
            "text/plain": [
              "<Figure size 640x480 with 1 Axes>"
            ],
            "image/png": "[encoded data removed]"
          },
          "metadata": {}
        }
      ]
    },
    {
      "cell_type": "code",
      "source": [
        "niz = sicilian.white_rating.to_numpy()\n",
        "def rasporedi(niz):\n",
        "  A=np.array([0,0,0,0])\n",
        "  for i in niz:\n",
        "    if i <=1300:\n",
        "      A[0]+=1\n",
        "    elif i<=1700:\n",
        "      A[1]+=1\n",
        "    elif i<=2100:\n",
        "      A[2]+=1\n",
        "    else: A[3]+=1\n",
        "  return A\n",
        "Beli = rasporedi(niz)\n",
        "niz = sicilian.black_rating.to_numpy()\n",
        "Crni = rasporedi(niz)"
      ],
      "metadata": {
        "id": "7RlhnTZ10yy5"
      },
      "execution_count": 39,
      "outputs": []
    },
    {
      "cell_type": "code",
      "source": [
        "X=['<=1300','1300-1700','1700-2100','>=2100']\n",
        "X_axis=np.arange(len(X))\n",
        "\n",
        "plt.bar(X_axis-0.2,Beli,0.4,label='White')\n",
        "plt.bar(X_axis+0.2,Crni,0.4,label='Black')\n",
        "\n",
        "plt.xticks(X_axis, X)\n",
        "plt.xlabel('Ratings')\n",
        "plt.ylabel('Number of players')\n",
        "plt.title('Ratings of players that play Sicilian')\n",
        "plt.legend()\n",
        "plt.show()"
      ],
      "metadata": {
        "colab": {
          "base_uri": "https://localhost:8080/",
          "height": 472
        },
        "id": "K5hKnXGNA0Hb",
        "outputId": "ed785c69-e215-4857-f8f7-b6f5b9d2aa6e"
      },
      "execution_count": 40,
      "outputs": [
        {
          "output_type": "display_data",
          "data": {
            "text/plain": [
              "<Figure size 640x480 with 1 Axes>"
            ],
            "image/png": "[encoded data removed]"
          },
          "metadata": {}
        }
      ]
    }
  ],
  "metadata": {
    "colab": {
      "provenance": []
    },
    "kernelspec": {
      "display_name": "Python 3",
      "name": "python3"
    },
    "language_info": {
      "name": "python"
    }
  },
  "nbformat": 4,
  "nbformat_minor": 0
}